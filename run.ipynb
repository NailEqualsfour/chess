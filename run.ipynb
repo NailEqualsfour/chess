![Chess%20Board%20Template.png](attachment:Chess%20Board%20Template.png)

# Board Space

class ChessSpace:
    def __init__(self, name, chess_piece, grid_color, space_value):
        self.name = name
        self.chess_piece = chess_piece
        self.grid_color = grid_color
        self.space_value = space_value

        
a8 = ChessSpace("a8", None, 'Black', 1);b8 = ChessSpace("b8", None, 'White', 1);c8 = ChessSpace("c8", None, 'Black', 1);d8 = ChessSpace("d8", None, 'White', 1);e8 = ChessSpace("e8", None, 'Black', 1);f8 = ChessSpace("f8", None, 'White', 1);g8 = ChessSpace("g8", None, 'Black', 1);h8 = ChessSpace("h8", None, 'White', 1);
a7 = ChessSpace("a7", None, 'White', 1);b7 = ChessSpace("b7", None, 'Black', 1);c7 = ChessSpace("c7", None, 'White', 1);d7 = ChessSpace("d7", None, 'Black', 1);e7 = ChessSpace("e7", None, 'White', 1);f7 = ChessSpace("f7", None, 'Black', 1);g7 = ChessSpace("g7", None, 'White', 1);h7 = ChessSpace("h7", None, 'Black', 1);
a6 = ChessSpace("a6", None, 'Black', 1);b6 = ChessSpace("b6", None, 'White', 1);c6 = ChessSpace("c6", None, 'Black', 1);d6 = ChessSpace("d6", None, 'White', 1);e6 = ChessSpace("e6", None, 'Black', 1);f6 = ChessSpace("f6", None, 'White', 1);g6 = ChessSpace("g6", None, 'Black', 1);h6 = ChessSpace("h6", None, 'White', 1);
a5 = ChessSpace("a5", None, 'White', 1);b5 = ChessSpace("b5", None, 'Black', 1);c5 = ChessSpace("c5", None, 'White', 1);d5 = ChessSpace("d5", None, 'Black', 1);e5 = ChessSpace("e5", None, 'White', 1);f5 = ChessSpace("f5", None, 'Black', 1);g5 = ChessSpace("g5", None, 'White', 1);h5 = ChessSpace("h5", None, 'Black', 1);
a4 = ChessSpace("a4", None, 'Black', 1);b4 = ChessSpace("b4", None, 'White', 1);c4 = ChessSpace("c4", None, 'Black', 1);d4 = ChessSpace("d4", None, 'White', 1);e4 = ChessSpace("e4", None, 'Black', 1);f4 = ChessSpace("f4", None, 'White', 1);g4 = ChessSpace("g4", None, 'Black', 1);h4 = ChessSpace("h4", None, 'White', 1);     
a3 = ChessSpace("a3", None, 'White', 1);b3 = ChessSpace("b3", None, 'Black', 1);c3 = ChessSpace("c3", None, 'White', 1);d3 = ChessSpace("d3", None, 'Black', 1);e3 = ChessSpace("e3", None, 'White', 1);f3 = ChessSpace("f3", None, 'Black', 1);g3 = ChessSpace("g3", None, 'White', 1);h3 = ChessSpace("h3", None, 'Black', 1);
a2 = ChessSpace("a2", None, 'Black', 1);b2 = ChessSpace("b2", None, 'White', 1);c2 = ChessSpace("c2", None, 'Black', 1);d2 = ChessSpace("d2", None, 'White', 1);e2 = ChessSpace("e2", None, 'Black', 1);f2 = ChessSpace("f2", None, 'White', 1);g2 = ChessSpace("g2", None, 'Black', 1);h2 = ChessSpace("h2", None, 'White', 1);      
a1 = ChessSpace("a1", None, 'White', 1);b1 = ChessSpace("b1", None, 'Black', 1);c1 = ChessSpace("c1", None, 'White', 1);d1 = ChessSpace("d1", None, 'Black', 1);e1 = ChessSpace("e1", None, 'White', 1);f1 = ChessSpace("f1", None, 'Black', 1);g1 = ChessSpace("g1", None, 'White', 1);h1 = ChessSpace("h1", None, 'Black', 1);

# Pieces Setting

class ChessPiece:
    def __init__(self, name, side, position, piece_value, possible_moves, moved, captured):
        self.name = name
        self.side = side
        self.position = position
        self.piece_value = piece_value
        self.possible_moves = possible_moves
        self.moved = moved
        self.captured = captured

white_pawn_1 = ChessPiece("Pawn", 'White', 'a2', 1, [], False, False)
white_pawn_2 = ChessPiece("Pawn", 'White', 'b2', 1, [], False, False)
white_pawn_3 = ChessPiece("Pawn", 'White', 'c2', 1, [], False, False)
white_pawn_4 = ChessPiece("Pawn", 'White', 'd2', 1, [], False, False)
white_pawn_5 = ChessPiece("Pawn", 'White', 'e2', 1, [], False, False)
white_pawn_6 = ChessPiece("Pawn", 'White', 'f2', 1, [], False, False)
white_pawn_7 = ChessPiece("Pawn", 'White', 'g2', 1, [], False, False)
white_pawn_8 = ChessPiece("Pawn", 'White', 'h2', 1, [], False, False)
white_rook_1 = ChessPiece("Rook", 'White', 'a1', 5, [], False, False)
white_rook_2 = ChessPiece("Rook", 'White', 'h1', 5, [], False, False)
white_knight_1 = ChessPiece("Knight", 'White', 'b1', 3, [], False, False)
white_knight_2 = ChessPiece("Knight", 'White', 'g1', 3, [], False, False)
white_bishop_1 = ChessPiece("Bishop", 'White', 'c1', 3, [], False, False)
white_bishop_2 = ChessPiece("Bishop", 'White', 'f1', 3, [], False, False)
white_queen_1 = ChessPiece("Queen", 'White', 'd1', 9, [], False, False)
white_king_1 = ChessPiece("King", 'White', 'e1', 100, [], False, False)

black_pawn_1 = ChessPiece("Pawn", 'Black', 'a7', 1, [], False, False)
black_pawn_2 = ChessPiece("Pawn", 'Black', 'b7', 1, [], False, False)
black_pawn_3 = ChessPiece("Pawn", 'Black', 'c7', 1, [], False, False)
black_pawn_4 = ChessPiece("Pawn", 'Black', 'd7', 1, [], False, False)
black_pawn_5 = ChessPiece("Pawn", 'Black', 'e7', 1, [], False, False)
black_pawn_6 = ChessPiece("Pawn", 'Black', 'f7', 1, [], False, False)
black_pawn_7 = ChessPiece("Pawn", 'Black', 'g7', 1, [], False, False)
black_pawn_8 = ChessPiece("Pawn", 'Black', 'h7', 1, [], False, False)
black_rook_1 = ChessPiece("Rook", 'Black', 'a8', 5, [], False, False)
black_rook_2 = ChessPiece("Rook", 'Black', 'h8', 5, [], False, False)
black_knight_1 = ChessPiece("Knight", 'Black', 'b8', 3, [], False, False)
black_knight_2 = ChessPiece("Knight", 'Black', 'g8', 3, [], False, False)
black_bishop_1 = ChessPiece("Bishop", 'Black', 'c8', 3, [], False, False)
black_bishop_2 = ChessPiece("Bishop", 'Black', 'f8', 3, [], False, False)
black_queen_1 = ChessPiece("Queen", 'Black', 'd8', 9, [], False, False)
black_king_1 = ChessPiece("King", 'Black', 'e8', 100, [], False, False)


def showMaterials(side):
    materials = []
    
    if side == 'White':
        for chess_piece in [
        white_pawn_1,
        white_pawn_2,
        white_pawn_3,
        white_pawn_4,
        white_pawn_5,
        white_pawn_6,
        white_pawn_7,
        white_pawn_8,
        white_rook_1,
        white_rook_2,
        white_knight_1,
        white_knight_2,
        white_bishop_1,
        white_bishop_2,
        white_queen_1,
        white_king_1
    ]:
            if chess_piece.captured == False:
                materials.append(chess_piece.name)
        return materials
    
    if side == 'Black':
        for chess_piece in [
        black_pawn_1,
        black_pawn_2,
        black_pawn_3,
        black_pawn_4,
        black_pawn_5,
        black_pawn_6,
        black_pawn_7,
        black_pawn_8,
        black_rook_1,
        black_rook_2,
        black_knight_1,
        black_knight_2,
        black_bishop_1,
        black_bishop_2,
        black_queen_1,
        black_king_1
    ]:
            if chess_piece.captured == False:
                materials.append(chess_piece.name)
        return materials

# Refresh and Display

def setBoard():
    a8.chess_piece=None;b8.chess_piece=None;c8.chess_piece=None;d8.chess_piece=None;e8.chess_piece=None;f8.chess_piece=None;g8.chess_piece=None;h8.chess_piece=None;
    a7.chess_piece=None;b7.chess_piece=None;c7.chess_piece=None;d7.chess_piece=None;e7.chess_piece=None;f7.chess_piece=None;g7.chess_piece=None;h7.chess_piece=None;
    a6.chess_piece=None;b6.chess_piece=None;c6.chess_piece=None;d6.chess_piece=None;e6.chess_piece=None;f6.chess_piece=None;g6.chess_piece=None;h6.chess_piece=None;
    a5.chess_piece=None;b5.chess_piece=None;c5.chess_piece=None;d5.chess_piece=None;e5.chess_piece=None;f5.chess_piece=None;g5.chess_piece=None;h5.chess_piece=None;
    a4.chess_piece=None;b4.chess_piece=None;c4.chess_piece=None;d4.chess_piece=None;e4.chess_piece=None;f4.chess_piece=None;g4.chess_piece=None;h4.chess_piece=None;
    a3.chess_piece=None;b3.chess_piece=None;c3.chess_piece=None;d3.chess_piece=None;e3.chess_piece=None;f3.chess_piece=None;g3.chess_piece=None;h3.chess_piece=None;
    a2.chess_piece=None;b2.chess_piece=None;c2.chess_piece=None;d2.chess_piece=None;e2.chess_piece=None;f2.chess_piece=None;g2.chess_piece=None;h2.chess_piece=None;
    a1.chess_piece=None;b1.chess_piece=None;c1.chess_piece=None;d1.chess_piece=None;e1.chess_piece=None;f1.chess_piece=None;g1.chess_piece=None;h1.chess_piece=None;
    
    if white_pawn_1.captured == False:
        globals()[white_pawn_1.position].chess_piece = white_pawn_1
    if white_pawn_2.captured == False:
        globals()[white_pawn_2.position].chess_piece = white_pawn_2
    if white_pawn_3.captured == False:
        globals()[white_pawn_3.position].chess_piece = white_pawn_3
    if white_pawn_4.captured == False:
        globals()[white_pawn_4.position].chess_piece = white_pawn_4
    if white_pawn_5.captured == False:
        globals()[white_pawn_5.position].chess_piece = white_pawn_5
    if white_pawn_6.captured == False:
        globals()[white_pawn_6.position].chess_piece = white_pawn_6
    if white_pawn_7.captured == False:
        globals()[white_pawn_7.position].chess_piece = white_pawn_7
    if white_pawn_8.captured == False:
        globals()[white_pawn_8.position].chess_piece = white_pawn_8  
    if white_rook_1.captured == False:
        globals()[white_rook_1.position].chess_piece = white_rook_1
    if white_rook_2.captured == False:
        globals()[white_rook_2.position].chess_piece = white_rook_2
    if white_knight_1.captured == False:
        globals()[white_knight_1.position].chess_piece = white_knight_1
    if white_knight_2.captured == False:
        globals()[white_knight_2.position].chess_piece = white_knight_2
    if white_bishop_1.captured == False:
        globals()[white_bishop_1.position].chess_piece = white_bishop_1
    if white_bishop_2.captured == False:
        globals()[white_bishop_2.position].chess_piece = white_bishop_2
    if white_queen_1.captured == False:
        globals()[white_queen_1.position].chess_piece = white_queen_1
    if white_king_1.captured == False:
        globals()[white_king_1.position].chess_piece = white_king_1
        
    if black_pawn_1.captured == False:
        globals()[black_pawn_1.position].chess_piece = black_pawn_1
    if black_pawn_2.captured == False:
        globals()[black_pawn_2.position].chess_piece = black_pawn_2
    if black_pawn_3.captured == False:
        globals()[black_pawn_3.position].chess_piece = black_pawn_3
    if black_pawn_4.captured == False:
        globals()[black_pawn_4.position].chess_piece = black_pawn_4
    if black_pawn_5.captured == False:
        globals()[black_pawn_5.position].chess_piece = black_pawn_5
    if black_pawn_6.captured == False:
        globals()[black_pawn_6.position].chess_piece = black_pawn_6
    if black_pawn_7.captured == False:
        globals()[black_pawn_7.position].chess_piece = black_pawn_7
    if black_pawn_8.captured == False:
        globals()[black_pawn_8.position].chess_piece = black_pawn_8  
    if black_rook_1.captured == False:
        globals()[black_rook_1.position].chess_piece = black_rook_1
    if black_rook_2.captured == False:
        globals()[black_rook_2.position].chess_piece = black_rook_2
    if black_knight_1.captured == False:
        globals()[black_knight_1.position].chess_piece = black_knight_1
    if black_knight_2.captured == False:
        globals()[black_knight_2.position].chess_piece = black_knight_2
    if black_bishop_1.captured == False:
        globals()[black_bishop_1.position].chess_piece = black_bishop_1
    if black_bishop_2.captured == False:
        globals()[black_bishop_2.position].chess_piece = black_bishop_2
    if black_queen_1.captured == False:
        globals()[black_queen_1.position].chess_piece = black_queen_1
    if black_king_1.captured == False:
        globals()[black_king_1.position].chess_piece = black_king_1

def showBoardState():
    htmlBoard = '''
    <div style="display: flex; flex-direction: column;">
        <div style="display: flex; flex-direction: row;">8
    '''
    if a8.chess_piece == None:
        htmlBoard = htmlBoard + '''
        <div style="display:inline-block"><img src="null_'''+a8.grid_color+'''Tile.png" /></div>
        '''
    else:
        htmlBoard = htmlBoard + '''
        <div style="display:inline-block"><img src="'''+a8.chess_piece.side+a8.chess_piece.name+'''_'''+a8.grid_color+'''Tile.png" /></div>
        '''
    if b8.chess_piece == None:
        htmlBoard = htmlBoard + '''
        <div style="display:inline-block"><img src="null_'''+b8.grid_color+'''Tile.png" /></div>
        '''
    else:
        htmlBoard = htmlBoard + '''
        <div style="display:inline-block"><img src="'''+b8.chess_piece.side+b8.chess_piece.name+'''_'''+b8.grid_color+'''Tile.png" /></div>
        '''
    if c8.chess_piece == None:
        htmlBoard = htmlBoard + '''
        <div style="display:inline-block"><img src="null_'''+c8.grid_color+'''Tile.png" /></div>
        '''
    else:
        htmlBoard = htmlBoard + '''
        <div style="display:inline-block"><img src="'''+c8.chess_piece.side+c8.chess_piece.name+'''_'''+c8.grid_color+'''Tile.png" /></div>
        '''
    if d8.chess_piece == None:
        htmlBoard = htmlBoard + '''
        <div style="display:inline-block"><img src="null_'''+d8.grid_color+'''Tile.png" /></div>
        '''
    else:
        htmlBoard = htmlBoard + '''
        <div style="display:inline-block"><img src="'''+d8.chess_piece.side+d8.chess_piece.name+'''_'''+d8.grid_color+'''Tile.png" /></div>
        '''
    if e8.chess_piece == None:
        htmlBoard = htmlBoard + '''
        <div style="display:inline-block"><img src="null_'''+e8.grid_color+'''Tile.png" /></div>
        '''
    else:
        htmlBoard = htmlBoard + '''
        <div style="display:inline-block"><img src="'''+e8.chess_piece.side+e8.chess_piece.name+'''_'''+e8.grid_color+'''Tile.png" /></div>
        '''
    if f8.chess_piece == None:
        htmlBoard = htmlBoard + '''
        <div style="display:inline-block"><img src="null_'''+f8.grid_color+'''Tile.png" /></div>
        '''
    else:
        htmlBoard = htmlBoard + '''
        <div style="display:inline-block"><img src="'''+f8.chess_piece.side+f8.chess_piece.name+'''_'''+f8.grid_color+'''Tile.png" /></div>
        '''
    if g8.chess_piece == None:
        htmlBoard = htmlBoard + '''
        <div style="display:inline-block"><img src="null_'''+g8.grid_color+'''Tile.png" /></div>
        '''
    else:
        htmlBoard = htmlBoard + '''
        <div style="display:inline-block"><img src="'''+g8.chess_piece.side+g8.chess_piece.name+'''_'''+g8.grid_color+'''Tile.png" /></div>
        '''
    if h8.chess_piece == None:
        htmlBoard = htmlBoard + '''
        <div style="display:inline-block"><img src="null_'''+h8.grid_color+'''Tile.png" /></div>
        '''
    else:
        htmlBoard = htmlBoard + '''
        <div style="display:inline-block"><img src="'''+h8.chess_piece.side+h8.chess_piece.name+'''_'''+h8.grid_color+'''Tile.png" /></div>
        '''
    htmlBoard = htmlBoard + '''
        </div>
        <div style="display: flex; flex-direction: row;">7
        '''
    if a7.chess_piece == None:
        htmlBoard = htmlBoard + '''
        <div style="display:inline-block"><img src="null_'''+a7.grid_color+'''Tile.png" /></div>
        '''
    else:
        htmlBoard = htmlBoard + '''
        <div style="display:inline-block"><img src="'''+a7.chess_piece.side+a7.chess_piece.name+'''_'''+a7.grid_color+'''Tile.png" /></div>
        '''
    if b7.chess_piece == None:
        htmlBoard = htmlBoard + '''
        <div style="display:inline-block"><img src="null_'''+b7.grid_color+'''Tile.png" /></div>
        '''
    else:
        htmlBoard = htmlBoard + '''
        <div style="display:inline-block"><img src="'''+b7.chess_piece.side+b7.chess_piece.name+'''_'''+b7.grid_color+'''Tile.png" /></div>
        '''
    if c7.chess_piece == None:
        htmlBoard = htmlBoard + '''
        <div style="display:inline-block"><img src="null_'''+c7.grid_color+'''Tile.png" /></div>
        '''
    else:
        htmlBoard = htmlBoard + '''
        <div style="display:inline-block"><img src="'''+c7.chess_piece.side+c7.chess_piece.name+'''_'''+c7.grid_color+'''Tile.png" /></div>
        '''
    if d7.chess_piece == None:
        htmlBoard = htmlBoard + '''
        <div style="display:inline-block"><img src="null_'''+d7.grid_color+'''Tile.png" /></div>
        '''
    else:
        htmlBoard = htmlBoard + '''
        <div style="display:inline-block"><img src="'''+d7.chess_piece.side+d7.chess_piece.name+'''_'''+d7.grid_color+'''Tile.png" /></div>
        '''
    if e7.chess_piece == None:
        htmlBoard = htmlBoard + '''
        <div style="display:inline-block"><img src="null_'''+e7.grid_color+'''Tile.png" /></div>
        '''
    else:
        htmlBoard = htmlBoard + '''
        <div style="display:inline-block"><img src="'''+e7.chess_piece.side+e7.chess_piece.name+'''_'''+e7.grid_color+'''Tile.png" /></div>
        '''
    if f7.chess_piece == None:
        htmlBoard = htmlBoard + '''
        <div style="display:inline-block"><img src="null_'''+f7.grid_color+'''Tile.png" /></div>
        '''
    else:
        htmlBoard = htmlBoard + '''
        <div style="display:inline-block"><img src="'''+f7.chess_piece.side+f7.chess_piece.name+'''_'''+f7.grid_color+'''Tile.png" /></div>
        '''
    if g7.chess_piece == None:
        htmlBoard = htmlBoard + '''
        <div style="display:inline-block"><img src="null_'''+g7.grid_color+'''Tile.png" /></div>
        '''
    else:
        htmlBoard = htmlBoard + '''
        <div style="display:inline-block"><img src="'''+g7.chess_piece.side+g7.chess_piece.name+'''_'''+g7.grid_color+'''Tile.png" /></div>
        '''
    if h7.chess_piece == None:
        htmlBoard = htmlBoard + '''
        <div style="display:inline-block"><img src="null_'''+h7.grid_color+'''Tile.png" /></div>
        '''
    else:
        htmlBoard = htmlBoard + '''
        <div style="display:inline-block"><img src="'''+h7.chess_piece.side+h7.chess_piece.name+'''_'''+h7.grid_color+'''Tile.png" /></div>
        '''
    htmlBoard = htmlBoard + '''
        </div>
        <div style="display: flex; flex-direction: row;">6
        '''
    if a6.chess_piece == None:
        htmlBoard = htmlBoard + '''
        <div style="display:inline-block"><img src="null_'''+a6.grid_color+'''Tile.png" /></div>
        '''
    else:
        htmlBoard = htmlBoard + '''
        <div style="display:inline-block"><img src="'''+a6.chess_piece.side+a6.chess_piece.name+'''_'''+a6.grid_color+'''Tile.png" /></div>
        '''
    if b6.chess_piece == None:
        htmlBoard = htmlBoard + '''
        <div style="display:inline-block"><img src="null_'''+b6.grid_color+'''Tile.png" /></div>
        '''
    else:
        htmlBoard = htmlBoard + '''
        <div style="display:inline-block"><img src="'''+b6.chess_piece.side+b6.chess_piece.name+'''_'''+b6.grid_color+'''Tile.png" /></div>
        '''
    if c6.chess_piece == None:
        htmlBoard = htmlBoard + '''
        <div style="display:inline-block"><img src="null_'''+c6.grid_color+'''Tile.png" /></div>
        '''
    else:
        htmlBoard = htmlBoard + '''
        <div style="display:inline-block"><img src="'''+c6.chess_piece.side+c6.chess_piece.name+'''_'''+c6.grid_color+'''Tile.png" /></div>
        '''
    if d6.chess_piece == None:
        htmlBoard = htmlBoard + '''
        <div style="display:inline-block"><img src="null_'''+d6.grid_color+'''Tile.png" /></div>
        '''
    else:
        htmlBoard = htmlBoard + '''
        <div style="display:inline-block"><img src="'''+d6.chess_piece.side+d6.chess_piece.name+'''_'''+d6.grid_color+'''Tile.png" /></div>
        '''
    if e6.chess_piece == None:
        htmlBoard = htmlBoard + '''
        <div style="display:inline-block"><img src="null_'''+e6.grid_color+'''Tile.png" /></div>
        '''
    else:
        htmlBoard = htmlBoard + '''
        <div style="display:inline-block"><img src="'''+e6.chess_piece.side+e6.chess_piece.name+'''_'''+e6.grid_color+'''Tile.png" /></div>
        '''
    if f6.chess_piece == None:
        htmlBoard = htmlBoard + '''
        <div style="display:inline-block"><img src="null_'''+f6.grid_color+'''Tile.png" /></div>
        '''
    else:
        htmlBoard = htmlBoard + '''
        <div style="display:inline-block"><img src="'''+f6.chess_piece.side+f6.chess_piece.name+'''_'''+f6.grid_color+'''Tile.png" /></div>
        '''
    if g6.chess_piece == None:
        htmlBoard = htmlBoard + '''
        <div style="display:inline-block"><img src="null_'''+g6.grid_color+'''Tile.png" /></div>
        '''
    else:
        htmlBoard = htmlBoard + '''
        <div style="display:inline-block"><img src="'''+g6.chess_piece.side+g6.chess_piece.name+'''_'''+g6.grid_color+'''Tile.png" /></div>
        '''
    if h6.chess_piece == None:
        htmlBoard = htmlBoard + '''
        <div style="display:inline-block"><img src="null_'''+h6.grid_color+'''Tile.png" /></div>
        '''
    else:
        htmlBoard = htmlBoard + '''
        <div style="display:inline-block"><img src="'''+h6.chess_piece.side+h6.chess_piece.name+'''_'''+h6.grid_color+'''Tile.png" /></div>
        '''
    htmlBoard = htmlBoard + '''
        </div>
        <div style="display: flex; flex-direction: row;">5
        '''
    if a5.chess_piece == None:
        htmlBoard = htmlBoard + '''
        <div style="display:inline-block"><img src="null_'''+a5.grid_color+'''Tile.png" /></div>
        '''
    else:
        htmlBoard = htmlBoard + '''
        <div style="display:inline-block"><img src="'''+a5.chess_piece.side+a5.chess_piece.name+'''_'''+a5.grid_color+'''Tile.png" /></div>
        '''
    if b5.chess_piece == None:
        htmlBoard = htmlBoard + '''
        <div style="display:inline-block"><img src="null_'''+b5.grid_color+'''Tile.png" /></div>
        '''
    else:
        htmlBoard = htmlBoard + '''
        <div style="display:inline-block"><img src="'''+b5.chess_piece.side+b5.chess_piece.name+'''_'''+b5.grid_color+'''Tile.png" /></div>
        '''
    if c5.chess_piece == None:
        htmlBoard = htmlBoard + '''
        <div style="display:inline-block"><img src="null_'''+c5.grid_color+'''Tile.png" /></div>
        '''
    else:
        htmlBoard = htmlBoard + '''
        <div style="display:inline-block"><img src="'''+c5.chess_piece.side+c5.chess_piece.name+'''_'''+c5.grid_color+'''Tile.png" /></div>
        '''
    if d5.chess_piece == None:
        htmlBoard = htmlBoard + '''
        <div style="display:inline-block"><img src="null_'''+d5.grid_color+'''Tile.png" /></div>
        '''
    else:
        htmlBoard = htmlBoard + '''
        <div style="display:inline-block"><img src="'''+d5.chess_piece.side+d5.chess_piece.name+'''_'''+d5.grid_color+'''Tile.png" /></div>
        '''
    if e5.chess_piece == None:
        htmlBoard = htmlBoard + '''
        <div style="display:inline-block"><img src="null_'''+e5.grid_color+'''Tile.png" /></div>
        '''
    else:
        htmlBoard = htmlBoard + '''
        <div style="display:inline-block"><img src="'''+e5.chess_piece.side+e5.chess_piece.name+'''_'''+e5.grid_color+'''Tile.png" /></div>
        '''
    if f5.chess_piece == None:
        htmlBoard = htmlBoard + '''
        <div style="display:inline-block"><img src="null_'''+f5.grid_color+'''Tile.png" /></div>
        '''
    else:
        htmlBoard = htmlBoard + '''
        <div style="display:inline-block"><img src="'''+f5.chess_piece.side+f5.chess_piece.name+'''_'''+f5.grid_color+'''Tile.png" /></div>
        '''
    if g5.chess_piece == None:
        htmlBoard = htmlBoard + '''
        <div style="display:inline-block"><img src="null_'''+g5.grid_color+'''Tile.png" /></div>
        '''
    else:
        htmlBoard = htmlBoard + '''
        <div style="display:inline-block"><img src="'''+g5.chess_piece.side+g5.chess_piece.name+'''_'''+g5.grid_color+'''Tile.png" /></div>
        '''
    if h5.chess_piece == None:
        htmlBoard = htmlBoard + '''
        <div style="display:inline-block"><img src="null_'''+h5.grid_color+'''Tile.png" /></div>
        '''
    else:
        htmlBoard = htmlBoard + '''
        <div style="display:inline-block"><img src="'''+h5.chess_piece.side+h5.chess_piece.name+'''_'''+h5.grid_color+'''Tile.png" /></div>
        '''
    htmlBoard = htmlBoard + '''
        </div>
        <div style="display: flex; flex-direction: row;">4
        '''
    if a4.chess_piece == None:
        htmlBoard = htmlBoard + '''
        <div style="display:inline-block"><img src="null_'''+a4.grid_color+'''Tile.png" /></div>
        '''
    else:
        htmlBoard = htmlBoard + '''
        <div style="display:inline-block"><img src="'''+a4.chess_piece.side+a4.chess_piece.name+'''_'''+a4.grid_color+'''Tile.png" /></div>
        '''
    if b4.chess_piece == None:
        htmlBoard = htmlBoard + '''
        <div style="display:inline-block"><img src="null_'''+b4.grid_color+'''Tile.png" /></div>
        '''
    else:
        htmlBoard = htmlBoard + '''
        <div style="display:inline-block"><img src="'''+b4.chess_piece.side+b4.chess_piece.name+'''_'''+b4.grid_color+'''Tile.png" /></div>
        '''
    if c4.chess_piece == None:
        htmlBoard = htmlBoard + '''
        <div style="display:inline-block"><img src="null_'''+c4.grid_color+'''Tile.png" /></div>
        '''
    else:
        htmlBoard = htmlBoard + '''
        <div style="display:inline-block"><img src="'''+c4.chess_piece.side+c4.chess_piece.name+'''_'''+c4.grid_color+'''Tile.png" /></div>
        '''
    if d4.chess_piece == None:
        htmlBoard = htmlBoard + '''
        <div style="display:inline-block"><img src="null_'''+d4.grid_color+'''Tile.png" /></div>
        '''
    else:
        htmlBoard = htmlBoard + '''
        <div style="display:inline-block"><img src="'''+d4.chess_piece.side+d4.chess_piece.name+'''_'''+d4.grid_color+'''Tile.png" /></div>
        '''
    if e4.chess_piece == None:
        htmlBoard = htmlBoard + '''
        <div style="display:inline-block"><img src="null_'''+e4.grid_color+'''Tile.png" /></div>
        '''
    else:
        htmlBoard = htmlBoard + '''
        <div style="display:inline-block"><img src="'''+e4.chess_piece.side+e4.chess_piece.name+'''_'''+e4.grid_color+'''Tile.png" /></div>
        '''
    if f4.chess_piece == None:
        htmlBoard = htmlBoard + '''
        <div style="display:inline-block"><img src="null_'''+f4.grid_color+'''Tile.png" /></div>
        '''
    else:
        htmlBoard = htmlBoard + '''
        <div style="display:inline-block"><img src="'''+f4.chess_piece.side+f4.chess_piece.name+'''_'''+f4.grid_color+'''Tile.png" /></div>
        '''
    if g4.chess_piece == None:
        htmlBoard = htmlBoard + '''
        <div style="display:inline-block"><img src="null_'''+g4.grid_color+'''Tile.png" /></div>
        '''
    else:
        htmlBoard = htmlBoard + '''
        <div style="display:inline-block"><img src="'''+g4.chess_piece.side+g4.chess_piece.name+'''_'''+g4.grid_color+'''Tile.png" /></div>
        '''
    if h4.chess_piece == None:
        htmlBoard = htmlBoard + '''
        <div style="display:inline-block"><img src="null_'''+h4.grid_color+'''Tile.png" /></div>
        '''
    else:
        htmlBoard = htmlBoard + '''
        <div style="display:inline-block"><img src="'''+h4.chess_piece.side+h4.chess_piece.name+'''_'''+h4.grid_color+'''Tile.png" /></div>
        '''
    htmlBoard = htmlBoard + '''
        </div>
        <div style="display: flex; flex-direction: row;">3
        '''
    if a3.chess_piece == None:
        htmlBoard = htmlBoard + '''
        <div style="display:inline-block"><img src="null_'''+a3.grid_color+'''Tile.png" /></div>
        '''
    else:
        htmlBoard = htmlBoard + '''
        <div style="display:inline-block"><img src="'''+a3.chess_piece.side+a3.chess_piece.name+'''_'''+a3.grid_color+'''Tile.png" /></div>
        '''
    if b3.chess_piece == None:
        htmlBoard = htmlBoard + '''
        <div style="display:inline-block"><img src="null_'''+b3.grid_color+'''Tile.png" /></div>
        '''
    else:
        htmlBoard = htmlBoard + '''
        <div style="display:inline-block"><img src="'''+b3.chess_piece.side+b3.chess_piece.name+'''_'''+b3.grid_color+'''Tile.png" /></div>
        '''
    if c3.chess_piece == None:
        htmlBoard = htmlBoard + '''
        <div style="display:inline-block"><img src="null_'''+c3.grid_color+'''Tile.png" /></div>
        '''
    else:
        htmlBoard = htmlBoard + '''
        <div style="display:inline-block"><img src="'''+c3.chess_piece.side+c3.chess_piece.name+'''_'''+c3.grid_color+'''Tile.png" /></div>
        '''
    if d3.chess_piece == None:
        htmlBoard = htmlBoard + '''
        <div style="display:inline-block"><img src="null_'''+d3.grid_color+'''Tile.png" /></div>
        '''
    else:
        htmlBoard = htmlBoard + '''
        <div style="display:inline-block"><img src="'''+d3.chess_piece.side+d3.chess_piece.name+'''_'''+d3.grid_color+'''Tile.png" /></div>
        '''
    if e3.chess_piece == None:
        htmlBoard = htmlBoard + '''
        <div style="display:inline-block"><img src="null_'''+e3.grid_color+'''Tile.png" /></div>
        '''
    else:
        htmlBoard = htmlBoard + '''
        <div style="display:inline-block"><img src="'''+e3.chess_piece.side+e3.chess_piece.name+'''_'''+e3.grid_color+'''Tile.png" /></div>
        '''
    if f3.chess_piece == None:
        htmlBoard = htmlBoard + '''
        <div style="display:inline-block"><img src="null_'''+f3.grid_color+'''Tile.png" /></div>
        '''
    else:
        htmlBoard = htmlBoard + '''
        <div style="display:inline-block"><img src="'''+f3.chess_piece.side+f3.chess_piece.name+'''_'''+f3.grid_color+'''Tile.png" /></div>
        '''
    if g3.chess_piece == None:
        htmlBoard = htmlBoard + '''
        <div style="display:inline-block"><img src="null_'''+g3.grid_color+'''Tile.png" /></div>
        '''
    else:
        htmlBoard = htmlBoard + '''
        <div style="display:inline-block"><img src="'''+g3.chess_piece.side+g3.chess_piece.name+'''_'''+g3.grid_color+'''Tile.png" /></div>
        '''
    if h3.chess_piece == None:
        htmlBoard = htmlBoard + '''
        <div style="display:inline-block"><img src="null_'''+h3.grid_color+'''Tile.png" /></div>
        '''
    else:
        htmlBoard = htmlBoard + '''
        <div style="display:inline-block"><img src="'''+h3.chess_piece.side+h3.chess_piece.name+'''_'''+h3.grid_color+'''Tile.png" /></div>
        '''
    htmlBoard = htmlBoard + '''
        </div>
        <div style="display: flex; flex-direction: row;">2
        '''
    if a2.chess_piece == None:
        htmlBoard = htmlBoard + '''
        <div style="display:inline-block"><img src="null_'''+a2.grid_color+'''Tile.png" /></div>
        '''
    else:
        htmlBoard = htmlBoard + '''
        <div style="display:inline-block"><img src="'''+a2.chess_piece.side+a2.chess_piece.name+'''_'''+a2.grid_color+'''Tile.png" /></div>
        '''
    if b2.chess_piece == None:
        htmlBoard = htmlBoard + '''
        <div style="display:inline-block"><img src="null_'''+b2.grid_color+'''Tile.png" /></div>
        '''
    else:
        htmlBoard = htmlBoard + '''
        <div style="display:inline-block"><img src="'''+b2.chess_piece.side+b2.chess_piece.name+'''_'''+b2.grid_color+'''Tile.png" /></div>
        '''
    if c2.chess_piece == None:
        htmlBoard = htmlBoard + '''
        <div style="display:inline-block"><img src="null_'''+c2.grid_color+'''Tile.png" /></div>
        '''
    else:
        htmlBoard = htmlBoard + '''
        <div style="display:inline-block"><img src="'''+c2.chess_piece.side+c2.chess_piece.name+'''_'''+c2.grid_color+'''Tile.png" /></div>
        '''
    if d2.chess_piece == None:
        htmlBoard = htmlBoard + '''
        <div style="display:inline-block"><img src="null_'''+d2.grid_color+'''Tile.png" /></div>
        '''
    else:
        htmlBoard = htmlBoard + '''
        <div style="display:inline-block"><img src="'''+d2.chess_piece.side+d2.chess_piece.name+'''_'''+d2.grid_color+'''Tile.png" /></div>
        '''
    if e2.chess_piece == None:
        htmlBoard = htmlBoard + '''
        <div style="display:inline-block"><img src="null_'''+e2.grid_color+'''Tile.png" /></div>
        '''
    else:
        htmlBoard = htmlBoard + '''
        <div style="display:inline-block"><img src="'''+e2.chess_piece.side+e2.chess_piece.name+'''_'''+e2.grid_color+'''Tile.png" /></div>
        '''
    if f2.chess_piece == None:
        htmlBoard = htmlBoard + '''
        <div style="display:inline-block"><img src="null_'''+f2.grid_color+'''Tile.png" /></div>
        '''
    else:
        htmlBoard = htmlBoard + '''
        <div style="display:inline-block"><img src="'''+f2.chess_piece.side+f2.chess_piece.name+'''_'''+f2.grid_color+'''Tile.png" /></div>
        '''
    if g2.chess_piece == None:
        htmlBoard = htmlBoard + '''
        <div style="display:inline-block"><img src="null_'''+g2.grid_color+'''Tile.png" /></div>
        '''
    else:
        htmlBoard = htmlBoard + '''
        <div style="display:inline-block"><img src="'''+g2.chess_piece.side+g2.chess_piece.name+'''_'''+g2.grid_color+'''Tile.png" /></div>
        '''
    if h2.chess_piece == None:
        htmlBoard = htmlBoard + '''
        <div style="display:inline-block"><img src="null_'''+h2.grid_color+'''Tile.png" /></div>
        '''
    else:
        htmlBoard = htmlBoard + '''
        <div style="display:inline-block"><img src="'''+h2.chess_piece.side+h2.chess_piece.name+'''_'''+h2.grid_color+'''Tile.png" /></div>
        '''
    htmlBoard = htmlBoard + '''
        </div>
        <div style="display: flex; flex-direction: row;">1
        '''
    if a1.chess_piece == None:
        htmlBoard = htmlBoard + '''
        <div style="display:inline-block"><img src="null_'''+a1.grid_color+'''Tile.png" /></div>
        '''
    else:
        htmlBoard = htmlBoard + '''
        <div style="display:inline-block"><img src="'''+a1.chess_piece.side+a1.chess_piece.name+'''_'''+a1.grid_color+'''Tile.png" /></div>
        '''
    if b1.chess_piece == None:
        htmlBoard = htmlBoard + '''
        <div style="display:inline-block"><img src="null_'''+b1.grid_color+'''Tile.png" /></div>
        '''
    else:
        htmlBoard = htmlBoard + '''
        <div style="display:inline-block"><img src="'''+b1.chess_piece.side+b1.chess_piece.name+'''_'''+b1.grid_color+'''Tile.png" /></div>
        '''
    if c1.chess_piece == None:
        htmlBoard = htmlBoard + '''
        <div style="display:inline-block"><img src="null_'''+c1.grid_color+'''Tile.png" /></div>
        '''
    else:
        htmlBoard = htmlBoard + '''
        <div style="display:inline-block"><img src="'''+c1.chess_piece.side+c1.chess_piece.name+'''_'''+c1.grid_color+'''Tile.png" /></div>
        '''
    if d1.chess_piece == None:
        htmlBoard = htmlBoard + '''
        <div style="display:inline-block"><img src="null_'''+d1.grid_color+'''Tile.png" /></div>
        '''
    else:
        htmlBoard = htmlBoard + '''
        <div style="display:inline-block"><img src="'''+d1.chess_piece.side+d1.chess_piece.name+'''_'''+d1.grid_color+'''Tile.png" /></div>
        '''
    if e1.chess_piece == None:
        htmlBoard = htmlBoard + '''
        <div style="display:inline-block"><img src="null_'''+e1.grid_color+'''Tile.png" /></div>
        '''
    else:
        htmlBoard = htmlBoard + '''
        <div style="display:inline-block"><img src="'''+e1.chess_piece.side+e1.chess_piece.name+'''_'''+e1.grid_color+'''Tile.png" /></div>
        '''
    if f1.chess_piece == None:
        htmlBoard = htmlBoard + '''
        <div style="display:inline-block"><img src="null_'''+f1.grid_color+'''Tile.png" /></div>
        '''
    else:
        htmlBoard = htmlBoard + '''
        <div style="display:inline-block"><img src="'''+f1.chess_piece.side+f1.chess_piece.name+'''_'''+f1.grid_color+'''Tile.png" /></div>
        '''
    if g1.chess_piece == None:
        htmlBoard = htmlBoard + '''
        <div style="display:inline-block"><img src="null_'''+g1.grid_color+'''Tile.png" /></div>
        '''
    else:
        htmlBoard = htmlBoard + '''
        <div style="display:inline-block"><img src="'''+g1.chess_piece.side+g1.chess_piece.name+'''_'''+g1.grid_color+'''Tile.png" /></div>
        '''
    if h1.chess_piece == None:
        htmlBoard = htmlBoard + '''
        <div style="display:inline-block"><img src="null_'''+h1.grid_color+'''Tile.png" /></div>
        '''
    else:
        htmlBoard = htmlBoard + '''
        <div style="display:inline-block"><img src="'''+h1.chess_piece.side+h1.chess_piece.name+'''_'''+h1.grid_color+'''Tile.png" /></div>
        '''
    htmlBoard = htmlBoard + '''
        </div>
        <div style="display: flex; flex-direction: row;">
        &nbsp;&nbsp;&nbsp;&nbsp;&nbsp;&nbsp;&nbsp;&nbsp;&nbsp;&nbsp;&nbsp;&nbsp;&nbsp;a
        &nbsp;&nbsp;&nbsp;&nbsp;&nbsp;&nbsp;&nbsp;&nbsp;&nbsp;&nbsp;&nbsp;&nbsp;&nbsp;&nbsp;&nbsp;&nbsp;&nbsp;&nbsp;&nbsp;&nbsp;&nbsp;&nbsp;&nbsp;&nbsp;&nbsp;&nbsp;b
        &nbsp;&nbsp;&nbsp;&nbsp;&nbsp;&nbsp;&nbsp;&nbsp;&nbsp;&nbsp;&nbsp;&nbsp;&nbsp;&nbsp;&nbsp;&nbsp;&nbsp;&nbsp;&nbsp;&nbsp;&nbsp;&nbsp;&nbsp;&nbsp;&nbsp;&nbsp;c
        &nbsp;&nbsp;&nbsp;&nbsp;&nbsp;&nbsp;&nbsp;&nbsp;&nbsp;&nbsp;&nbsp;&nbsp;&nbsp;&nbsp;&nbsp;&nbsp;&nbsp;&nbsp;&nbsp;&nbsp;&nbsp;&nbsp;&nbsp;d
        &nbsp;&nbsp;&nbsp;&nbsp;&nbsp;&nbsp;&nbsp;&nbsp;&nbsp;&nbsp;&nbsp;&nbsp;&nbsp;&nbsp;&nbsp;&nbsp;&nbsp;&nbsp;&nbsp;&nbsp;&nbsp;&nbsp;&nbsp;&nbsp;&nbsp;e
        &nbsp;&nbsp;&nbsp;&nbsp;&nbsp;&nbsp;&nbsp;&nbsp;&nbsp;&nbsp;&nbsp;&nbsp;&nbsp;&nbsp;&nbsp;&nbsp;&nbsp;&nbsp;&nbsp;&nbsp;&nbsp;&nbsp;&nbsp;&nbsp;f
        &nbsp;&nbsp;&nbsp;&nbsp;&nbsp;&nbsp;&nbsp;&nbsp;&nbsp;&nbsp;&nbsp;&nbsp;&nbsp;&nbsp;&nbsp;&nbsp;&nbsp;&nbsp;&nbsp;&nbsp;&nbsp;&nbsp;&nbsp;&nbsp;&nbsp;&nbsp;g
        &nbsp;&nbsp;&nbsp;&nbsp;&nbsp;&nbsp;&nbsp;&nbsp;&nbsp;&nbsp;&nbsp;&nbsp;&nbsp;&nbsp;&nbsp;&nbsp;&nbsp;&nbsp;&nbsp;&nbsp;&nbsp;&nbsp;&nbsp;&nbsp;&nbsp;h
        </div>
    </div>
    '''
    
    from IPython.display import display, HTML
    display(HTML(htmlBoard))

# Movements

h_scale = ['a', 'b', 'c', 'd', 'e', 'f', 'g', 'h']
v_scale = ['1', '2', '3', '4', '5', '6', '7', '8']
h_order = {'a': 0, 'b': 1, 'c': 2, 'd': 3, 'e': 4, 'f': 5, 'g': 6, 'h': 7} 
v_order = {'1': 0, '2': 1, '3': 2, '4': 3, '5': 4, '6': 5, '7': 6, '8': 7}

# track en passant
white_last_turn_pawn_jump = ''
black_last_turn_pawn_jump = ''

def possibleMoveRefresh_White():
    for chess_piece in [
        white_pawn_1,
        white_pawn_2,
        white_pawn_3,
        white_pawn_4,
        white_pawn_5,
        white_pawn_6,
        white_pawn_7,
        white_pawn_8,
        white_rook_1,
        white_rook_2,
        white_knight_1,
        white_knight_2,
        white_bishop_1,
        white_bishop_2,
        white_queen_1,
        white_king_1
    ]:
        chess_piece.possible_moves = []

        if chess_piece.captured == False:
            # Pawn
            if chess_piece.name == 'Pawn':
                # 1 move up
                if globals()[chess_piece.position[0] + v_scale[v_order[chess_piece.position[1]] + 1]].chess_piece == None:
                    if kingDanger(chess_piece, (chess_piece.position[0] + v_scale[v_order[chess_piece.position[1]] + 1])) != True:
                        chess_piece.possible_moves.append(chess_piece.position[0] + v_scale[v_order[chess_piece.position[1]] + 1])

                # 2 moves up
                if chess_piece.moved == False:
                    if globals()[chess_piece.position[0] + v_scale[v_order[chess_piece.position[1]] + 1]].chess_piece == None:
                        if globals()[chess_piece.position[0] + v_scale[v_order[chess_piece.position[1]] + 2]].chess_piece == None:
                            if kingDanger(chess_piece, (chess_piece.position[0] + v_scale[v_order[chess_piece.position[1]] + 2])) != True:
                                chess_piece.possible_moves.append(chess_piece.position[0] + v_scale[v_order[chess_piece.position[1]] + 2])

                # eat diagonally (left)
                if chess_piece.position[0] != 'a':
                    if globals()[h_scale[h_order[chess_piece.position[0]] - 1] + v_scale[v_order[chess_piece.position[1]] + 1]].chess_piece != None:
                        if globals()[h_scale[h_order[chess_piece.position[0]] - 1] + v_scale[v_order[chess_piece.position[1]] + 1]].chess_piece.side == 'Black':
                            if kingDanger(chess_piece, (h_scale[h_order[chess_piece.position[0]] - 1] + v_scale[v_order[chess_piece.position[1]] + 1])) != True:
                                chess_piece.possible_moves.append(h_scale[h_order[chess_piece.position[0]] - 1] + v_scale[v_order[chess_piece.position[1]] + 1])

                # eat diagonally (right)
                if chess_piece.position[0] != 'h':
                    if globals()[h_scale[h_order[chess_piece.position[0]] + 1] + v_scale[v_order[chess_piece.position[1]] + 1]].chess_piece != None:
                        if globals()[h_scale[h_order[chess_piece.position[0]] + 1] + v_scale[v_order[chess_piece.position[1]] + 1]].chess_piece.side == 'Black':
                            if kingDanger(chess_piece, (h_scale[h_order[chess_piece.position[0]] + 1] + v_scale[v_order[chess_piece.position[1]] + 1])) != True:
                                chess_piece.possible_moves.append(h_scale[h_order[chess_piece.position[0]] + 1] + v_scale[v_order[chess_piece.position[1]] + 1])
                                
                # en passant left 
                if chess_piece.position[1] == '5':
                    if globals()[h_scale[h_order[chess_piece.position[0]] - 1] + chess_piece.position[1]].chess_piece != None:
                        if globals()[h_scale[h_order[chess_piece.position[0]] - 1] + chess_piece.position[1]].chess_piece.name == 'Pawn':
                            if globals()[h_scale[h_order[chess_piece.position[0]] - 1] + chess_piece.position[1]].chess_piece.side == 'Black':
                                if black_last_turn_pawn_jump == (h_scale[h_order[chess_piece.position[0]] - 1] + chess_piece.position[1]):
                                    if kingDanger(chess_piece, (h_scale[h_order[chess_piece.position[0]] - 1] + v_scale[v_order[chess_piece.position[1]] + 1])) != True:
                                        chess_piece.possible_moves.append(h_scale[h_order[chess_piece.position[0]] - 1] + v_scale[v_order[chess_piece.position[1]] + 1])
                                        
                # en passant right 
                if chess_piece.position[1] == '5':
                    if globals()[h_scale[h_order[chess_piece.position[0]] + 1] + chess_piece.position[1]].chess_piece != None:
                        if globals()[h_scale[h_order[chess_piece.position[0]] + 1] + chess_piece.position[1]].chess_piece.name == 'Pawn':
                            if globals()[h_scale[h_order[chess_piece.position[0]] + 1] + chess_piece.position[1]].chess_piece.side == 'Black':
                                if black_last_turn_pawn_jump == (h_scale[h_order[chess_piece.position[0]] + 1] + chess_piece.position[1]):
                                    if kingDanger(chess_piece, (h_scale[h_order[chess_piece.position[0]] + 1] + v_scale[v_order[chess_piece.position[1]] + 1])) != True:
                                        chess_piece.possible_moves.append(h_scale[h_order[chess_piece.position[0]] + 1] + v_scale[v_order[chess_piece.position[1]] + 1])
                        
            # Rook
            if chess_piece.name == 'Rook':
                # all move up
                if chess_piece.position[1] != '8':
                    block = False
                    increment = 0
                    while block == False:
                        increment = increment + 1
                        if globals()[chess_piece.position[0] + v_scale[v_order[chess_piece.position[1]] + increment]].chess_piece == None:
                            if kingDanger(chess_piece, (chess_piece.position[0] + v_scale[v_order[chess_piece.position[1]] + increment])) != True:
                                chess_piece.possible_moves.append(chess_piece.position[0] + v_scale[v_order[chess_piece.position[1]] + increment])

                        if globals()[chess_piece.position[0] + v_scale[v_order[chess_piece.position[1]] + increment]].chess_piece != None:
                            if globals()[chess_piece.position[0] + v_scale[v_order[chess_piece.position[1]] + increment]].chess_piece.side == 'Black':
                                if kingDanger(chess_piece, (chess_piece.position[0] + v_scale[v_order[chess_piece.position[1]] + increment])) != True:
                                    chess_piece.possible_moves.append(chess_piece.position[0] + v_scale[v_order[chess_piece.position[1]] + increment])
                            block = True

                        if v_scale[v_order[chess_piece.position[1]] + increment] == '8':
                            block = True

                # all move down
                if chess_piece.position[1] != '1':
                    block = False
                    increment = 0
                    while block == False:
                        increment = increment + 1
                        if globals()[chess_piece.position[0] + v_scale[v_order[chess_piece.position[1]] - increment]].chess_piece == None:
                            if kingDanger(chess_piece, (chess_piece.position[0] + v_scale[v_order[chess_piece.position[1]] - increment])) != True:
                                chess_piece.possible_moves.append(chess_piece.position[0] + v_scale[v_order[chess_piece.position[1]] - increment])

                        if globals()[chess_piece.position[0] + v_scale[v_order[chess_piece.position[1]] - increment]].chess_piece != None:
                            if globals()[chess_piece.position[0] + v_scale[v_order[chess_piece.position[1]] - increment]].chess_piece.side == 'Black':
                                if kingDanger(chess_piece, (chess_piece.position[0] + v_scale[v_order[chess_piece.position[1]] - increment])) != True:
                                    chess_piece.possible_moves.append(chess_piece.position[0] + v_scale[v_order[chess_piece.position[1]] - increment])
                            block = True

                        if v_scale[v_order[chess_piece.position[1]] - increment] == '1':
                            block = True

                # all move left
                if chess_piece.position[0] != 'a':
                    block = False
                    increment = 0
                    while block == False:
                        increment = increment + 1
                        if globals()[h_scale[h_order[chess_piece.position[0]] - increment] + chess_piece.position[1]].chess_piece == None:
                            if kingDanger(chess_piece, (h_scale[h_order[chess_piece.position[0]] - increment] + chess_piece.position[1])) != True:
                                chess_piece.possible_moves.append(h_scale[h_order[chess_piece.position[0]] - increment] + chess_piece.position[1])

                        if globals()[h_scale[h_order[chess_piece.position[0]] - increment] + chess_piece.position[1]].chess_piece != None:
                            if globals()[h_scale[h_order[chess_piece.position[0]] - increment] + chess_piece.position[1]].chess_piece.side == 'Black':
                                if kingDanger(chess_piece, (h_scale[h_order[chess_piece.position[0]] - increment] + chess_piece.position[1])) != True:
                                    chess_piece.possible_moves.append(h_scale[h_order[chess_piece.position[0]] - increment] + chess_piece.position[1])
                            block = True

                        if h_scale[h_order[chess_piece.position[0]] - increment] == 'a':
                            block = True

                # all move right
                if chess_piece.position[0] != 'h':
                    block = False
                    increment = 0
                    while block == False:
                        increment = increment + 1
                        if globals()[h_scale[h_order[chess_piece.position[0]] + increment] + chess_piece.position[1]].chess_piece == None:
                            if kingDanger(chess_piece, (h_scale[h_order[chess_piece.position[0]] + increment] + chess_piece.position[1])) != True:
                                chess_piece.possible_moves.append(h_scale[h_order[chess_piece.position[0]] + increment] + chess_piece.position[1])

                        if globals()[h_scale[h_order[chess_piece.position[0]] + increment] + chess_piece.position[1]].chess_piece != None:
                            if globals()[h_scale[h_order[chess_piece.position[0]] + increment] + chess_piece.position[1]].chess_piece.side == 'Black':
                                if kingDanger(chess_piece, (h_scale[h_order[chess_piece.position[0]] + increment] + chess_piece.position[1])) != True:
                                    chess_piece.possible_moves.append(h_scale[h_order[chess_piece.position[0]] + increment] + chess_piece.position[1])
                            block = True

                        if h_scale[h_order[chess_piece.position[0]] + increment] == 'h':
                            block = True

            # Bishop
            if chess_piece.name == 'Bishop':
                # all move top-left
                if chess_piece.position[0] != 'a' and chess_piece.position[1] != '8':
                    block = False
                    increment = 0
                    while block == False:
                        increment = increment + 1
                        if globals()[h_scale[h_order[chess_piece.position[0]] - increment] + v_scale[v_order[chess_piece.position[1]] + increment]].chess_piece == None:
                            if kingDanger(chess_piece, (h_scale[h_order[chess_piece.position[0]] - increment] + v_scale[v_order[chess_piece.position[1]] + increment])) != True:
                                chess_piece.possible_moves.append(h_scale[h_order[chess_piece.position[0]] - increment] + v_scale[v_order[chess_piece.position[1]] + increment])

                        if globals()[h_scale[h_order[chess_piece.position[0]] - increment] + v_scale[v_order[chess_piece.position[1]] + increment]].chess_piece != None:
                            if globals()[h_scale[h_order[chess_piece.position[0]] - increment] + v_scale[v_order[chess_piece.position[1]] + increment]].chess_piece.side == 'Black':
                                if kingDanger(chess_piece, (h_scale[h_order[chess_piece.position[0]] - increment] + v_scale[v_order[chess_piece.position[1]] + increment])) != True:
                                    chess_piece.possible_moves.append(h_scale[h_order[chess_piece.position[0]] - increment] + v_scale[v_order[chess_piece.position[1]] + increment])
                            block = True

                        if h_scale[h_order[chess_piece.position[0]] - increment] == 'a' or v_scale[v_order[chess_piece.position[1]] + increment] == '8':
                            block = True

                # all move top-right
                if chess_piece.position[0] != 'h' and chess_piece.position[1] != '8':
                    block = False
                    increment = 0
                    while block == False:
                        increment = increment + 1
                        if globals()[h_scale[h_order[chess_piece.position[0]] + increment] + v_scale[v_order[chess_piece.position[1]] + increment]].chess_piece == None:
                            if kingDanger(chess_piece, (h_scale[h_order[chess_piece.position[0]] + increment] + v_scale[v_order[chess_piece.position[1]] + increment])) != True:
                                chess_piece.possible_moves.append(h_scale[h_order[chess_piece.position[0]] + increment] + v_scale[v_order[chess_piece.position[1]] + increment])

                        if globals()[h_scale[h_order[chess_piece.position[0]] + increment] + v_scale[v_order[chess_piece.position[1]] + increment]].chess_piece != None:
                            if globals()[h_scale[h_order[chess_piece.position[0]] + increment] + v_scale[v_order[chess_piece.position[1]] + increment]].chess_piece.side == 'Black':
                                if kingDanger(chess_piece, (h_scale[h_order[chess_piece.position[0]] + increment] + v_scale[v_order[chess_piece.position[1]] + increment])) != True:
                                    chess_piece.possible_moves.append(h_scale[h_order[chess_piece.position[0]] + increment] + v_scale[v_order[chess_piece.position[1]] + increment])
                            block = True

                        if h_scale[h_order[chess_piece.position[0]] + increment] == 'h' or v_scale[v_order[chess_piece.position[1]] + increment] == '8':
                            block = True

                # all move bottom-left
                if chess_piece.position[0] != 'a' and chess_piece.position[1] != '1':
                    block = False
                    increment = 0
                    while block == False:
                        increment = increment + 1
                        if globals()[h_scale[h_order[chess_piece.position[0]] - increment] + v_scale[v_order[chess_piece.position[1]] - increment]].chess_piece == None:
                            if kingDanger(chess_piece, (h_scale[h_order[chess_piece.position[0]] - increment] + v_scale[v_order[chess_piece.position[1]] - increment])) != True:
                                chess_piece.possible_moves.append(h_scale[h_order[chess_piece.position[0]] - increment] + v_scale[v_order[chess_piece.position[1]] - increment])

                        if globals()[h_scale[h_order[chess_piece.position[0]] - increment] + v_scale[v_order[chess_piece.position[1]] - increment]].chess_piece != None:
                            if globals()[h_scale[h_order[chess_piece.position[0]] - increment] + v_scale[v_order[chess_piece.position[1]] - increment]].chess_piece.side == 'Black':
                                if kingDanger(chess_piece, (h_scale[h_order[chess_piece.position[0]] - increment] + v_scale[v_order[chess_piece.position[1]] - increment])) != True:
                                    chess_piece.possible_moves.append(h_scale[h_order[chess_piece.position[0]] - increment] + v_scale[v_order[chess_piece.position[1]] - increment])
                            block = True

                        if h_scale[h_order[chess_piece.position[0]] - increment] == 'a' or v_scale[v_order[chess_piece.position[1]] - increment] == '1':
                            block = True

                # all move bottom-right
                if chess_piece.position[0] != 'h' and chess_piece.position[1] != '1':
                    block = False
                    increment = 0
                    while block == False:
                        increment = increment + 1
                        if globals()[h_scale[h_order[chess_piece.position[0]] + increment] + v_scale[v_order[chess_piece.position[1]] - increment]].chess_piece == None:
                            if kingDanger(chess_piece, (h_scale[h_order[chess_piece.position[0]] + increment] + v_scale[v_order[chess_piece.position[1]] - increment])) != True:
                                chess_piece.possible_moves.append(h_scale[h_order[chess_piece.position[0]] + increment] + v_scale[v_order[chess_piece.position[1]] - increment])

                        if globals()[h_scale[h_order[chess_piece.position[0]] + increment] + v_scale[v_order[chess_piece.position[1]] - increment]].chess_piece != None:
                            if globals()[h_scale[h_order[chess_piece.position[0]] + increment] + v_scale[v_order[chess_piece.position[1]] - increment]].chess_piece.side == 'Black':
                                if kingDanger(chess_piece, (h_scale[h_order[chess_piece.position[0]] + increment] + v_scale[v_order[chess_piece.position[1]] - increment])) != True:
                                    chess_piece.possible_moves.append(h_scale[h_order[chess_piece.position[0]] + increment] + v_scale[v_order[chess_piece.position[1]] - increment])
                            block = True

                        if h_scale[h_order[chess_piece.position[0]] + increment] == 'h' or v_scale[v_order[chess_piece.position[1]] - increment] == '1':
                            block = True

            # Queen
            if chess_piece.name == 'Queen':
                # all move up
                if chess_piece.position[1] != '8':
                    block = False
                    increment = 0
                    while block == False:
                        increment = increment + 1
                        if globals()[chess_piece.position[0] + v_scale[v_order[chess_piece.position[1]] + increment]].chess_piece == None:
                            if kingDanger(chess_piece, (chess_piece.position[0] + v_scale[v_order[chess_piece.position[1]] + increment])) != True:
                                chess_piece.possible_moves.append(chess_piece.position[0] + v_scale[v_order[chess_piece.position[1]] + increment])

                        if globals()[chess_piece.position[0] + v_scale[v_order[chess_piece.position[1]] + increment]].chess_piece != None:
                            if globals()[chess_piece.position[0] + v_scale[v_order[chess_piece.position[1]] + increment]].chess_piece.side == 'Black':
                                if kingDanger(chess_piece, (chess_piece.position[0] + v_scale[v_order[chess_piece.position[1]] + increment])) != True:
                                    chess_piece.possible_moves.append(chess_piece.position[0] + v_scale[v_order[chess_piece.position[1]] + increment])
                            block = True

                        if v_scale[v_order[chess_piece.position[1]] + increment] == '8':
                            block = True

                # all move down
                if chess_piece.position[1] != '1':
                    block = False
                    increment = 0
                    while block == False:
                        increment = increment + 1
                        if globals()[chess_piece.position[0] + v_scale[v_order[chess_piece.position[1]] - increment]].chess_piece == None:
                            if kingDanger(chess_piece, (chess_piece.position[0] + v_scale[v_order[chess_piece.position[1]] - increment])) != True:
                                chess_piece.possible_moves.append(chess_piece.position[0] + v_scale[v_order[chess_piece.position[1]] - increment])

                        if globals()[chess_piece.position[0] + v_scale[v_order[chess_piece.position[1]] - increment]].chess_piece != None:
                            if globals()[chess_piece.position[0] + v_scale[v_order[chess_piece.position[1]] - increment]].chess_piece.side == 'Black':
                                if kingDanger(chess_piece, (chess_piece.position[0] + v_scale[v_order[chess_piece.position[1]] - increment])) != True:
                                    chess_piece.possible_moves.append(chess_piece.position[0] + v_scale[v_order[chess_piece.position[1]] - increment])
                            block = True

                        if v_scale[v_order[chess_piece.position[1]] - increment] == '1':
                            block = True

                # all move left
                if chess_piece.position[0] != 'a':
                    block = False
                    increment = 0
                    while block == False:
                        increment = increment + 1
                        if globals()[h_scale[h_order[chess_piece.position[0]] - increment] + chess_piece.position[1]].chess_piece == None:
                            if kingDanger(chess_piece, (h_scale[h_order[chess_piece.position[0]] - increment] + chess_piece.position[1])) != True:
                                chess_piece.possible_moves.append(h_scale[h_order[chess_piece.position[0]] - increment] + chess_piece.position[1])

                        if globals()[h_scale[h_order[chess_piece.position[0]] - increment] + chess_piece.position[1]].chess_piece != None:
                            if globals()[h_scale[h_order[chess_piece.position[0]] - increment] + chess_piece.position[1]].chess_piece.side == 'Black':
                                if kingDanger(chess_piece, (h_scale[h_order[chess_piece.position[0]] - increment] + chess_piece.position[1])) != True:
                                    chess_piece.possible_moves.append(h_scale[h_order[chess_piece.position[0]] - increment] + chess_piece.position[1])
                            block = True

                        if h_scale[h_order[chess_piece.position[0]] - increment] == 'a':
                            block = True

                # all move right
                if chess_piece.position[0] != 'h':
                    block = False
                    increment = 0
                    while block == False:
                        increment = increment + 1
                        if globals()[h_scale[h_order[chess_piece.position[0]] + increment] + chess_piece.position[1]].chess_piece == None:
                            if kingDanger(chess_piece, (h_scale[h_order[chess_piece.position[0]] + increment] + chess_piece.position[1])) != True:
                                chess_piece.possible_moves.append(h_scale[h_order[chess_piece.position[0]] + increment] + chess_piece.position[1])

                        if globals()[h_scale[h_order[chess_piece.position[0]] + increment] + chess_piece.position[1]].chess_piece != None:
                            if globals()[h_scale[h_order[chess_piece.position[0]] + increment] + chess_piece.position[1]].chess_piece.side == 'Black':
                                if kingDanger(chess_piece, (h_scale[h_order[chess_piece.position[0]] + increment] + chess_piece.position[1])) != True:
                                    chess_piece.possible_moves.append(h_scale[h_order[chess_piece.position[0]] + increment] + chess_piece.position[1])
                            block = True

                        if h_scale[h_order[chess_piece.position[0]] + increment] == 'h':
                            block = True

                # all move top-left
                if chess_piece.position[0] != 'a' and chess_piece.position[1] != '8':
                    block = False
                    increment = 0
                    while block == False:
                        increment = increment + 1
                        if globals()[h_scale[h_order[chess_piece.position[0]] - increment] + v_scale[v_order[chess_piece.position[1]] + increment]].chess_piece == None:
                            if kingDanger(chess_piece, (h_scale[h_order[chess_piece.position[0]] - increment] + v_scale[v_order[chess_piece.position[1]] + increment])) != True:
                                chess_piece.possible_moves.append(h_scale[h_order[chess_piece.position[0]] - increment] + v_scale[v_order[chess_piece.position[1]] + increment])

                        if globals()[h_scale[h_order[chess_piece.position[0]] - increment] + v_scale[v_order[chess_piece.position[1]] + increment]].chess_piece != None:
                            if globals()[h_scale[h_order[chess_piece.position[0]] - increment] + v_scale[v_order[chess_piece.position[1]] + increment]].chess_piece.side == 'Black':
                                if kingDanger(chess_piece, (h_scale[h_order[chess_piece.position[0]] - increment] + v_scale[v_order[chess_piece.position[1]] + increment])) != True:
                                    chess_piece.possible_moves.append(h_scale[h_order[chess_piece.position[0]] - increment] + v_scale[v_order[chess_piece.position[1]] + increment])
                            block = True

                        if h_scale[h_order[chess_piece.position[0]] - increment] == 'a' or v_scale[v_order[chess_piece.position[1]] + increment] == '8':
                            block = True

                # all move top-right
                if chess_piece.position[0] != 'h' and chess_piece.position[1] != '8':
                    block = False
                    increment = 0
                    while block == False:
                        increment = increment + 1
                        if globals()[h_scale[h_order[chess_piece.position[0]] + increment] + v_scale[v_order[chess_piece.position[1]] + increment]].chess_piece == None:
                            if kingDanger(chess_piece, (h_scale[h_order[chess_piece.position[0]] + increment] + v_scale[v_order[chess_piece.position[1]] + increment])) != True:
                                chess_piece.possible_moves.append(h_scale[h_order[chess_piece.position[0]] + increment] + v_scale[v_order[chess_piece.position[1]] + increment])

                        if globals()[h_scale[h_order[chess_piece.position[0]] + increment] + v_scale[v_order[chess_piece.position[1]] + increment]].chess_piece != None:
                            if globals()[h_scale[h_order[chess_piece.position[0]] + increment] + v_scale[v_order[chess_piece.position[1]] + increment]].chess_piece.side == 'Black':
                                if kingDanger(chess_piece, (h_scale[h_order[chess_piece.position[0]] + increment] + v_scale[v_order[chess_piece.position[1]] + increment])) != True:
                                    chess_piece.possible_moves.append(h_scale[h_order[chess_piece.position[0]] + increment] + v_scale[v_order[chess_piece.position[1]] + increment])
                            block = True

                        if h_scale[h_order[chess_piece.position[0]] + increment] == 'h' or v_scale[v_order[chess_piece.position[1]] + increment] == '8':
                            block = True

                # all move bottom-left
                if chess_piece.position[0] != 'a' and chess_piece.position[1] != '1':
                    block = False
                    increment = 0
                    while block == False:
                        increment = increment + 1
                        if globals()[h_scale[h_order[chess_piece.position[0]] - increment] + v_scale[v_order[chess_piece.position[1]] - increment]].chess_piece == None:
                            if kingDanger(chess_piece, (h_scale[h_order[chess_piece.position[0]] - increment] + v_scale[v_order[chess_piece.position[1]] - increment])) != True:
                                chess_piece.possible_moves.append(h_scale[h_order[chess_piece.position[0]] - increment] + v_scale[v_order[chess_piece.position[1]] - increment])

                        if globals()[h_scale[h_order[chess_piece.position[0]] - increment] + v_scale[v_order[chess_piece.position[1]] - increment]].chess_piece != None:
                            if globals()[h_scale[h_order[chess_piece.position[0]] - increment] + v_scale[v_order[chess_piece.position[1]] - increment]].chess_piece.side == 'Black':
                                if kingDanger(chess_piece, (h_scale[h_order[chess_piece.position[0]] - increment] + v_scale[v_order[chess_piece.position[1]] - increment])) != True:
                                    chess_piece.possible_moves.append(h_scale[h_order[chess_piece.position[0]] - increment] + v_scale[v_order[chess_piece.position[1]] - increment])
                            block = True

                        if h_scale[h_order[chess_piece.position[0]] - increment] == 'a' or v_scale[v_order[chess_piece.position[1]] - increment] == '1':
                            block = True

                # all move bottom-right
                if chess_piece.position[0] != 'h' and chess_piece.position[1] != '1':
                    block = False
                    increment = 0
                    while block == False:
                        increment = increment + 1
                        if globals()[h_scale[h_order[chess_piece.position[0]] + increment] + v_scale[v_order[chess_piece.position[1]] - increment]].chess_piece == None:
                            if kingDanger(chess_piece, (h_scale[h_order[chess_piece.position[0]] + increment] + v_scale[v_order[chess_piece.position[1]] - increment])) != True:
                                chess_piece.possible_moves.append(h_scale[h_order[chess_piece.position[0]] + increment] + v_scale[v_order[chess_piece.position[1]] - increment])

                        if globals()[h_scale[h_order[chess_piece.position[0]] + increment] + v_scale[v_order[chess_piece.position[1]] - increment]].chess_piece != None:
                            if globals()[h_scale[h_order[chess_piece.position[0]] + increment] + v_scale[v_order[chess_piece.position[1]] - increment]].chess_piece.side == 'Black':
                                if kingDanger(chess_piece, (h_scale[h_order[chess_piece.position[0]] + increment] + v_scale[v_order[chess_piece.position[1]] - increment])) != True:
                                    chess_piece.possible_moves.append(h_scale[h_order[chess_piece.position[0]] + increment] + v_scale[v_order[chess_piece.position[1]] - increment])
                            block = True

                        if h_scale[h_order[chess_piece.position[0]] + increment] == 'h' or v_scale[v_order[chess_piece.position[1]] - increment] == '1':
                            block = True

            # King
            if chess_piece.name == 'King':
                # 1 move up
                if chess_piece.position[1] != '8':
                    if globals()[chess_piece.position[0] + v_scale[v_order[chess_piece.position[1]] + 1]].chess_piece == None:
                        if kingDanger(chess_piece, (chess_piece.position[0] + v_scale[v_order[chess_piece.position[1]] + 1])) != True:
                            chess_piece.possible_moves.append(chess_piece.position[0] + v_scale[v_order[chess_piece.position[1]] + 1])

                    if globals()[chess_piece.position[0] + v_scale[v_order[chess_piece.position[1]] + 1]].chess_piece != None:
                        if globals()[chess_piece.position[0] + v_scale[v_order[chess_piece.position[1]] + 1]].chess_piece.side == 'Black':
                            if kingDanger(chess_piece, (chess_piece.position[0] + v_scale[v_order[chess_piece.position[1]] + 1])) != True:
                                chess_piece.possible_moves.append(chess_piece.position[0] + v_scale[v_order[chess_piece.position[1]] + 1])

                # 1 move down
                if chess_piece.position[1] != '1':
                    if globals()[chess_piece.position[0] + v_scale[v_order[chess_piece.position[1]] - 1]].chess_piece == None:
                        if kingDanger(chess_piece, (chess_piece.position[0] + v_scale[v_order[chess_piece.position[1]] - 1])) != True:
                            chess_piece.possible_moves.append(chess_piece.position[0] + v_scale[v_order[chess_piece.position[1]] - 1])

                    if globals()[chess_piece.position[0] + v_scale[v_order[chess_piece.position[1]] - 1]].chess_piece != None:
                        if globals()[chess_piece.position[0] + v_scale[v_order[chess_piece.position[1]] - 1]].chess_piece.side == 'Black':
                            if kingDanger(chess_piece, (chess_piece.position[0] + v_scale[v_order[chess_piece.position[1]] - 1])) != True:
                                chess_piece.possible_moves.append(chess_piece.position[0] + v_scale[v_order[chess_piece.position[1]] - 1])

                # 1 move left
                if chess_piece.position[0] != 'a':
                    if globals()[h_scale[h_order[chess_piece.position[0]] - 1] + chess_piece.position[1]].chess_piece == None:
                        if kingDanger(chess_piece, (h_scale[h_order[chess_piece.position[0]] - 1] + chess_piece.position[1])) != True:
                            chess_piece.possible_moves.append(h_scale[h_order[chess_piece.position[0]] - 1] + chess_piece.position[1])

                    if globals()[h_scale[h_order[chess_piece.position[0]] - 1] + chess_piece.position[1]].chess_piece != None:
                        if globals()[h_scale[h_order[chess_piece.position[0]] - 1] + chess_piece.position[1]].chess_piece.side == 'Black':
                            if kingDanger(chess_piece, (h_scale[h_order[chess_piece.position[0]] - 1] + chess_piece.position[1])) != True:
                                chess_piece.possible_moves.append(h_scale[h_order[chess_piece.position[0]] - 1] + chess_piece.position[1])

                # 1 move right
                if chess_piece.position[0] != 'h':
                    if globals()[h_scale[h_order[chess_piece.position[0]] + 1] + chess_piece.position[1]].chess_piece == None:
                        if kingDanger(chess_piece, (h_scale[h_order[chess_piece.position[0]] + 1] + chess_piece.position[1])) != True:
                            chess_piece.possible_moves.append(h_scale[h_order[chess_piece.position[0]] + 1] + chess_piece.position[1])

                    if globals()[h_scale[h_order[chess_piece.position[0]] + 1] + chess_piece.position[1]].chess_piece != None:
                        if globals()[h_scale[h_order[chess_piece.position[0]] + 1] + chess_piece.position[1]].chess_piece.side == 'Black':
                            if kingDanger(chess_piece, (h_scale[h_order[chess_piece.position[0]] + 1] + chess_piece.position[1])) != True:
                                chess_piece.possible_moves.append(h_scale[h_order[chess_piece.position[0]] + 1] + chess_piece.position[1])

                # 1 move top-left
                if chess_piece.position[0] != 'a' and chess_piece.position[1] != '8':
                    if globals()[h_scale[h_order[chess_piece.position[0]] - 1] + v_scale[v_order[chess_piece.position[1]] + 1]].chess_piece == None:
                        if kingDanger(chess_piece, (h_scale[h_order[chess_piece.position[0]] - 1] + v_scale[v_order[chess_piece.position[1]] + 1])) != True:
                            chess_piece.possible_moves.append(h_scale[h_order[chess_piece.position[0]] - 1] + v_scale[v_order[chess_piece.position[1]] + 1])

                    if globals()[h_scale[h_order[chess_piece.position[0]] - 1] + v_scale[v_order[chess_piece.position[1]] + 1]].chess_piece != None:
                        if globals()[h_scale[h_order[chess_piece.position[0]] - 1] + v_scale[v_order[chess_piece.position[1]] + 1]].chess_piece.side == 'Black':
                            if kingDanger(chess_piece, (h_scale[h_order[chess_piece.position[0]] - 1] + v_scale[v_order[chess_piece.position[1]] + 1])) != True:
                                chess_piece.possible_moves.append(h_scale[h_order[chess_piece.position[0]] - 1] + v_scale[v_order[chess_piece.position[1]] + 1])

                # 1 move top-right
                if chess_piece.position[0] != 'h' and chess_piece.position[1] != '8':

                    if globals()[h_scale[h_order[chess_piece.position[0]] + 1] + v_scale[v_order[chess_piece.position[1]] + 1]].chess_piece == None:
                        if kingDanger(chess_piece, (h_scale[h_order[chess_piece.position[0]] + 1] + v_scale[v_order[chess_piece.position[1]] + 1])) != True:
                            chess_piece.possible_moves.append(h_scale[h_order[chess_piece.position[0]] + 1] + v_scale[v_order[chess_piece.position[1]] + 1])

                    if globals()[h_scale[h_order[chess_piece.position[0]] + 1] + v_scale[v_order[chess_piece.position[1]] + 1]].chess_piece != None:
                        if globals()[h_scale[h_order[chess_piece.position[0]] + 1] + v_scale[v_order[chess_piece.position[1]] + 1]].chess_piece.side == 'Black':
                            if kingDanger(chess_piece, (h_scale[h_order[chess_piece.position[0]] + 1] + v_scale[v_order[chess_piece.position[1]] + 1])) != True:
                                chess_piece.possible_moves.append(h_scale[h_order[chess_piece.position[0]] + 1] + v_scale[v_order[chess_piece.position[1]] + 1])

                # 1 move bottom-left
                if chess_piece.position[0] != 'a' and chess_piece.position[1] != '1':
                    if globals()[h_scale[h_order[chess_piece.position[0]] - 1] + v_scale[v_order[chess_piece.position[1]] - 1]].chess_piece == None:
                        if kingDanger(chess_piece, (h_scale[h_order[chess_piece.position[0]] - 1] + v_scale[v_order[chess_piece.position[1]] - 1])) != True:
                            chess_piece.possible_moves.append(h_scale[h_order[chess_piece.position[0]] - 1] + v_scale[v_order[chess_piece.position[1]] - 1])

                    if globals()[h_scale[h_order[chess_piece.position[0]] - 1] + v_scale[v_order[chess_piece.position[1]] - 1]].chess_piece != None:
                        if globals()[h_scale[h_order[chess_piece.position[0]] - 1] + v_scale[v_order[chess_piece.position[1]] - 1]].chess_piece.side == 'Black':
                            if kingDanger(chess_piece, (h_scale[h_order[chess_piece.position[0]] - 1] + v_scale[v_order[chess_piece.position[1]] - 1])) != True:
                                chess_piece.possible_moves.append(h_scale[h_order[chess_piece.position[0]] - 1] + v_scale[v_order[chess_piece.position[1]] - 1])

                # 1 move bottom-right
                if chess_piece.position[0] != 'h' and chess_piece.position[1] != '1':
                    if globals()[h_scale[h_order[chess_piece.position[0]] + 1] + v_scale[v_order[chess_piece.position[1]] - 1]].chess_piece == None:
                        if kingDanger(chess_piece, (h_scale[h_order[chess_piece.position[0]] + 1] + v_scale[v_order[chess_piece.position[1]] - 1])) != True:
                            chess_piece.possible_moves.append(h_scale[h_order[chess_piece.position[0]] + 1] + v_scale[v_order[chess_piece.position[1]] - 1])

                    if globals()[h_scale[h_order[chess_piece.position[0]] + 1] + v_scale[v_order[chess_piece.position[1]] - 1]].chess_piece != None:
                        if globals()[h_scale[h_order[chess_piece.position[0]] + 1] + v_scale[v_order[chess_piece.position[1]] - 1]].chess_piece.side == 'Black':
                            if kingDanger(chess_piece, (h_scale[h_order[chess_piece.position[0]] + 1] + v_scale[v_order[chess_piece.position[1]] - 1])) != True:
                                chess_piece.possible_moves.append(h_scale[h_order[chess_piece.position[0]] + 1] + v_scale[v_order[chess_piece.position[1]] - 1])
                
                # castling to left side
                if chess_piece.moved == False and white_rook_1.moved == False and white_rook_1.captured == False:
                    if kingDanger(chess_piece, 'e1') != True:
                        if kingDanger(chess_piece, 'd1') != True:
                            if b1.chess_piece == None and c1.chess_piece == None and d1.chess_piece == None:
                                if kingDanger(chess_piece, (h_scale[h_order[chess_piece.position[0]] - 2] + chess_piece.position[1])) != True:
                                    chess_piece.possible_moves.append(h_scale[h_order[chess_piece.position[0]] - 2] + chess_piece.position[1])
                                    
                # castling to right side
                if chess_piece.moved == False and white_rook_2.moved == False and white_rook_2.captured == False:
                    if kingDanger(chess_piece, 'e1') != True:
                        if kingDanger(chess_piece, 'f1') != True:
                            if f1.chess_piece == None and g1.chess_piece == None:
                                if kingDanger(chess_piece, (h_scale[h_order[chess_piece.position[0]] + 2] + chess_piece.position[1])) != True:
                                    chess_piece.possible_moves.append(h_scale[h_order[chess_piece.position[0]] + 2] + chess_piece.position[1])
        
            # Knight
            if chess_piece.name == 'Knight':
                # up diagonal left & right
                if chess_piece.position[1] != '7' and chess_piece.position[1] != '8':
                    if chess_piece.position[0] != 'a':
                        if globals()[h_scale[h_order[chess_piece.position[0]] - 1] + v_scale[v_order[chess_piece.position[1]] + 2]].chess_piece == None:
                            if kingDanger(chess_piece, (h_scale[h_order[chess_piece.position[0]] - 1] + v_scale[v_order[chess_piece.position[1]] + 2])) != True:
                                chess_piece.possible_moves.append(h_scale[h_order[chess_piece.position[0]] - 1] + v_scale[v_order[chess_piece.position[1]] + 2])

                        if globals()[h_scale[h_order[chess_piece.position[0]] - 1] + v_scale[v_order[chess_piece.position[1]] + 2]].chess_piece != None:
                            if globals()[h_scale[h_order[chess_piece.position[0]] - 1] + v_scale[v_order[chess_piece.position[1]] + 2]].chess_piece.side == 'Black':
                                if kingDanger(chess_piece, (h_scale[h_order[chess_piece.position[0]] - 1] + v_scale[v_order[chess_piece.position[1]] + 2])) != True:
                                    chess_piece.possible_moves.append(h_scale[h_order[chess_piece.position[0]] - 1] + v_scale[v_order[chess_piece.position[1]] + 2])

                    if chess_piece.position[0] != 'h':
                        if globals()[h_scale[h_order[chess_piece.position[0]] + 1] + v_scale[v_order[chess_piece.position[1]] + 2]].chess_piece == None:
                            if kingDanger(chess_piece, (h_scale[h_order[chess_piece.position[0]] + 1] + v_scale[v_order[chess_piece.position[1]] + 2])) != True:
                                chess_piece.possible_moves.append(h_scale[h_order[chess_piece.position[0]] + 1] + v_scale[v_order[chess_piece.position[1]] + 2])

                        if globals()[h_scale[h_order[chess_piece.position[0]] + 1] + v_scale[v_order[chess_piece.position[1]] + 2]].chess_piece != None:
                            if globals()[h_scale[h_order[chess_piece.position[0]] + 1] + v_scale[v_order[chess_piece.position[1]] + 2]].chess_piece.side == 'Black':
                                if kingDanger(chess_piece, (h_scale[h_order[chess_piece.position[0]] + 1] + v_scale[v_order[chess_piece.position[1]] + 2])) != True:
                                    chess_piece.possible_moves.append(h_scale[h_order[chess_piece.position[0]] + 1] + v_scale[v_order[chess_piece.position[1]] + 2])

                # down diagonal left & right
                if chess_piece.position[1] != '1' and chess_piece.position[1] != '2':
                    if chess_piece.position[0] != 'a':
                        if globals()[h_scale[h_order[chess_piece.position[0]] - 1] + v_scale[v_order[chess_piece.position[1]] - 2]].chess_piece == None:
                            if kingDanger(chess_piece, (h_scale[h_order[chess_piece.position[0]] - 1] + v_scale[v_order[chess_piece.position[1]] - 2])) != True:
                                chess_piece.possible_moves.append(h_scale[h_order[chess_piece.position[0]] - 1] + v_scale[v_order[chess_piece.position[1]] - 2])

                        if globals()[h_scale[h_order[chess_piece.position[0]] - 1] + v_scale[v_order[chess_piece.position[1]] - 2]].chess_piece != None:
                            if globals()[h_scale[h_order[chess_piece.position[0]] - 1] + v_scale[v_order[chess_piece.position[1]] - 2]].chess_piece.side == 'Black':
                                if kingDanger(chess_piece, (h_scale[h_order[chess_piece.position[0]] - 1] + v_scale[v_order[chess_piece.position[1]] - 2])) != True:
                                    chess_piece.possible_moves.append(h_scale[h_order[chess_piece.position[0]] - 1] + v_scale[v_order[chess_piece.position[1]] - 2])

                    if chess_piece.position[0] != 'h':
                        if globals()[h_scale[h_order[chess_piece.position[0]] + 1] + v_scale[v_order[chess_piece.position[1]] - 2]].chess_piece == None:
                            if kingDanger(chess_piece, (h_scale[h_order[chess_piece.position[0]] + 1] + v_scale[v_order[chess_piece.position[1]] - 2])) != True:
                                chess_piece.possible_moves.append(h_scale[h_order[chess_piece.position[0]] + 1] + v_scale[v_order[chess_piece.position[1]] - 2])

                        if globals()[h_scale[h_order[chess_piece.position[0]] + 1] + v_scale[v_order[chess_piece.position[1]] - 2]].chess_piece != None:
                            if globals()[h_scale[h_order[chess_piece.position[0]] + 1] + v_scale[v_order[chess_piece.position[1]] - 2]].chess_piece.side == 'Black':
                                if kingDanger(chess_piece, (h_scale[h_order[chess_piece.position[0]] + 1] + v_scale[v_order[chess_piece.position[1]] - 2])) != True:
                                    chess_piece.possible_moves.append(h_scale[h_order[chess_piece.position[0]] + 1] + v_scale[v_order[chess_piece.position[1]] - 2])

                # left diagonal up & down
                if chess_piece.position[0] != 'a' and chess_piece.position[0] != 'b':
                    if chess_piece.position[1] != '8':
                        if globals()[h_scale[h_order[chess_piece.position[0]] - 2] + v_scale[v_order[chess_piece.position[1]] + 1]].chess_piece == None:
                            if kingDanger(chess_piece, (h_scale[h_order[chess_piece.position[0]] - 2] + v_scale[v_order[chess_piece.position[1]] + 1])) != True:
                                chess_piece.possible_moves.append(h_scale[h_order[chess_piece.position[0]] - 2] + v_scale[v_order[chess_piece.position[1]] + 1])

                        if globals()[h_scale[h_order[chess_piece.position[0]] - 2] + v_scale[v_order[chess_piece.position[1]] + 1]].chess_piece != None:
                            if globals()[h_scale[h_order[chess_piece.position[0]] - 2] + v_scale[v_order[chess_piece.position[1]] + 1]].chess_piece.side == 'Black':
                                if kingDanger(chess_piece, (h_scale[h_order[chess_piece.position[0]] - 2] + v_scale[v_order[chess_piece.position[1]] + 1])) != True:
                                    chess_piece.possible_moves.append(h_scale[h_order[chess_piece.position[0]] - 2] + v_scale[v_order[chess_piece.position[1]] + 1])

                    if chess_piece.position[1] != '1':
                        if globals()[h_scale[h_order[chess_piece.position[0]] - 2] + v_scale[v_order[chess_piece.position[1]] - 1]].chess_piece == None:
                            if kingDanger(chess_piece, (h_scale[h_order[chess_piece.position[0]] - 2] + v_scale[v_order[chess_piece.position[1]] - 1])) != True:
                                chess_piece.possible_moves.append(h_scale[h_order[chess_piece.position[0]] - 2] + v_scale[v_order[chess_piece.position[1]] - 1])

                        if globals()[h_scale[h_order[chess_piece.position[0]] - 2] + v_scale[v_order[chess_piece.position[1]] - 1]].chess_piece != None:
                            if globals()[h_scale[h_order[chess_piece.position[0]] - 2] + v_scale[v_order[chess_piece.position[1]] - 1]].chess_piece.side == 'Black':
                                if kingDanger(chess_piece, (h_scale[h_order[chess_piece.position[0]] - 2] + v_scale[v_order[chess_piece.position[1]] - 1])) != True:
                                    chess_piece.possible_moves.append(h_scale[h_order[chess_piece.position[0]] - 2] + v_scale[v_order[chess_piece.position[1]] - 1])

                # right diagonal up & down
                if chess_piece.position[0] != 'g' and chess_piece.position[0] != 'h':
                    if chess_piece.position[1] != '8':
                        if globals()[h_scale[h_order[chess_piece.position[0]] + 2] + v_scale[v_order[chess_piece.position[1]] + 1]].chess_piece == None:
                            if kingDanger(chess_piece, (h_scale[h_order[chess_piece.position[0]] + 2] + v_scale[v_order[chess_piece.position[1]] + 1])) != True:
                                chess_piece.possible_moves.append(h_scale[h_order[chess_piece.position[0]] + 2] + v_scale[v_order[chess_piece.position[1]] + 1])

                        if globals()[h_scale[h_order[chess_piece.position[0]] + 2] + v_scale[v_order[chess_piece.position[1]] + 1]].chess_piece != None:
                            if globals()[h_scale[h_order[chess_piece.position[0]] + 2] + v_scale[v_order[chess_piece.position[1]] + 1]].chess_piece.side == 'Black':
                                if kingDanger(chess_piece, (h_scale[h_order[chess_piece.position[0]] + 2] + v_scale[v_order[chess_piece.position[1]] + 1])) != True:
                                    chess_piece.possible_moves.append(h_scale[h_order[chess_piece.position[0]] + 2] + v_scale[v_order[chess_piece.position[1]] + 1])

                    if chess_piece.position[1] != '1':
                        if globals()[h_scale[h_order[chess_piece.position[0]] + 2] + v_scale[v_order[chess_piece.position[1]] - 1]].chess_piece == None:
                            if kingDanger(chess_piece, (h_scale[h_order[chess_piece.position[0]] + 2] + v_scale[v_order[chess_piece.position[1]] - 1])) != True:
                                chess_piece.possible_moves.append(h_scale[h_order[chess_piece.position[0]] + 2] + v_scale[v_order[chess_piece.position[1]] - 1])

                        if globals()[h_scale[h_order[chess_piece.position[0]] + 2] + v_scale[v_order[chess_piece.position[1]] - 1]].chess_piece != None:
                            if globals()[h_scale[h_order[chess_piece.position[0]] + 2] + v_scale[v_order[chess_piece.position[1]] - 1]].chess_piece.side == 'Black':
                                if kingDanger(chess_piece, (h_scale[h_order[chess_piece.position[0]] + 2] + v_scale[v_order[chess_piece.position[1]] - 1])) != True:
                                    chess_piece.possible_moves.append(h_scale[h_order[chess_piece.position[0]] + 2] + v_scale[v_order[chess_piece.position[1]] - 1])
                    
def possibleMoveRefresh_Black():
    for chess_piece in [
        black_pawn_1,
        black_pawn_2,
        black_pawn_3,
        black_pawn_4,
        black_pawn_5,
        black_pawn_6,
        black_pawn_7,
        black_pawn_8,
        black_rook_1,
        black_rook_2,
        black_knight_1,
        black_knight_2,
        black_bishop_1,
        black_bishop_2,
        black_queen_1,
        black_king_1
    ]:
        chess_piece.possible_moves = []

        if chess_piece.captured == False:
            # Pawn
            if chess_piece.name == 'Pawn':
                # 1 move up
                if globals()[chess_piece.position[0] + v_scale[v_order[chess_piece.position[1]] - 1]].chess_piece == None:
                    if kingDanger(chess_piece, (chess_piece.position[0] + v_scale[v_order[chess_piece.position[1]] - 1])) != True:
                        chess_piece.possible_moves.append(chess_piece.position[0] + v_scale[v_order[chess_piece.position[1]] - 1])

                # 2 moves up
                if chess_piece.moved == False:
                    if globals()[chess_piece.position[0] + v_scale[v_order[chess_piece.position[1]] - 1]].chess_piece == None:
                        if globals()[chess_piece.position[0] + v_scale[v_order[chess_piece.position[1]] - 2]].chess_piece == None:
                            if kingDanger(chess_piece, (chess_piece.position[0] + v_scale[v_order[chess_piece.position[1]] - 2])) != True:
                                chess_piece.possible_moves.append(chess_piece.position[0] + v_scale[v_order[chess_piece.position[1]] - 2])

                # eat diagonally (left)
                if chess_piece.position[0] != 'a':
                    if globals()[h_scale[h_order[chess_piece.position[0]] - 1] + v_scale[v_order[chess_piece.position[1]] - 1]].chess_piece != None:
                        if globals()[h_scale[h_order[chess_piece.position[0]] - 1] + v_scale[v_order[chess_piece.position[1]] - 1]].chess_piece.side == 'White':
                            if kingDanger(chess_piece, (h_scale[h_order[chess_piece.position[0]] - 1] + v_scale[v_order[chess_piece.position[1]] - 1])) != True:
                                chess_piece.possible_moves.append(h_scale[h_order[chess_piece.position[0]] - 1] + v_scale[v_order[chess_piece.position[1]] - 1])

                # eat diagonally (right)
                if chess_piece.position[0] != 'h':
                    if globals()[h_scale[h_order[chess_piece.position[0]] + 1] + v_scale[v_order[chess_piece.position[1]] - 1]].chess_piece != None:
                        if globals()[h_scale[h_order[chess_piece.position[0]] + 1] + v_scale[v_order[chess_piece.position[1]] - 1]].chess_piece.side == 'White':
                            if kingDanger(chess_piece, (h_scale[h_order[chess_piece.position[0]] + 1] + v_scale[v_order[chess_piece.position[1]] - 1])) != True:
                                chess_piece.possible_moves.append(h_scale[h_order[chess_piece.position[0]] + 1] + v_scale[v_order[chess_piece.position[1]] - 1])

                # en passant left 
                if chess_piece.position[1] == '4':
                    if globals()[h_scale[h_order[chess_piece.position[0]] - 1] + chess_piece.position[1]].chess_piece != None:
                        if globals()[h_scale[h_order[chess_piece.position[0]] - 1] + chess_piece.position[1]].chess_piece.name == 'Pawn':
                            if globals()[h_scale[h_order[chess_piece.position[0]] - 1] + chess_piece.position[1]].chess_piece.side == 'White':
                                if white_last_turn_pawn_jump == (h_scale[h_order[chess_piece.position[0]] - 1] + chess_piece.position[1]):
                                    if kingDanger(chess_piece, (h_scale[h_order[chess_piece.position[0]] - 1] + v_scale[v_order[chess_piece.position[1]] - 1])) != True:
                                        chess_piece.possible_moves.append(h_scale[h_order[chess_piece.position[0]] - 1] + v_scale[v_order[chess_piece.position[1]] - 1])
                                        
                # en passant right 
                if chess_piece.position[1] == '4':
                    if globals()[h_scale[h_order[chess_piece.position[0]] + 1] + chess_piece.position[1]].chess_piece != None:
                        if globals()[h_scale[h_order[chess_piece.position[0]] + 1] + chess_piece.position[1]].chess_piece.name == 'Pawn':
                            if globals()[h_scale[h_order[chess_piece.position[0]] + 1] + chess_piece.position[1]].chess_piece.side == 'White':
                                if white_last_turn_pawn_jump == (h_scale[h_order[chess_piece.position[0]] + 1] + chess_piece.position[1]):
                                    if kingDanger(chess_piece, (h_scale[h_order[chess_piece.position[0]] + 1] + v_scale[v_order[chess_piece.position[1]] - 1])) != True:
                                        chess_piece.possible_moves.append(h_scale[h_order[chess_piece.position[0]] + 1] + v_scale[v_order[chess_piece.position[1]] - 1])
                                
            # Rook
            if chess_piece.name == 'Rook':
                # all move up
                if chess_piece.position[1] != '8':
                    block = False
                    increment = 0
                    while block == False:
                        increment = increment + 1
                        if globals()[chess_piece.position[0] + v_scale[v_order[chess_piece.position[1]] + increment]].chess_piece == None:
                            if kingDanger(chess_piece, (chess_piece.position[0] + v_scale[v_order[chess_piece.position[1]] + increment])) != True:
                                chess_piece.possible_moves.append(chess_piece.position[0] + v_scale[v_order[chess_piece.position[1]] + increment])

                        if globals()[chess_piece.position[0] + v_scale[v_order[chess_piece.position[1]] + increment]].chess_piece != None:
                            if globals()[chess_piece.position[0] + v_scale[v_order[chess_piece.position[1]] + increment]].chess_piece.side == 'White':
                                if kingDanger(chess_piece, (chess_piece.position[0] + v_scale[v_order[chess_piece.position[1]] + increment])) != True:
                                    chess_piece.possible_moves.append(chess_piece.position[0] + v_scale[v_order[chess_piece.position[1]] + increment])
                            block = True

                        if v_scale[v_order[chess_piece.position[1]] + increment] == '8':
                            block = True

                # all move down
                if chess_piece.position[1] != '1':
                    block = False
                    increment = 0
                    while block == False:
                        increment = increment + 1
                        if globals()[chess_piece.position[0] + v_scale[v_order[chess_piece.position[1]] - increment]].chess_piece == None:
                            if kingDanger(chess_piece, (chess_piece.position[0] + v_scale[v_order[chess_piece.position[1]] - increment])) != True:
                                chess_piece.possible_moves.append(chess_piece.position[0] + v_scale[v_order[chess_piece.position[1]] - increment])

                        if globals()[chess_piece.position[0] + v_scale[v_order[chess_piece.position[1]] - increment]].chess_piece != None:
                            if globals()[chess_piece.position[0] + v_scale[v_order[chess_piece.position[1]] - increment]].chess_piece.side == 'White':
                                if kingDanger(chess_piece, (chess_piece.position[0] + v_scale[v_order[chess_piece.position[1]] - increment])) != True:
                                    chess_piece.possible_moves.append(chess_piece.position[0] + v_scale[v_order[chess_piece.position[1]] - increment])
                            block = True

                        if v_scale[v_order[chess_piece.position[1]] - increment] == '1':
                            block = True

                # all move left
                if chess_piece.position[0] != 'a':
                    block = False
                    increment = 0
                    while block == False:
                        increment = increment + 1
                        if globals()[h_scale[h_order[chess_piece.position[0]] - increment] + chess_piece.position[1]].chess_piece == None:
                            if kingDanger(chess_piece, (h_scale[h_order[chess_piece.position[0]] - increment] + chess_piece.position[1])) != True:
                                chess_piece.possible_moves.append(h_scale[h_order[chess_piece.position[0]] - increment] + chess_piece.position[1])

                        if globals()[h_scale[h_order[chess_piece.position[0]] - increment] + chess_piece.position[1]].chess_piece != None:
                            if globals()[h_scale[h_order[chess_piece.position[0]] - increment] + chess_piece.position[1]].chess_piece.side == 'White':
                                if kingDanger(chess_piece, (h_scale[h_order[chess_piece.position[0]] - increment] + chess_piece.position[1])) != True:
                                    chess_piece.possible_moves.append(h_scale[h_order[chess_piece.position[0]] - increment] + chess_piece.position[1])
                            block = True

                        if h_scale[h_order[chess_piece.position[0]] - increment] == 'a':
                            block = True

                # all move right
                if chess_piece.position[0] != 'h':
                    block = False
                    increment = 0
                    while block == False:
                        increment = increment + 1
                        if globals()[h_scale[h_order[chess_piece.position[0]] + increment] + chess_piece.position[1]].chess_piece == None:
                            if kingDanger(chess_piece, (h_scale[h_order[chess_piece.position[0]] + increment] + chess_piece.position[1])) != True:
                                chess_piece.possible_moves.append(h_scale[h_order[chess_piece.position[0]] + increment] + chess_piece.position[1])

                        if globals()[h_scale[h_order[chess_piece.position[0]] + increment] + chess_piece.position[1]].chess_piece != None:
                            if globals()[h_scale[h_order[chess_piece.position[0]] + increment] + chess_piece.position[1]].chess_piece.side == 'White':
                                if kingDanger(chess_piece, (h_scale[h_order[chess_piece.position[0]] + increment] + chess_piece.position[1])) != True:
                                    chess_piece.possible_moves.append(h_scale[h_order[chess_piece.position[0]] + increment] + chess_piece.position[1])
                            block = True

                        if h_scale[h_order[chess_piece.position[0]] + increment] == 'h':
                            block = True

            # Bishop
            if chess_piece.name == 'Bishop':
                # all move top-left
                if chess_piece.position[0] != 'a' and chess_piece.position[1] != '8':
                    block = False
                    increment = 0
                    while block == False:
                        increment = increment + 1
                        if globals()[h_scale[h_order[chess_piece.position[0]] - increment] + v_scale[v_order[chess_piece.position[1]] + increment]].chess_piece == None:
                            if kingDanger(chess_piece, (h_scale[h_order[chess_piece.position[0]] - increment] + v_scale[v_order[chess_piece.position[1]] + increment])) != True:
                                chess_piece.possible_moves.append(h_scale[h_order[chess_piece.position[0]] - increment] + v_scale[v_order[chess_piece.position[1]] + increment])

                        if globals()[h_scale[h_order[chess_piece.position[0]] - increment] + v_scale[v_order[chess_piece.position[1]] + increment]].chess_piece != None:
                            if globals()[h_scale[h_order[chess_piece.position[0]] - increment] + v_scale[v_order[chess_piece.position[1]] + increment]].chess_piece.side == 'White':
                                if kingDanger(chess_piece, (h_scale[h_order[chess_piece.position[0]] - increment] + v_scale[v_order[chess_piece.position[1]] + increment])) != True:
                                    chess_piece.possible_moves.append(h_scale[h_order[chess_piece.position[0]] - increment] + v_scale[v_order[chess_piece.position[1]] + increment])
                            block = True

                        if h_scale[h_order[chess_piece.position[0]] - increment] == 'a' or v_scale[v_order[chess_piece.position[1]] + increment] == '8':
                            block = True

                # all move top-right
                if chess_piece.position[0] != 'h' and chess_piece.position[1] != '8':
                    block = False
                    increment = 0
                    while block == False:
                        increment = increment + 1
                        if globals()[h_scale[h_order[chess_piece.position[0]] + increment] + v_scale[v_order[chess_piece.position[1]] + increment]].chess_piece == None:
                            if kingDanger(chess_piece, (h_scale[h_order[chess_piece.position[0]] + increment] + v_scale[v_order[chess_piece.position[1]] + increment])) != True:
                                chess_piece.possible_moves.append(h_scale[h_order[chess_piece.position[0]] + increment] + v_scale[v_order[chess_piece.position[1]] + increment])

                        if globals()[h_scale[h_order[chess_piece.position[0]] + increment] + v_scale[v_order[chess_piece.position[1]] + increment]].chess_piece != None:
                            if globals()[h_scale[h_order[chess_piece.position[0]] + increment] + v_scale[v_order[chess_piece.position[1]] + increment]].chess_piece.side == 'White':
                                if kingDanger(chess_piece, (h_scale[h_order[chess_piece.position[0]] + increment] + v_scale[v_order[chess_piece.position[1]] + increment])) != True:
                                    chess_piece.possible_moves.append(h_scale[h_order[chess_piece.position[0]] + increment] + v_scale[v_order[chess_piece.position[1]] + increment])
                            block = True

                        if h_scale[h_order[chess_piece.position[0]] + increment] == 'h' or v_scale[v_order[chess_piece.position[1]] + increment] == '8':
                            block = True

                # all move bottom-left
                if chess_piece.position[0] != 'a' and chess_piece.position[1] != '1':
                    block = False
                    increment = 0
                    while block == False:
                        increment = increment + 1
                        if globals()[h_scale[h_order[chess_piece.position[0]] - increment] + v_scale[v_order[chess_piece.position[1]] - increment]].chess_piece == None:
                            if kingDanger(chess_piece, (h_scale[h_order[chess_piece.position[0]] - increment] + v_scale[v_order[chess_piece.position[1]] - increment])) != True:
                                chess_piece.possible_moves.append(h_scale[h_order[chess_piece.position[0]] - increment] + v_scale[v_order[chess_piece.position[1]] - increment])

                        if globals()[h_scale[h_order[chess_piece.position[0]] - increment] + v_scale[v_order[chess_piece.position[1]] - increment]].chess_piece != None:
                            if globals()[h_scale[h_order[chess_piece.position[0]] - increment] + v_scale[v_order[chess_piece.position[1]] - increment]].chess_piece.side == 'White':
                                if kingDanger(chess_piece, (h_scale[h_order[chess_piece.position[0]] - increment] + v_scale[v_order[chess_piece.position[1]] - increment])) != True:
                                    chess_piece.possible_moves.append(h_scale[h_order[chess_piece.position[0]] - increment] + v_scale[v_order[chess_piece.position[1]] - increment])
                            block = True

                        if h_scale[h_order[chess_piece.position[0]] - increment] == 'a' or v_scale[v_order[chess_piece.position[1]] - increment] == '1':
                            block = True

                # all move bottom-right
                if chess_piece.position[0] != 'h' and chess_piece.position[1] != '1':
                    block = False
                    increment = 0
                    while block == False:
                        increment = increment + 1
                        if globals()[h_scale[h_order[chess_piece.position[0]] + increment] + v_scale[v_order[chess_piece.position[1]] - increment]].chess_piece == None:
                            if kingDanger(chess_piece, (h_scale[h_order[chess_piece.position[0]] + increment] + v_scale[v_order[chess_piece.position[1]] - increment])) != True:
                                chess_piece.possible_moves.append(h_scale[h_order[chess_piece.position[0]] + increment] + v_scale[v_order[chess_piece.position[1]] - increment])

                        if globals()[h_scale[h_order[chess_piece.position[0]] + increment] + v_scale[v_order[chess_piece.position[1]] - increment]].chess_piece != None:
                            if globals()[h_scale[h_order[chess_piece.position[0]] + increment] + v_scale[v_order[chess_piece.position[1]] - increment]].chess_piece.side == 'White':
                                if kingDanger(chess_piece, (h_scale[h_order[chess_piece.position[0]] + increment] + v_scale[v_order[chess_piece.position[1]] - increment])) != True:
                                    chess_piece.possible_moves.append(h_scale[h_order[chess_piece.position[0]] + increment] + v_scale[v_order[chess_piece.position[1]] - increment])
                            block = True

                        if h_scale[h_order[chess_piece.position[0]] + increment] == 'h' or v_scale[v_order[chess_piece.position[1]] - increment] == '1':
                            block = True

            # Queen
            if chess_piece.name == 'Queen':
                # all move up
                if chess_piece.position[1] != '8':
                    block = False
                    increment = 0
                    while block == False:
                        increment = increment + 1
                        if globals()[chess_piece.position[0] + v_scale[v_order[chess_piece.position[1]] + increment]].chess_piece == None:
                            if kingDanger(chess_piece, (chess_piece.position[0] + v_scale[v_order[chess_piece.position[1]] + increment])) != True:
                                chess_piece.possible_moves.append(chess_piece.position[0] + v_scale[v_order[chess_piece.position[1]] + increment])

                        if globals()[chess_piece.position[0] + v_scale[v_order[chess_piece.position[1]] + increment]].chess_piece != None:
                            if globals()[chess_piece.position[0] + v_scale[v_order[chess_piece.position[1]] + increment]].chess_piece.side == 'White':
                                if kingDanger(chess_piece, (chess_piece.position[0] + v_scale[v_order[chess_piece.position[1]] + increment])) != True:
                                    chess_piece.possible_moves.append(chess_piece.position[0] + v_scale[v_order[chess_piece.position[1]] + increment])
                            block = True

                        if v_scale[v_order[chess_piece.position[1]] + increment] == '8':
                            block = True

                # all move down
                if chess_piece.position[1] != '1':
                    block = False
                    increment = 0
                    while block == False:
                        increment = increment + 1
                        if globals()[chess_piece.position[0] + v_scale[v_order[chess_piece.position[1]] - increment]].chess_piece == None:
                            if kingDanger(chess_piece, (chess_piece.position[0] + v_scale[v_order[chess_piece.position[1]] - increment])) != True:
                                chess_piece.possible_moves.append(chess_piece.position[0] + v_scale[v_order[chess_piece.position[1]] - increment])

                        if globals()[chess_piece.position[0] + v_scale[v_order[chess_piece.position[1]] - increment]].chess_piece != None:
                            if globals()[chess_piece.position[0] + v_scale[v_order[chess_piece.position[1]] - increment]].chess_piece.side == 'White':
                                if kingDanger(chess_piece, (chess_piece.position[0] + v_scale[v_order[chess_piece.position[1]] - increment])) != True:
                                    chess_piece.possible_moves.append(chess_piece.position[0] + v_scale[v_order[chess_piece.position[1]] - increment])
                            block = True

                        if v_scale[v_order[chess_piece.position[1]] - increment] == '1':
                            block = True

                # all move left
                if chess_piece.position[0] != 'a':
                    block = False
                    increment = 0
                    while block == False:
                        increment = increment + 1
                        if globals()[h_scale[h_order[chess_piece.position[0]] - increment] + chess_piece.position[1]].chess_piece == None:
                            if kingDanger(chess_piece, (h_scale[h_order[chess_piece.position[0]] - increment] + chess_piece.position[1])) != True:
                                chess_piece.possible_moves.append(h_scale[h_order[chess_piece.position[0]] - increment] + chess_piece.position[1])

                        if globals()[h_scale[h_order[chess_piece.position[0]] - increment] + chess_piece.position[1]].chess_piece != None:
                            if globals()[h_scale[h_order[chess_piece.position[0]] - increment] + chess_piece.position[1]].chess_piece.side == 'White':
                                if kingDanger(chess_piece, (h_scale[h_order[chess_piece.position[0]] - increment] + chess_piece.position[1])) != True:
                                    chess_piece.possible_moves.append(h_scale[h_order[chess_piece.position[0]] - increment] + chess_piece.position[1])
                            block = True

                        if h_scale[h_order[chess_piece.position[0]] - increment] == 'a':
                            block = True

                # all move right
                if chess_piece.position[0] != 'h':
                    block = False
                    increment = 0
                    while block == False:
                        increment = increment + 1
                        if globals()[h_scale[h_order[chess_piece.position[0]] + increment] + chess_piece.position[1]].chess_piece == None:
                            if kingDanger(chess_piece, (h_scale[h_order[chess_piece.position[0]] + increment] + chess_piece.position[1])) != True:
                                chess_piece.possible_moves.append(h_scale[h_order[chess_piece.position[0]] + increment] + chess_piece.position[1])

                        if globals()[h_scale[h_order[chess_piece.position[0]] + increment] + chess_piece.position[1]].chess_piece != None:
                            if globals()[h_scale[h_order[chess_piece.position[0]] + increment] + chess_piece.position[1]].chess_piece.side == 'White':
                                if kingDanger(chess_piece, (h_scale[h_order[chess_piece.position[0]] + increment] + chess_piece.position[1])) != True:
                                    chess_piece.possible_moves.append(h_scale[h_order[chess_piece.position[0]] + increment] + chess_piece.position[1])
                            block = True

                        if h_scale[h_order[chess_piece.position[0]] + increment] == 'h':
                            block = True

                    # all move top-left
                if chess_piece.position[0] != 'a' and chess_piece.position[1] != '8':
                    block = False
                    increment = 0
                    while block == False:
                        increment = increment + 1
                        if globals()[h_scale[h_order[chess_piece.position[0]] - increment] + v_scale[v_order[chess_piece.position[1]] + increment]].chess_piece == None:
                            if kingDanger(chess_piece, (h_scale[h_order[chess_piece.position[0]] - increment] + v_scale[v_order[chess_piece.position[1]] + increment])) != True:
                                chess_piece.possible_moves.append(h_scale[h_order[chess_piece.position[0]] - increment] + v_scale[v_order[chess_piece.position[1]] + increment])

                        if globals()[h_scale[h_order[chess_piece.position[0]] - increment] + v_scale[v_order[chess_piece.position[1]] + increment]].chess_piece != None:
                            if globals()[h_scale[h_order[chess_piece.position[0]] - increment] + v_scale[v_order[chess_piece.position[1]] + increment]].chess_piece.side == 'White':
                                if kingDanger(chess_piece, (h_scale[h_order[chess_piece.position[0]] - increment] + v_scale[v_order[chess_piece.position[1]] + increment])) != True:
                                    chess_piece.possible_moves.append(h_scale[h_order[chess_piece.position[0]] - increment] + v_scale[v_order[chess_piece.position[1]] + increment])
                            block = True

                        if h_scale[h_order[chess_piece.position[0]] - increment] == 'a' or v_scale[v_order[chess_piece.position[1]] + increment] == '8':
                            block = True

                # all move top-right
                if chess_piece.position[0] != 'h' and chess_piece.position[1] != '8':
                    block = False
                    increment = 0
                    while block == False:
                        increment = increment + 1
                        if globals()[h_scale[h_order[chess_piece.position[0]] + increment] + v_scale[v_order[chess_piece.position[1]] + increment]].chess_piece == None:
                            if kingDanger(chess_piece, (h_scale[h_order[chess_piece.position[0]] + increment] + v_scale[v_order[chess_piece.position[1]] + increment])) != True:
                                chess_piece.possible_moves.append(h_scale[h_order[chess_piece.position[0]] + increment] + v_scale[v_order[chess_piece.position[1]] + increment])

                        if globals()[h_scale[h_order[chess_piece.position[0]] + increment] + v_scale[v_order[chess_piece.position[1]] + increment]].chess_piece != None:
                            if globals()[h_scale[h_order[chess_piece.position[0]] + increment] + v_scale[v_order[chess_piece.position[1]] + increment]].chess_piece.side == 'White':
                                if kingDanger(chess_piece, (h_scale[h_order[chess_piece.position[0]] + increment] + v_scale[v_order[chess_piece.position[1]] + increment])) != True:
                                    chess_piece.possible_moves.append(h_scale[h_order[chess_piece.position[0]] + increment] + v_scale[v_order[chess_piece.position[1]] + increment])
                            block = True

                        if h_scale[h_order[chess_piece.position[0]] + increment] == 'h' or v_scale[v_order[chess_piece.position[1]] + increment] == '8':
                            block = True

                # all move bottom-left
                if chess_piece.position[0] != 'a' and chess_piece.position[1] != '1':
                    block = False
                    increment = 0
                    while block == False:
                        increment = increment + 1
                        if globals()[h_scale[h_order[chess_piece.position[0]] - increment] + v_scale[v_order[chess_piece.position[1]] - increment]].chess_piece == None:
                            if kingDanger(chess_piece, (h_scale[h_order[chess_piece.position[0]] - increment] + v_scale[v_order[chess_piece.position[1]] - increment])) != True:
                                chess_piece.possible_moves.append(h_scale[h_order[chess_piece.position[0]] - increment] + v_scale[v_order[chess_piece.position[1]] - increment])

                        if globals()[h_scale[h_order[chess_piece.position[0]] - increment] + v_scale[v_order[chess_piece.position[1]] - increment]].chess_piece != None:
                            if globals()[h_scale[h_order[chess_piece.position[0]] - increment] + v_scale[v_order[chess_piece.position[1]] - increment]].chess_piece.side == 'White':
                                if kingDanger(chess_piece, (h_scale[h_order[chess_piece.position[0]] - increment] + v_scale[v_order[chess_piece.position[1]] - increment])) != True:
                                    chess_piece.possible_moves.append(h_scale[h_order[chess_piece.position[0]] - increment] + v_scale[v_order[chess_piece.position[1]] - increment])
                            block = True

                        if h_scale[h_order[chess_piece.position[0]] - increment] == 'a' or v_scale[v_order[chess_piece.position[1]] - increment] == '1':
                            block = True

                # all move bottom-right
                if chess_piece.position[0] != 'h' and chess_piece.position[1] != '1':
                    block = False
                    increment = 0
                    while block == False:
                        increment = increment + 1
                        if globals()[h_scale[h_order[chess_piece.position[0]] + increment] + v_scale[v_order[chess_piece.position[1]] - increment]].chess_piece == None:
                            if kingDanger(chess_piece, (h_scale[h_order[chess_piece.position[0]] + increment] + v_scale[v_order[chess_piece.position[1]] - increment])) != True:
                                chess_piece.possible_moves.append(h_scale[h_order[chess_piece.position[0]] + increment] + v_scale[v_order[chess_piece.position[1]] - increment])

                        if globals()[h_scale[h_order[chess_piece.position[0]] + increment] + v_scale[v_order[chess_piece.position[1]] - increment]].chess_piece != None:
                            if globals()[h_scale[h_order[chess_piece.position[0]] + increment] + v_scale[v_order[chess_piece.position[1]] - increment]].chess_piece.side == 'White':
                                if kingDanger(chess_piece, (h_scale[h_order[chess_piece.position[0]] + increment] + v_scale[v_order[chess_piece.position[1]] - increment])) != True:
                                    chess_piece.possible_moves.append(h_scale[h_order[chess_piece.position[0]] + increment] + v_scale[v_order[chess_piece.position[1]] - increment])
                            block = True

                        if h_scale[h_order[chess_piece.position[0]] + increment] == 'h' or v_scale[v_order[chess_piece.position[1]] - increment] == '1':
                            block = True

            # King
            if chess_piece.name == 'King':
                # 1 move up
                if chess_piece.position[1] != '8':
                    if globals()[chess_piece.position[0] + v_scale[v_order[chess_piece.position[1]] + 1]].chess_piece == None:
                        if kingDanger(chess_piece, (chess_piece.position[0] + v_scale[v_order[chess_piece.position[1]] + 1])) != True:
                            chess_piece.possible_moves.append(chess_piece.position[0] + v_scale[v_order[chess_piece.position[1]] + 1])

                    if globals()[chess_piece.position[0] + v_scale[v_order[chess_piece.position[1]] + 1]].chess_piece != None:
                        if globals()[chess_piece.position[0] + v_scale[v_order[chess_piece.position[1]] + 1]].chess_piece.side == 'White':
                            if kingDanger(chess_piece, (chess_piece.position[0] + v_scale[v_order[chess_piece.position[1]] + 1])) != True:
                                chess_piece.possible_moves.append(chess_piece.position[0] + v_scale[v_order[chess_piece.position[1]] + 1])

                # 1 move down
                if chess_piece.position[1] != '1':
                    if globals()[chess_piece.position[0] + v_scale[v_order[chess_piece.position[1]] - 1]].chess_piece == None:
                        if kingDanger(chess_piece, (chess_piece.position[0] + v_scale[v_order[chess_piece.position[1]] - 1])) != True:
                            chess_piece.possible_moves.append(chess_piece.position[0] + v_scale[v_order[chess_piece.position[1]] - 1])

                    if globals()[chess_piece.position[0] + v_scale[v_order[chess_piece.position[1]] - 1]].chess_piece != None:
                        if globals()[chess_piece.position[0] + v_scale[v_order[chess_piece.position[1]] - 1]].chess_piece.side == 'White':
                            if kingDanger(chess_piece, (chess_piece.position[0] + v_scale[v_order[chess_piece.position[1]] - 1])) != True:
                                chess_piece.possible_moves.append(chess_piece.position[0] + v_scale[v_order[chess_piece.position[1]] - 1])

                # 1 move left
                if chess_piece.position[0] != 'a':
                    if globals()[h_scale[h_order[chess_piece.position[0]] - 1] + chess_piece.position[1]].chess_piece == None:
                        if kingDanger(chess_piece, (h_scale[h_order[chess_piece.position[0]] - 1] + chess_piece.position[1])) != True:
                            chess_piece.possible_moves.append(h_scale[h_order[chess_piece.position[0]] - 1] + chess_piece.position[1])

                    if globals()[h_scale[h_order[chess_piece.position[0]] - 1] + chess_piece.position[1]].chess_piece != None:
                        if globals()[h_scale[h_order[chess_piece.position[0]] - 1] + chess_piece.position[1]].chess_piece.side == 'White':
                            if kingDanger(chess_piece, (h_scale[h_order[chess_piece.position[0]] - 1] + chess_piece.position[1])) != True:
                                chess_piece.possible_moves.append(h_scale[h_order[chess_piece.position[0]] - 1] + chess_piece.position[1])

                # 1 move right
                if chess_piece.position[0] != 'h':
                    if globals()[h_scale[h_order[chess_piece.position[0]] + 1] + chess_piece.position[1]].chess_piece == None:
                        if kingDanger(chess_piece, (h_scale[h_order[chess_piece.position[0]] + 1] + chess_piece.position[1])) != True:
                            chess_piece.possible_moves.append(h_scale[h_order[chess_piece.position[0]] + 1] + chess_piece.position[1])

                    if globals()[h_scale[h_order[chess_piece.position[0]] + 1] + chess_piece.position[1]].chess_piece != None:
                        if globals()[h_scale[h_order[chess_piece.position[0]] + 1] + chess_piece.position[1]].chess_piece.side == 'White':
                            if kingDanger(chess_piece, (h_scale[h_order[chess_piece.position[0]] + 1] + chess_piece.position[1])) != True:
                                chess_piece.possible_moves.append(h_scale[h_order[chess_piece.position[0]] + 1] + chess_piece.position[1])

                # 1 move top-left
                if chess_piece.position[0] != 'a' and chess_piece.position[1] != '8':
                    if globals()[h_scale[h_order[chess_piece.position[0]] - 1] + v_scale[v_order[chess_piece.position[1]] + 1]].chess_piece == None:
                        if kingDanger(chess_piece, (h_scale[h_order[chess_piece.position[0]] - 1] + v_scale[v_order[chess_piece.position[1]] + 1])) != True:
                            chess_piece.possible_moves.append(h_scale[h_order[chess_piece.position[0]] - 1] + v_scale[v_order[chess_piece.position[1]] + 1])

                    if globals()[h_scale[h_order[chess_piece.position[0]] - 1] + v_scale[v_order[chess_piece.position[1]] + 1]].chess_piece != None:
                        if globals()[h_scale[h_order[chess_piece.position[0]] - 1] + v_scale[v_order[chess_piece.position[1]] + 1]].chess_piece.side == 'White':
                            if kingDanger(chess_piece, (h_scale[h_order[chess_piece.position[0]] - 1] + v_scale[v_order[chess_piece.position[1]] + 1])) != True:
                                chess_piece.possible_moves.append(h_scale[h_order[chess_piece.position[0]] - 1] + v_scale[v_order[chess_piece.position[1]] + 1])

                # 1 move top-right
                if chess_piece.position[0] != 'h' and chess_piece.position[1] != '8':

                    if globals()[h_scale[h_order[chess_piece.position[0]] + 1] + v_scale[v_order[chess_piece.position[1]] + 1]].chess_piece == None:
                        if kingDanger(chess_piece, (h_scale[h_order[chess_piece.position[0]] + 1] + v_scale[v_order[chess_piece.position[1]] + 1])) != True:
                            chess_piece.possible_moves.append(h_scale[h_order[chess_piece.position[0]] + 1] + v_scale[v_order[chess_piece.position[1]] + 1])

                    if globals()[h_scale[h_order[chess_piece.position[0]] + 1] + v_scale[v_order[chess_piece.position[1]] + 1]].chess_piece != None:
                        if globals()[h_scale[h_order[chess_piece.position[0]] + 1] + v_scale[v_order[chess_piece.position[1]] + 1]].chess_piece.side == 'White':
                            if kingDanger(chess_piece, (h_scale[h_order[chess_piece.position[0]] + 1] + v_scale[v_order[chess_piece.position[1]] + 1])) != True:
                                chess_piece.possible_moves.append(h_scale[h_order[chess_piece.position[0]] + 1] + v_scale[v_order[chess_piece.position[1]] + 1])

                # 1 move bottom-left
                if chess_piece.position[0] != 'a' and chess_piece.position[1] != '1':
                    if globals()[h_scale[h_order[chess_piece.position[0]] - 1] + v_scale[v_order[chess_piece.position[1]] - 1]].chess_piece == None:
                        if kingDanger(chess_piece, (h_scale[h_order[chess_piece.position[0]] - 1] + v_scale[v_order[chess_piece.position[1]] - 1])) != True:
                            chess_piece.possible_moves.append(h_scale[h_order[chess_piece.position[0]] - 1] + v_scale[v_order[chess_piece.position[1]] - 1])

                    if globals()[h_scale[h_order[chess_piece.position[0]] - 1] + v_scale[v_order[chess_piece.position[1]] - 1]].chess_piece != None:
                        if globals()[h_scale[h_order[chess_piece.position[0]] - 1] + v_scale[v_order[chess_piece.position[1]] - 1]].chess_piece.side == 'White':
                            if kingDanger(chess_piece, (h_scale[h_order[chess_piece.position[0]] - 1] + v_scale[v_order[chess_piece.position[1]] - 1])) != True:
                                chess_piece.possible_moves.append(h_scale[h_order[chess_piece.position[0]] - 1] + v_scale[v_order[chess_piece.position[1]] - 1])

                # 1 move bottom-right
                if chess_piece.position[0] != 'h' and chess_piece.position[1] != '1':
                    if globals()[h_scale[h_order[chess_piece.position[0]] + 1] + v_scale[v_order[chess_piece.position[1]] - 1]].chess_piece == None:
                        if kingDanger(chess_piece, (h_scale[h_order[chess_piece.position[0]] + 1] + v_scale[v_order[chess_piece.position[1]] - 1])) != True:
                            chess_piece.possible_moves.append(h_scale[h_order[chess_piece.position[0]] + 1] + v_scale[v_order[chess_piece.position[1]] - 1])

                    if globals()[h_scale[h_order[chess_piece.position[0]] + 1] + v_scale[v_order[chess_piece.position[1]] - 1]].chess_piece != None:
                        if globals()[h_scale[h_order[chess_piece.position[0]] + 1] + v_scale[v_order[chess_piece.position[1]] - 1]].chess_piece.side == 'White':
                            if kingDanger(chess_piece, (h_scale[h_order[chess_piece.position[0]] + 1] + v_scale[v_order[chess_piece.position[1]] - 1])) != True:
                                chess_piece.possible_moves.append(h_scale[h_order[chess_piece.position[0]] + 1] + v_scale[v_order[chess_piece.position[1]] - 1])
                                
                # castling to left side
                if chess_piece.moved == False and black_rook_1.moved == False and black_rook_1.captured == False:
                    if kingDanger(chess_piece, 'e8') != True:
                        if kingDanger(chess_piece, 'd8') != True:
                            if b8.chess_piece == None and c8.chess_piece == None and d8.chess_piece == None:
                                if kingDanger(chess_piece, (h_scale[h_order[chess_piece.position[0]] - 2] + chess_piece.position[1])) != True:
                                    chess_piece.possible_moves.append(h_scale[h_order[chess_piece.position[0]] - 2] + chess_piece.position[1])
                                    
                # castling to right side
                if chess_piece.moved == False and black_rook_2.moved == False and black_rook_2.captured == False:
                    if kingDanger(chess_piece, 'e8') != True:
                        if kingDanger(chess_piece, 'f8') != True:
                            if f8.chess_piece == None and g8.chess_piece == None:
                                if kingDanger(chess_piece, (h_scale[h_order[chess_piece.position[0]] + 2] + chess_piece.position[1])) != True:
                                    chess_piece.possible_moves.append(h_scale[h_order[chess_piece.position[0]] + 2] + chess_piece.position[1])

            # Knight
            if chess_piece.name == 'Knight':
                # up diagonal left & right
                if chess_piece.position[1] != '7' and chess_piece.position[1] != '8':
                    if chess_piece.position[0] != 'a':
                        if globals()[h_scale[h_order[chess_piece.position[0]] - 1] + v_scale[v_order[chess_piece.position[1]] + 2]].chess_piece == None:
                            if kingDanger(chess_piece, (h_scale[h_order[chess_piece.position[0]] - 1] + v_scale[v_order[chess_piece.position[1]] + 2])) != True:
                                chess_piece.possible_moves.append(h_scale[h_order[chess_piece.position[0]] - 1] + v_scale[v_order[chess_piece.position[1]] + 2])

                        if globals()[h_scale[h_order[chess_piece.position[0]] - 1] + v_scale[v_order[chess_piece.position[1]] + 2]].chess_piece != None:
                            if globals()[h_scale[h_order[chess_piece.position[0]] - 1] + v_scale[v_order[chess_piece.position[1]] + 2]].chess_piece.side == 'White':
                                if kingDanger(chess_piece, (h_scale[h_order[chess_piece.position[0]] - 1] + v_scale[v_order[chess_piece.position[1]] + 2])) != True:
                                    chess_piece.possible_moves.append(h_scale[h_order[chess_piece.position[0]] - 1] + v_scale[v_order[chess_piece.position[1]] + 2])

                    if chess_piece.position[0] != 'h':
                        if globals()[h_scale[h_order[chess_piece.position[0]] + 1] + v_scale[v_order[chess_piece.position[1]] + 2]].chess_piece == None:
                            if kingDanger(chess_piece, (h_scale[h_order[chess_piece.position[0]] + 1] + v_scale[v_order[chess_piece.position[1]] + 2])) != True:
                                chess_piece.possible_moves.append(h_scale[h_order[chess_piece.position[0]] + 1] + v_scale[v_order[chess_piece.position[1]] + 2])

                        if globals()[h_scale[h_order[chess_piece.position[0]] + 1] + v_scale[v_order[chess_piece.position[1]] + 2]].chess_piece != None:
                            if globals()[h_scale[h_order[chess_piece.position[0]] + 1] + v_scale[v_order[chess_piece.position[1]] + 2]].chess_piece.side == 'White':
                                if kingDanger(chess_piece, (h_scale[h_order[chess_piece.position[0]] + 1] + v_scale[v_order[chess_piece.position[1]] + 2])) != True:
                                    chess_piece.possible_moves.append(h_scale[h_order[chess_piece.position[0]] + 1] + v_scale[v_order[chess_piece.position[1]] + 2])

                # down diagonal left & right
                if chess_piece.position[1] != '1' and chess_piece.position[1] != '2':
                    if chess_piece.position[0] != 'a':
                        if globals()[h_scale[h_order[chess_piece.position[0]] - 1] + v_scale[v_order[chess_piece.position[1]] - 2]].chess_piece == None:
                            if kingDanger(chess_piece, (h_scale[h_order[chess_piece.position[0]] - 1] + v_scale[v_order[chess_piece.position[1]] - 2])) != True:
                                chess_piece.possible_moves.append(h_scale[h_order[chess_piece.position[0]] - 1] + v_scale[v_order[chess_piece.position[1]] - 2])

                        if globals()[h_scale[h_order[chess_piece.position[0]] - 1] + v_scale[v_order[chess_piece.position[1]] - 2]].chess_piece != None:
                            if globals()[h_scale[h_order[chess_piece.position[0]] - 1] + v_scale[v_order[chess_piece.position[1]] - 2]].chess_piece.side == 'White':
                                if kingDanger(chess_piece, (h_scale[h_order[chess_piece.position[0]] - 1] + v_scale[v_order[chess_piece.position[1]] - 2])) != True:
                                    chess_piece.possible_moves.append(h_scale[h_order[chess_piece.position[0]] - 1] + v_scale[v_order[chess_piece.position[1]] - 2])

                    if chess_piece.position[0] != 'h':
                        if globals()[h_scale[h_order[chess_piece.position[0]] + 1] + v_scale[v_order[chess_piece.position[1]] - 2]].chess_piece == None:
                            if kingDanger(chess_piece, (h_scale[h_order[chess_piece.position[0]] + 1] + v_scale[v_order[chess_piece.position[1]] - 2])) != True:
                                chess_piece.possible_moves.append(h_scale[h_order[chess_piece.position[0]] + 1] + v_scale[v_order[chess_piece.position[1]] - 2])

                        if globals()[h_scale[h_order[chess_piece.position[0]] + 1] + v_scale[v_order[chess_piece.position[1]] - 2]].chess_piece != None:
                            if globals()[h_scale[h_order[chess_piece.position[0]] + 1] + v_scale[v_order[chess_piece.position[1]] - 2]].chess_piece.side == 'White':
                                if kingDanger(chess_piece, (h_scale[h_order[chess_piece.position[0]] + 1] + v_scale[v_order[chess_piece.position[1]] - 2])) != True:
                                    chess_piece.possible_moves.append(h_scale[h_order[chess_piece.position[0]] + 1] + v_scale[v_order[chess_piece.position[1]] - 2])

                # left diagonal up & down
                if chess_piece.position[0] != 'a' and chess_piece.position[0] != 'b':
                    if chess_piece.position[1] != '8':
                        if globals()[h_scale[h_order[chess_piece.position[0]] - 2] + v_scale[v_order[chess_piece.position[1]] + 1]].chess_piece == None:
                            if kingDanger(chess_piece, (h_scale[h_order[chess_piece.position[0]] - 2] + v_scale[v_order[chess_piece.position[1]] + 1])) != True:
                                chess_piece.possible_moves.append(h_scale[h_order[chess_piece.position[0]] - 2] + v_scale[v_order[chess_piece.position[1]] + 1])

                        if globals()[h_scale[h_order[chess_piece.position[0]] - 2] + v_scale[v_order[chess_piece.position[1]] + 1]].chess_piece != None:
                            if globals()[h_scale[h_order[chess_piece.position[0]] - 2] + v_scale[v_order[chess_piece.position[1]] + 1]].chess_piece.side == 'White':
                                if kingDanger(chess_piece, (h_scale[h_order[chess_piece.position[0]] - 2] + v_scale[v_order[chess_piece.position[1]] + 1])) != True:
                                    chess_piece.possible_moves.append(h_scale[h_order[chess_piece.position[0]] - 2] + v_scale[v_order[chess_piece.position[1]] + 1])

                    if chess_piece.position[1] != '1':
                        if globals()[h_scale[h_order[chess_piece.position[0]] - 2] + v_scale[v_order[chess_piece.position[1]] - 1]].chess_piece == None:
                            if kingDanger(chess_piece, (h_scale[h_order[chess_piece.position[0]] - 2] + v_scale[v_order[chess_piece.position[1]] - 1])) != True:
                                chess_piece.possible_moves.append(h_scale[h_order[chess_piece.position[0]] - 2] + v_scale[v_order[chess_piece.position[1]] - 1])

                        if globals()[h_scale[h_order[chess_piece.position[0]] - 2] + v_scale[v_order[chess_piece.position[1]] - 1]].chess_piece != None:
                            if globals()[h_scale[h_order[chess_piece.position[0]] - 2] + v_scale[v_order[chess_piece.position[1]] - 1]].chess_piece.side == 'White':
                                if kingDanger(chess_piece, (h_scale[h_order[chess_piece.position[0]] - 2] + v_scale[v_order[chess_piece.position[1]] - 1])) != True:
                                    chess_piece.possible_moves.append(h_scale[h_order[chess_piece.position[0]] - 2] + v_scale[v_order[chess_piece.position[1]] - 1])

                # right diagonal up & down
                if chess_piece.position[0] != 'g' and chess_piece.position[0] != 'h':
                    if chess_piece.position[1] != '8':
                        if globals()[h_scale[h_order[chess_piece.position[0]] + 2] + v_scale[v_order[chess_piece.position[1]] + 1]].chess_piece == None:
                            if kingDanger(chess_piece, (h_scale[h_order[chess_piece.position[0]] + 2] + v_scale[v_order[chess_piece.position[1]] + 1])) != True:
                                chess_piece.possible_moves.append(h_scale[h_order[chess_piece.position[0]] + 2] + v_scale[v_order[chess_piece.position[1]] + 1])

                        if globals()[h_scale[h_order[chess_piece.position[0]] + 2] + v_scale[v_order[chess_piece.position[1]] + 1]].chess_piece != None:
                            if globals()[h_scale[h_order[chess_piece.position[0]] + 2] + v_scale[v_order[chess_piece.position[1]] + 1]].chess_piece.side == 'White':
                                if kingDanger(chess_piece, (h_scale[h_order[chess_piece.position[0]] + 2] + v_scale[v_order[chess_piece.position[1]] + 1])) != True:
                                    chess_piece.possible_moves.append(h_scale[h_order[chess_piece.position[0]] + 2] + v_scale[v_order[chess_piece.position[1]] + 1])

                    if chess_piece.position[1] != '1':
                        if globals()[h_scale[h_order[chess_piece.position[0]] + 2] + v_scale[v_order[chess_piece.position[1]] - 1]].chess_piece == None:
                            if kingDanger(chess_piece, (h_scale[h_order[chess_piece.position[0]] + 2] + v_scale[v_order[chess_piece.position[1]] - 1])) != True:
                                chess_piece.possible_moves.append(h_scale[h_order[chess_piece.position[0]] + 2] + v_scale[v_order[chess_piece.position[1]] - 1])

                        if globals()[h_scale[h_order[chess_piece.position[0]] + 2] + v_scale[v_order[chess_piece.position[1]] - 1]].chess_piece != None:
                            if globals()[h_scale[h_order[chess_piece.position[0]] + 2] + v_scale[v_order[chess_piece.position[1]] - 1]].chess_piece.side == 'White':
                                if kingDanger(chess_piece, (h_scale[h_order[chess_piece.position[0]] + 2] + v_scale[v_order[chess_piece.position[1]] - 1])) != True:
                                    chess_piece.possible_moves.append(h_scale[h_order[chess_piece.position[0]] + 2] + v_scale[v_order[chess_piece.position[1]] - 1]) 
                                
def kingDanger(start_chess_piece, destination):
    # function to simulate chess move. Returns True if move will result in Check. Returns False if move is safe.
    destination_space = globals()[destination]
    destination_chess_piece = None
    try: 
        destination_chess_piece = destination_space.chess_piece
    except:
        pass
        
    original_position = start_chess_piece.position
    start_chess_piece.position = destination_space.name
    if destination_chess_piece != None:
        destination_chess_piece.captured = True
    setBoard()
    
    king_position = black_king_1.position
    enemy_side = 'White'
    if start_chess_piece.side == 'White':
        enemy_side = 'Black'
        king_position = white_king_1.position
    
    
    # put move-refresher here. except, not append, only see if king will be checked.
    if start_chess_piece.side == 'Black':
        for chess_piece in [
        white_pawn_1,
        white_pawn_2,
        white_pawn_3,
        white_pawn_4,
        white_pawn_5,
        white_pawn_6,
        white_pawn_7,
        white_pawn_8,
        white_rook_1,
        white_rook_2,
        white_knight_1,
        white_knight_2,
        white_bishop_1,
        white_bishop_2,
        white_queen_1,
        white_king_1
    ]:

            if chess_piece.captured == False:
                # Pawn
                if chess_piece.name == 'Pawn':
                    # 1 move up
                    if globals()[chess_piece.position[0] + v_scale[v_order[chess_piece.position[1]] + 1]].chess_piece == None:
                        if (chess_piece.position[0] + v_scale[v_order[chess_piece.position[1]] + 1]) == king_position:
                            if destination_chess_piece != None:
                                destination_chess_piece.captured = False
                            start_chess_piece.position = original_position
                            setBoard()
                            return True

                    # 2 moves up
                    if chess_piece.moved == False:
                        if globals()[chess_piece.position[0] + v_scale[v_order[chess_piece.position[1]] + 1]].chess_piece == None:
                            if globals()[chess_piece.position[0] + v_scale[v_order[chess_piece.position[1]] + 2]].chess_piece == None:
                                if (chess_piece.position[0] + v_scale[v_order[chess_piece.position[1]] + 2]) == king_position:
                                    if destination_chess_piece != None:
                                        destination_chess_piece.captured = False
                                    start_chess_piece.position = original_position
                                    setBoard()
                                    return True

                    # eat diagonally (left)
                    if chess_piece.position[0] != 'a':
                        if globals()[h_scale[h_order[chess_piece.position[0]] - 1] + v_scale[v_order[chess_piece.position[1]] + 1]].chess_piece != None:
                            if globals()[h_scale[h_order[chess_piece.position[0]] - 1] + v_scale[v_order[chess_piece.position[1]] + 1]].chess_piece.side == 'Black':
                                if (h_scale[h_order[chess_piece.position[0]] - 1] + v_scale[v_order[chess_piece.position[1]] + 1]) == king_position:
                                    if destination_chess_piece != None:
                                        destination_chess_piece.captured = False
                                    start_chess_piece.position = original_position
                                    setBoard()
                                    return True

                    # eat diagonally (right)
                    if chess_piece.position[0] != 'h':
                        if globals()[h_scale[h_order[chess_piece.position[0]] + 1] + v_scale[v_order[chess_piece.position[1]] + 1]].chess_piece != None:
                            if globals()[h_scale[h_order[chess_piece.position[0]] + 1] + v_scale[v_order[chess_piece.position[1]] + 1]].chess_piece.side == 'Black':
                                if (h_scale[h_order[chess_piece.position[0]] + 1] + v_scale[v_order[chess_piece.position[1]] + 1]) == king_position:
                                    if destination_chess_piece != None:
                                        destination_chess_piece.captured = False
                                    start_chess_piece.position = original_position
                                    setBoard()
                                    return True

                # Rook
                if chess_piece.name == 'Rook':
                    # all move up
                    if chess_piece.position[1] != '8':
                        block = False
                        increment = 0
                        while block == False:
                            increment = increment + 1
                            if globals()[chess_piece.position[0] + v_scale[v_order[chess_piece.position[1]] + increment]].chess_piece == None:
                                if (chess_piece.position[0] + v_scale[v_order[chess_piece.position[1]] + increment]) == king_position:
                                    if destination_chess_piece != None:
                                        destination_chess_piece.captured = False
                                    start_chess_piece.position = original_position
                                    setBoard()
                                    return True

                            if globals()[chess_piece.position[0] + v_scale[v_order[chess_piece.position[1]] + increment]].chess_piece != None:
                                if globals()[chess_piece.position[0] + v_scale[v_order[chess_piece.position[1]] + increment]].chess_piece.side == 'Black':
                                    if (chess_piece.position[0] + v_scale[v_order[chess_piece.position[1]] + increment]) == king_position:
                                        if destination_chess_piece != None:
                                            destination_chess_piece.captured = False
                                        start_chess_piece.position = original_position
                                        setBoard()
                                        return True
                                block = True

                            if v_scale[v_order[chess_piece.position[1]] + increment] == '8':
                                block = True

                    # all move down
                    if chess_piece.position[1] != '1':
                        block = False
                        increment = 0
                        while block == False:
                            increment = increment + 1
                            if globals()[chess_piece.position[0] + v_scale[v_order[chess_piece.position[1]] - increment]].chess_piece == None:
                                if (chess_piece.position[0] + v_scale[v_order[chess_piece.position[1]] - increment]) == king_position:
                                    if destination_chess_piece != None:
                                        destination_chess_piece.captured = False
                                    start_chess_piece.position = original_position
                                    setBoard()
                                    return True

                            if globals()[chess_piece.position[0] + v_scale[v_order[chess_piece.position[1]] - increment]].chess_piece != None:
                                if globals()[chess_piece.position[0] + v_scale[v_order[chess_piece.position[1]] - increment]].chess_piece.side == 'Black':
                                    if (chess_piece.position[0] + v_scale[v_order[chess_piece.position[1]] - increment]) == king_position:
                                        if destination_chess_piece != None:
                                            destination_chess_piece.captured = False
                                        start_chess_piece.position = original_position
                                        setBoard()
                                        return True
                                block = True

                            if v_scale[v_order[chess_piece.position[1]] - increment] == '1':
                                block = True

                    # all move left
                    if chess_piece.position[0] != 'a':
                        block = False
                        increment = 0
                        while block == False:
                            increment = increment + 1
                            if globals()[h_scale[h_order[chess_piece.position[0]] - increment] + chess_piece.position[1]].chess_piece == None:
                                if (h_scale[h_order[chess_piece.position[0]] - increment] + chess_piece.position[1]) == king_position:
                                    if destination_chess_piece != None:
                                        destination_chess_piece.captured = False
                                    start_chess_piece.position = original_position
                                    setBoard()
                                    return True

                            if globals()[h_scale[h_order[chess_piece.position[0]] - increment] + chess_piece.position[1]].chess_piece != None:
                                if globals()[h_scale[h_order[chess_piece.position[0]] - increment] + chess_piece.position[1]].chess_piece.side == 'Black':
                                    if (h_scale[h_order[chess_piece.position[0]] - increment] + chess_piece.position[1]) == king_position:
                                        if destination_chess_piece != None:
                                            destination_chess_piece.captured = False
                                        start_chess_piece.position = original_position
                                        setBoard()
                                        return True
                                block = True

                            if h_scale[h_order[chess_piece.position[0]] - increment] == 'a':
                                block = True

                    # all move right
                    if chess_piece.position[0] != 'h':
                        block = False
                        increment = 0
                        while block == False:
                            increment = increment + 1
                            if globals()[h_scale[h_order[chess_piece.position[0]] + increment] + chess_piece.position[1]].chess_piece == None:
                                if (h_scale[h_order[chess_piece.position[0]] + increment] + chess_piece.position[1]) == king_position:
                                    if destination_chess_piece != None:
                                        destination_chess_piece.captured = False
                                    start_chess_piece.position = original_position
                                    setBoard()
                                    return True

                            if globals()[h_scale[h_order[chess_piece.position[0]] + increment] + chess_piece.position[1]].chess_piece != None:
                                if globals()[h_scale[h_order[chess_piece.position[0]] + increment] + chess_piece.position[1]].chess_piece.side == 'Black':
                                    if (h_scale[h_order[chess_piece.position[0]] + increment] + chess_piece.position[1]) == king_position:
                                        if destination_chess_piece != None:
                                            destination_chess_piece.captured = False
                                        start_chess_piece.position = original_position
                                        setBoard()
                                        return True
                                block = True

                            if h_scale[h_order[chess_piece.position[0]] + increment] == 'h':
                                block = True

                # Bishop
                if chess_piece.name == 'Bishop':
                    # all move top-left
                    if chess_piece.position[0] != 'a' and chess_piece.position[1] != '8':
                        block = False
                        increment = 0
                        while block == False:
                            increment = increment + 1
                            if globals()[h_scale[h_order[chess_piece.position[0]] - increment] + v_scale[v_order[chess_piece.position[1]] + increment]].chess_piece == None:
                                if (h_scale[h_order[chess_piece.position[0]] - increment] + v_scale[v_order[chess_piece.position[1]] + increment]) == king_position:
                                    if destination_chess_piece != None:
                                        destination_chess_piece.captured = False
                                    start_chess_piece.position = original_position
                                    setBoard()
                                    return True

                            if globals()[h_scale[h_order[chess_piece.position[0]] - increment] + v_scale[v_order[chess_piece.position[1]] + increment]].chess_piece != None:
                                if globals()[h_scale[h_order[chess_piece.position[0]] - increment] + v_scale[v_order[chess_piece.position[1]] + increment]].chess_piece.side == 'Black':
                                    if (h_scale[h_order[chess_piece.position[0]] - increment] + v_scale[v_order[chess_piece.position[1]] + increment]) == king_position:
                                        if destination_chess_piece != None:
                                            destination_chess_piece.captured = False
                                        start_chess_piece.position = original_position
                                        setBoard()
                                        return True
                                block = True

                            if h_scale[h_order[chess_piece.position[0]] - increment] == 'a' or v_scale[v_order[chess_piece.position[1]] + increment] == '8':
                                block = True

                    # all move top-right
                    if chess_piece.position[0] != 'h' and chess_piece.position[1] != '8':
                        block = False
                        increment = 0
                        while block == False:
                            increment = increment + 1
                            if globals()[h_scale[h_order[chess_piece.position[0]] + increment] + v_scale[v_order[chess_piece.position[1]] + increment]].chess_piece == None:
                                if (h_scale[h_order[chess_piece.position[0]] + increment] + v_scale[v_order[chess_piece.position[1]] + increment]) == king_position:
                                    if destination_chess_piece != None:
                                        destination_chess_piece.captured = False
                                    start_chess_piece.position = original_position
                                    setBoard()
                                    return True

                            if globals()[h_scale[h_order[chess_piece.position[0]] + increment] + v_scale[v_order[chess_piece.position[1]] + increment]].chess_piece != None:
                                if globals()[h_scale[h_order[chess_piece.position[0]] + increment] + v_scale[v_order[chess_piece.position[1]] + increment]].chess_piece.side == 'Black':
                                    if (h_scale[h_order[chess_piece.position[0]] + increment] + v_scale[v_order[chess_piece.position[1]] + increment]) == king_position:
                                        if destination_chess_piece != None:
                                            destination_chess_piece.captured = False
                                        start_chess_piece.position = original_position
                                        setBoard()
                                        return True
                                block = True

                            if h_scale[h_order[chess_piece.position[0]] + increment] == 'h' or v_scale[v_order[chess_piece.position[1]] + increment] == '8':
                                block = True

                    # all move bottom-left
                    if chess_piece.position[0] != 'a' and chess_piece.position[1] != '1':
                        block = False
                        increment = 0
                        while block == False:
                            increment = increment + 1
                            if globals()[h_scale[h_order[chess_piece.position[0]] - increment] + v_scale[v_order[chess_piece.position[1]] - increment]].chess_piece == None:
                                if (h_scale[h_order[chess_piece.position[0]] - increment] + v_scale[v_order[chess_piece.position[1]] - increment]) == king_position:
                                    if destination_chess_piece != None:
                                        destination_chess_piece.captured = False
                                    start_chess_piece.position = original_position
                                    setBoard()
                                    return True

                            if globals()[h_scale[h_order[chess_piece.position[0]] - increment] + v_scale[v_order[chess_piece.position[1]] - increment]].chess_piece != None:
                                if globals()[h_scale[h_order[chess_piece.position[0]] - increment] + v_scale[v_order[chess_piece.position[1]] - increment]].chess_piece.side == 'Black':
                                    if (h_scale[h_order[chess_piece.position[0]] - increment] + v_scale[v_order[chess_piece.position[1]] - increment]) == king_position:
                                        if destination_chess_piece != None:
                                            destination_chess_piece.captured = False
                                        start_chess_piece.position = original_position
                                        setBoard()
                                        return True
                                block = True

                            if h_scale[h_order[chess_piece.position[0]] - increment] == 'a' or v_scale[v_order[chess_piece.position[1]] - increment] == '1':
                                block = True

                    # all move bottom-right
                    if chess_piece.position[0] != 'h' and chess_piece.position[1] != '1':
                        block = False
                        increment = 0
                        while block == False:
                            increment = increment + 1
                            if globals()[h_scale[h_order[chess_piece.position[0]] + increment] + v_scale[v_order[chess_piece.position[1]] - increment]].chess_piece == None:
                                if (h_scale[h_order[chess_piece.position[0]] + increment] + v_scale[v_order[chess_piece.position[1]] - increment]) == king_position:
                                    if destination_chess_piece != None:
                                        destination_chess_piece.captured = False
                                    start_chess_piece.position = original_position
                                    setBoard()
                                    return True

                            if globals()[h_scale[h_order[chess_piece.position[0]] + increment] + v_scale[v_order[chess_piece.position[1]] - increment]].chess_piece != None:
                                if globals()[h_scale[h_order[chess_piece.position[0]] + increment] + v_scale[v_order[chess_piece.position[1]] - increment]].chess_piece.side == 'Black':
                                    if (h_scale[h_order[chess_piece.position[0]] + increment] + v_scale[v_order[chess_piece.position[1]] - increment]) == king_position:
                                        if destination_chess_piece != None:
                                            destination_chess_piece.captured = False
                                        start_chess_piece.position = original_position
                                        setBoard()
                                        return True
                                block = True

                            if h_scale[h_order[chess_piece.position[0]] + increment] == 'h' or v_scale[v_order[chess_piece.position[1]] - increment] == '1':
                                block = True

                # Queen
                if chess_piece.name == 'Queen':
                    # all move up
                    if chess_piece.position[1] != '8':
                        block = False
                        increment = 0
                        while block == False:
                            increment = increment + 1
                            if globals()[chess_piece.position[0] + v_scale[v_order[chess_piece.position[1]] + increment]].chess_piece == None:
                                if (chess_piece.position[0] + v_scale[v_order[chess_piece.position[1]] + increment]) == king_position:
                                    if destination_chess_piece != None:
                                        destination_chess_piece.captured = False
                                    start_chess_piece.position = original_position
                                    setBoard()
                                    return True

                            if globals()[chess_piece.position[0] + v_scale[v_order[chess_piece.position[1]] + increment]].chess_piece != None:
                                if globals()[chess_piece.position[0] + v_scale[v_order[chess_piece.position[1]] + increment]].chess_piece.side == 'Black':
                                    if (chess_piece.position[0] + v_scale[v_order[chess_piece.position[1]] + increment]) == king_position:
                                        if destination_chess_piece != None:
                                            destination_chess_piece.captured = False
                                        start_chess_piece.position = original_position
                                        setBoard()
                                        return True
                                block = True

                            if v_scale[v_order[chess_piece.position[1]] + increment] == '8':
                                block = True

                    # all move down
                    if chess_piece.position[1] != '1':
                        block = False
                        increment = 0
                        while block == False:
                            increment = increment + 1
                            if globals()[chess_piece.position[0] + v_scale[v_order[chess_piece.position[1]] - increment]].chess_piece == None:
                                if (chess_piece.position[0] + v_scale[v_order[chess_piece.position[1]] - increment]) == king_position:
                                    if destination_chess_piece != None:
                                        destination_chess_piece.captured = False
                                    start_chess_piece.position = original_position
                                    setBoard()
                                    return True

                            if globals()[chess_piece.position[0] + v_scale[v_order[chess_piece.position[1]] - increment]].chess_piece != None:
                                if globals()[chess_piece.position[0] + v_scale[v_order[chess_piece.position[1]] - increment]].chess_piece.side == 'Black':
                                    if (chess_piece.position[0] + v_scale[v_order[chess_piece.position[1]] - increment]) == king_position:
                                        if destination_chess_piece != None:
                                            destination_chess_piece.captured = False
                                        start_chess_piece.position = original_position
                                        setBoard()
                                        return True
                                block = True

                            if v_scale[v_order[chess_piece.position[1]] - increment] == '1':
                                block = True

                    # all move left
                    if chess_piece.position[0] != 'a':
                        block = False
                        increment = 0
                        while block == False:
                            increment = increment + 1
                            if globals()[h_scale[h_order[chess_piece.position[0]] - increment] + chess_piece.position[1]].chess_piece == None:
                                if (h_scale[h_order[chess_piece.position[0]] - increment] + chess_piece.position[1]) == king_position:
                                    if destination_chess_piece != None:
                                        destination_chess_piece.captured = False
                                    start_chess_piece.position = original_position
                                    setBoard()
                                    return True

                            if globals()[h_scale[h_order[chess_piece.position[0]] - increment] + chess_piece.position[1]].chess_piece != None:
                                if globals()[h_scale[h_order[chess_piece.position[0]] - increment] + chess_piece.position[1]].chess_piece.side == 'Black':
                                    if (h_scale[h_order[chess_piece.position[0]] - increment] + chess_piece.position[1]) == king_position:
                                        if destination_chess_piece != None:
                                            destination_chess_piece.captured = False
                                        start_chess_piece.position = original_position
                                        setBoard()
                                        return True
                                block = True

                            if h_scale[h_order[chess_piece.position[0]] - increment] == 'a':
                                block = True

                    # all move right
                    if chess_piece.position[0] != 'h':
                        block = False
                        increment = 0
                        while block == False:
                            increment = increment + 1
                            if globals()[h_scale[h_order[chess_piece.position[0]] + increment] + chess_piece.position[1]].chess_piece == None:
                                if (h_scale[h_order[chess_piece.position[0]] + increment] + chess_piece.position[1]) == king_position:
                                    if destination_chess_piece != None:
                                        destination_chess_piece.captured = False
                                    start_chess_piece.position = original_position
                                    setBoard()
                                    return True

                            if globals()[h_scale[h_order[chess_piece.position[0]] + increment] + chess_piece.position[1]].chess_piece != None:
                                if globals()[h_scale[h_order[chess_piece.position[0]] + increment] + chess_piece.position[1]].chess_piece.side == 'Black':
                                    if (h_scale[h_order[chess_piece.position[0]] + increment] + chess_piece.position[1]) == king_position:
                                        if destination_chess_piece != None:
                                            destination_chess_piece.captured = False
                                        start_chess_piece.position = original_position
                                        setBoard()
                                        return True
                                block = True

                            if h_scale[h_order[chess_piece.position[0]] + increment] == 'h':
                                block = True

                    # all move top-left
                    if chess_piece.position[0] != 'a' and chess_piece.position[1] != '8':
                        block = False
                        increment = 0
                        while block == False:
                            increment = increment + 1
                            if globals()[h_scale[h_order[chess_piece.position[0]] - increment] + v_scale[v_order[chess_piece.position[1]] + increment]].chess_piece == None:
                                if (h_scale[h_order[chess_piece.position[0]] - increment] + v_scale[v_order[chess_piece.position[1]] + increment]) == king_position:
                                    if destination_chess_piece != None:
                                        destination_chess_piece.captured = False
                                    start_chess_piece.position = original_position
                                    setBoard()
                                    return True

                            if globals()[h_scale[h_order[chess_piece.position[0]] - increment] + v_scale[v_order[chess_piece.position[1]] + increment]].chess_piece != None:
                                if globals()[h_scale[h_order[chess_piece.position[0]] - increment] + v_scale[v_order[chess_piece.position[1]] + increment]].chess_piece.side == 'Black':
                                    if (h_scale[h_order[chess_piece.position[0]] - increment] + v_scale[v_order[chess_piece.position[1]] + increment]) == king_position:
                                        if destination_chess_piece != None:
                                            destination_chess_piece.captured = False
                                        start_chess_piece.position = original_position
                                        setBoard()
                                        return True
                                block = True

                            if h_scale[h_order[chess_piece.position[0]] - increment] == 'a' or v_scale[v_order[chess_piece.position[1]] + increment] == '8':
                                block = True

                    # all move top-right
                    if chess_piece.position[0] != 'h' and chess_piece.position[1] != '8':
                        block = False
                        increment = 0
                        while block == False:
                            increment = increment + 1
                            if globals()[h_scale[h_order[chess_piece.position[0]] + increment] + v_scale[v_order[chess_piece.position[1]] + increment]].chess_piece == None:
                                if (h_scale[h_order[chess_piece.position[0]] + increment] + v_scale[v_order[chess_piece.position[1]] + increment]) == king_position:
                                    if destination_chess_piece != None:
                                        destination_chess_piece.captured = False
                                    start_chess_piece.position = original_position
                                    setBoard()
                                    return True

                            if globals()[h_scale[h_order[chess_piece.position[0]] + increment] + v_scale[v_order[chess_piece.position[1]] + increment]].chess_piece != None:
                                if globals()[h_scale[h_order[chess_piece.position[0]] + increment] + v_scale[v_order[chess_piece.position[1]] + increment]].chess_piece.side == 'Black':
                                    if (h_scale[h_order[chess_piece.position[0]] + increment] + v_scale[v_order[chess_piece.position[1]] + increment]) == king_position:
                                        if destination_chess_piece != None:
                                            destination_chess_piece.captured = False
                                        start_chess_piece.position = original_position
                                        setBoard()
                                        return True
                                block = True

                            if h_scale[h_order[chess_piece.position[0]] + increment] == 'h' or v_scale[v_order[chess_piece.position[1]] + increment] == '8':
                                block = True

                    # all move bottom-left
                    if chess_piece.position[0] != 'a' and chess_piece.position[1] != '1':
                        block = False
                        increment = 0
                        while block == False:
                            increment = increment + 1
                            if globals()[h_scale[h_order[chess_piece.position[0]] - increment] + v_scale[v_order[chess_piece.position[1]] - increment]].chess_piece == None:
                                if (h_scale[h_order[chess_piece.position[0]] - increment] + v_scale[v_order[chess_piece.position[1]] - increment]) == king_position:
                                    if destination_chess_piece != None:
                                        destination_chess_piece.captured = False
                                    start_chess_piece.position = original_position
                                    setBoard()
                                    return True

                            if globals()[h_scale[h_order[chess_piece.position[0]] - increment] + v_scale[v_order[chess_piece.position[1]] - increment]].chess_piece != None:
                                if globals()[h_scale[h_order[chess_piece.position[0]] - increment] + v_scale[v_order[chess_piece.position[1]] - increment]].chess_piece.side == 'Black':
                                    if (h_scale[h_order[chess_piece.position[0]] - increment] + v_scale[v_order[chess_piece.position[1]] - increment]) == king_position:
                                        if destination_chess_piece != None:
                                            destination_chess_piece.captured = False
                                        start_chess_piece.position = original_position
                                        setBoard()
                                        return True
                                block = True

                            if h_scale[h_order[chess_piece.position[0]] - increment] == 'a' or v_scale[v_order[chess_piece.position[1]] - increment] == '1':
                                block = True

                    # all move bottom-right
                    if chess_piece.position[0] != 'h' and chess_piece.position[1] != '1':
                        block = False
                        increment = 0
                        while block == False:
                            increment = increment + 1
                            if globals()[h_scale[h_order[chess_piece.position[0]] + increment] + v_scale[v_order[chess_piece.position[1]] - increment]].chess_piece == None:
                                if (h_scale[h_order[chess_piece.position[0]] + increment] + v_scale[v_order[chess_piece.position[1]] - increment]) == king_position:
                                    if destination_chess_piece != None:
                                        destination_chess_piece.captured = False
                                    start_chess_piece.position = original_position
                                    setBoard()
                                    return True

                            if globals()[h_scale[h_order[chess_piece.position[0]] + increment] + v_scale[v_order[chess_piece.position[1]] - increment]].chess_piece != None:
                                if globals()[h_scale[h_order[chess_piece.position[0]] + increment] + v_scale[v_order[chess_piece.position[1]] - increment]].chess_piece.side == 'Black':
                                    if (h_scale[h_order[chess_piece.position[0]] + increment] + v_scale[v_order[chess_piece.position[1]] - increment]) == king_position:
                                        if destination_chess_piece != None:
                                            destination_chess_piece.captured = False
                                        start_chess_piece.position = original_position
                                        setBoard()
                                        return True
                                block = True

                            if h_scale[h_order[chess_piece.position[0]] + increment] == 'h' or v_scale[v_order[chess_piece.position[1]] - increment] == '1':
                                block = True

                # King
                if chess_piece.name == 'King':
                    # 1 move up
                    if chess_piece.position[1] != '8':
                        if globals()[chess_piece.position[0] + v_scale[v_order[chess_piece.position[1]] + 1]].chess_piece == None:
                            if (chess_piece.position[0] + v_scale[v_order[chess_piece.position[1]] + 1]) == king_position:
                                if destination_chess_piece != None:
                                        destination_chess_piece.captured = False
                                start_chess_piece.position = original_position
                                setBoard()
                                return True

                        if globals()[chess_piece.position[0] + v_scale[v_order[chess_piece.position[1]] + 1]].chess_piece != None:
                            if globals()[chess_piece.position[0] + v_scale[v_order[chess_piece.position[1]] + 1]].chess_piece.side == 'Black':
                                if (chess_piece.position[0] + v_scale[v_order[chess_piece.position[1]] + 1]) == king_position:
                                    if destination_chess_piece != None:
                                        destination_chess_piece.captured = False
                                    start_chess_piece.position = original_position
                                    setBoard()
                                    return True

                    # 1 move down
                    if chess_piece.position[1] != '1':
                        if globals()[chess_piece.position[0] + v_scale[v_order[chess_piece.position[1]] - 1]].chess_piece == None:
                            if (chess_piece.position[0] + v_scale[v_order[chess_piece.position[1]] - 1]) == king_position:
                                if destination_chess_piece != None:
                                    destination_chess_piece.captured = False
                                start_chess_piece.position = original_position
                                setBoard()
                                return True

                        if globals()[chess_piece.position[0] + v_scale[v_order[chess_piece.position[1]] - 1]].chess_piece != None:
                            if globals()[chess_piece.position[0] + v_scale[v_order[chess_piece.position[1]] - 1]].chess_piece.side == 'Black':
                                if (chess_piece.position[0] + v_scale[v_order[chess_piece.position[1]] - 1]) == king_position:
                                    if destination_chess_piece != None:
                                        destination_chess_piece.captured = False
                                    start_chess_piece.position = original_position
                                    setBoard()
                                    return True

                    # 1 move left
                    if chess_piece.position[0] != 'a':
                        if globals()[h_scale[h_order[chess_piece.position[0]] - 1] + chess_piece.position[1]].chess_piece == None:
                            if (h_scale[h_order[chess_piece.position[0]] - 1] + chess_piece.position[1]) == king_position:
                                if destination_chess_piece != None:
                                    destination_chess_piece.captured = False
                                start_chess_piece.position = original_position
                                setBoard()
                                return True

                        if globals()[h_scale[h_order[chess_piece.position[0]] - 1] + chess_piece.position[1]].chess_piece != None:
                            if globals()[h_scale[h_order[chess_piece.position[0]] - 1] + chess_piece.position[1]].chess_piece.side == 'Black':
                                if (h_scale[h_order[chess_piece.position[0]] - 1] + chess_piece.position[1]) == king_position:
                                    if destination_chess_piece != None:
                                        destination_chess_piece.captured = False
                                    start_chess_piece.position = original_position
                                    setBoard()
                                    return True

                    # 1 move right
                    if chess_piece.position[0] != 'h':
                        if globals()[h_scale[h_order[chess_piece.position[0]] + 1] + chess_piece.position[1]].chess_piece == None:
                            if (h_scale[h_order[chess_piece.position[0]] + 1] + chess_piece.position[1]) == king_position:
                                if destination_chess_piece != None:
                                    destination_chess_piece.captured = False
                                start_chess_piece.position = original_position
                                setBoard()
                                return True

                        if globals()[h_scale[h_order[chess_piece.position[0]] + 1] + chess_piece.position[1]].chess_piece != None:
                            if globals()[h_scale[h_order[chess_piece.position[0]] + 1] + chess_piece.position[1]].chess_piece.side == 'Black':
                                if (h_scale[h_order[chess_piece.position[0]] + 1] + chess_piece.position[1]) == king_position:
                                    if destination_chess_piece != None:
                                        destination_chess_piece.captured = False
                                    start_chess_piece.position = original_position
                                    setBoard()
                                    return True

                    # 1 move top-left
                    if chess_piece.position[0] != 'a' and chess_piece.position[1] != '8':
                        if globals()[h_scale[h_order[chess_piece.position[0]] - 1] + v_scale[v_order[chess_piece.position[1]] + 1]].chess_piece == None:
                            if (h_scale[h_order[chess_piece.position[0]] - 1] + v_scale[v_order[chess_piece.position[1]] + 1]) == king_position:
                                if destination_chess_piece != None:
                                    destination_chess_piece.captured = False
                                start_chess_piece.position = original_position
                                setBoard()
                                return True

                        if globals()[h_scale[h_order[chess_piece.position[0]] - 1] + v_scale[v_order[chess_piece.position[1]] + 1]].chess_piece != None:
                            if globals()[h_scale[h_order[chess_piece.position[0]] - 1] + v_scale[v_order[chess_piece.position[1]] + 1]].chess_piece.side == 'Black':
                                if (h_scale[h_order[chess_piece.position[0]] - 1] + v_scale[v_order[chess_piece.position[1]] + 1]) == king_position:
                                    if destination_chess_piece != None:
                                        destination_chess_piece.captured = False
                                    start_chess_piece.position = original_position
                                    setBoard()
                                    return True

                    # 1 move top-right
                    if chess_piece.position[0] != 'h' and chess_piece.position[1] != '8':

                        if globals()[h_scale[h_order[chess_piece.position[0]] + 1] + v_scale[v_order[chess_piece.position[1]] + 1]].chess_piece == None:
                            if (h_scale[h_order[chess_piece.position[0]] + 1] + v_scale[v_order[chess_piece.position[1]] + 1]) == king_position:
                                if destination_chess_piece != None:
                                    destination_chess_piece.captured = False
                                start_chess_piece.position = original_position
                                setBoard()
                                return True

                        if globals()[h_scale[h_order[chess_piece.position[0]] + 1] + v_scale[v_order[chess_piece.position[1]] + 1]].chess_piece != None:
                            if globals()[h_scale[h_order[chess_piece.position[0]] + 1] + v_scale[v_order[chess_piece.position[1]] + 1]].chess_piece.side == 'Black':
                                if (h_scale[h_order[chess_piece.position[0]] + 1] + v_scale[v_order[chess_piece.position[1]] + 1]) == king_position:
                                    if destination_chess_piece != None:
                                        destination_chess_piece.captured = False
                                    start_chess_piece.position = original_position
                                    setBoard()
                                    return True

                    # 1 move bottom-left
                    if chess_piece.position[0] != 'a' and chess_piece.position[1] != '1':
                        if globals()[h_scale[h_order[chess_piece.position[0]] - 1] + v_scale[v_order[chess_piece.position[1]] - 1]].chess_piece == None:
                            if (h_scale[h_order[chess_piece.position[0]] - 1] + v_scale[v_order[chess_piece.position[1]] - 1]) == king_position:
                                if destination_chess_piece != None:
                                    destination_chess_piece.captured = False
                                start_chess_piece.position = original_position
                                setBoard()
                                return True

                        if globals()[h_scale[h_order[chess_piece.position[0]] - 1] + v_scale[v_order[chess_piece.position[1]] - 1]].chess_piece != None:
                            if globals()[h_scale[h_order[chess_piece.position[0]] - 1] + v_scale[v_order[chess_piece.position[1]] - 1]].chess_piece.side == 'Black':
                                if (h_scale[h_order[chess_piece.position[0]] - 1] + v_scale[v_order[chess_piece.position[1]] - 1]) == king_position:
                                    if destination_chess_piece != None:
                                        destination_chess_piece.captured = False
                                    start_chess_piece.position = original_position
                                    setBoard()
                                    return True


                    # 1 move bottom-right
                    if chess_piece.position[0] != 'h' and chess_piece.position[1] != '1':
                        if globals()[h_scale[h_order[chess_piece.position[0]] + 1] + v_scale[v_order[chess_piece.position[1]] - 1]].chess_piece == None:
                            if (h_scale[h_order[chess_piece.position[0]] + 1] + v_scale[v_order[chess_piece.position[1]] - 1]) == king_position:
                                if destination_chess_piece != None:
                                    destination_chess_piece.captured = False
                                start_chess_piece.position = original_position
                                setBoard()
                                return True

                        if globals()[h_scale[h_order[chess_piece.position[0]] + 1] + v_scale[v_order[chess_piece.position[1]] - 1]].chess_piece != None:
                            if globals()[h_scale[h_order[chess_piece.position[0]] + 1] + v_scale[v_order[chess_piece.position[1]] - 1]].chess_piece.side == 'Black':
                                if (h_scale[h_order[chess_piece.position[0]] + 1] + v_scale[v_order[chess_piece.position[1]] - 1]) == king_position:
                                    if destination_chess_piece != None:
                                        destination_chess_piece.captured = False
                                    start_chess_piece.position = original_position
                                    setBoard()
                                    return True

                # Knight
                if chess_piece.name == 'Knight':
                    # up diagonal left & right
                    if chess_piece.position[1] != '7' and chess_piece.position[1] != '8':
                        if chess_piece.position[0] != 'a':
                            if globals()[h_scale[h_order[chess_piece.position[0]] - 1] + v_scale[v_order[chess_piece.position[1]] + 2]].chess_piece == None:
                                if (h_scale[h_order[chess_piece.position[0]] - 1] + v_scale[v_order[chess_piece.position[1]] + 2]) == king_position:
                                    if destination_chess_piece != None:
                                        destination_chess_piece.captured = False
                                    start_chess_piece.position = original_position
                                    setBoard()
                                    return True

                            if globals()[h_scale[h_order[chess_piece.position[0]] - 1] + v_scale[v_order[chess_piece.position[1]] + 2]].chess_piece != None:
                                if globals()[h_scale[h_order[chess_piece.position[0]] - 1] + v_scale[v_order[chess_piece.position[1]] + 2]].chess_piece.side == 'Black':
                                    if (h_scale[h_order[chess_piece.position[0]] - 1] + v_scale[v_order[chess_piece.position[1]] + 2]) == king_position:
                                        if destination_chess_piece != None:
                                            destination_chess_piece.captured = False
                                        start_chess_piece.position = original_position
                                        setBoard()
                                        return True

                        if chess_piece.position[0] != 'h':
                            if globals()[h_scale[h_order[chess_piece.position[0]] + 1] + v_scale[v_order[chess_piece.position[1]] + 2]].chess_piece == None:
                                if (h_scale[h_order[chess_piece.position[0]] + 1] + v_scale[v_order[chess_piece.position[1]] + 2]) == king_position:
                                    if destination_chess_piece != None:
                                        destination_chess_piece.captured = False
                                    start_chess_piece.position = original_position
                                    setBoard()
                                    return True

                            if globals()[h_scale[h_order[chess_piece.position[0]] + 1] + v_scale[v_order[chess_piece.position[1]] + 2]].chess_piece != None:
                                if globals()[h_scale[h_order[chess_piece.position[0]] + 1] + v_scale[v_order[chess_piece.position[1]] + 2]].chess_piece.side == 'Black':
                                    if (h_scale[h_order[chess_piece.position[0]] + 1] + v_scale[v_order[chess_piece.position[1]] + 2]) == king_position:
                                        if destination_chess_piece != None:
                                            destination_chess_piece.captured = False
                                        start_chess_piece.position = original_position
                                        setBoard()
                                        return True

                    # down diagonal left & right
                    if chess_piece.position[1] != '1' and chess_piece.position[1] != '2':
                        if chess_piece.position[0] != 'a':
                            if globals()[h_scale[h_order[chess_piece.position[0]] - 1] + v_scale[v_order[chess_piece.position[1]] - 2]].chess_piece == None:
                                if (h_scale[h_order[chess_piece.position[0]] - 1] + v_scale[v_order[chess_piece.position[1]] - 2]) == king_position:
                                    if destination_chess_piece != None:
                                        destination_chess_piece.captured = False
                                    start_chess_piece.position = original_position
                                    setBoard()
                                    return True

                            if globals()[h_scale[h_order[chess_piece.position[0]] - 1] + v_scale[v_order[chess_piece.position[1]] - 2]].chess_piece != None:
                                if globals()[h_scale[h_order[chess_piece.position[0]] - 1] + v_scale[v_order[chess_piece.position[1]] - 2]].chess_piece.side == 'Black':
                                    if(h_scale[h_order[chess_piece.position[0]] - 1] + v_scale[v_order[chess_piece.position[1]] - 2]) == king_position:
                                        if destination_chess_piece != None:
                                            destination_chess_piece.captured = False
                                        start_chess_piece.position = original_position
                                        setBoard()
                                        return True

                        if chess_piece.position[0] != 'h':
                            if globals()[h_scale[h_order[chess_piece.position[0]] + 1] + v_scale[v_order[chess_piece.position[1]] - 2]].chess_piece == None:
                                if (h_scale[h_order[chess_piece.position[0]] + 1] + v_scale[v_order[chess_piece.position[1]] - 2]) == king_position:
                                    if destination_chess_piece != None:
                                        destination_chess_piece.captured = False
                                    start_chess_piece.position = original_position
                                    setBoard()
                                    return True

                            if globals()[h_scale[h_order[chess_piece.position[0]] + 1] + v_scale[v_order[chess_piece.position[1]] - 2]].chess_piece != None:
                                if globals()[h_scale[h_order[chess_piece.position[0]] + 1] + v_scale[v_order[chess_piece.position[1]] - 2]].chess_piece.side == 'Black':
                                    if (h_scale[h_order[chess_piece.position[0]] + 1] + v_scale[v_order[chess_piece.position[1]] - 2]) == king_position:
                                        if destination_chess_piece != None:
                                            destination_chess_piece.captured = False
                                        start_chess_piece.position = original_position
                                        setBoard()
                                        return True

                    # left diagonal up & down
                    if chess_piece.position[0] != 'a' and chess_piece.position[0] != 'b':
                        if chess_piece.position[1] != '8':
                            if globals()[h_scale[h_order[chess_piece.position[0]] - 2] + v_scale[v_order[chess_piece.position[1]] + 1]].chess_piece == None:
                                if (h_scale[h_order[chess_piece.position[0]] - 2] + v_scale[v_order[chess_piece.position[1]] + 1]) == king_position:
                                    if destination_chess_piece != None:
                                        destination_chess_piece.captured = False
                                    start_chess_piece.position = original_position
                                    setBoard()
                                    return True

                            if globals()[h_scale[h_order[chess_piece.position[0]] - 2] + v_scale[v_order[chess_piece.position[1]] + 1]].chess_piece != None:
                                if globals()[h_scale[h_order[chess_piece.position[0]] - 2] + v_scale[v_order[chess_piece.position[1]] + 1]].chess_piece.side == 'Black':
                                    if (h_scale[h_order[chess_piece.position[0]] - 2] + v_scale[v_order[chess_piece.position[1]] + 1]) == king_position:
                                        if destination_chess_piece != None:
                                            destination_chess_piece.captured = False
                                        start_chess_piece.position = original_position
                                        setBoard()
                                        return True

                        if chess_piece.position[1] != '1':
                            if globals()[h_scale[h_order[chess_piece.position[0]] - 2] + v_scale[v_order[chess_piece.position[1]] - 1]].chess_piece == None:
                                if (h_scale[h_order[chess_piece.position[0]] - 2] + v_scale[v_order[chess_piece.position[1]] - 1]) == king_position:
                                    if destination_chess_piece != None:
                                        destination_chess_piece.captured = False
                                    start_chess_piece.position = original_position
                                    setBoard()
                                    return True

                            if globals()[h_scale[h_order[chess_piece.position[0]] - 2] + v_scale[v_order[chess_piece.position[1]] - 1]].chess_piece != None:
                                if globals()[h_scale[h_order[chess_piece.position[0]] - 2] + v_scale[v_order[chess_piece.position[1]] - 1]].chess_piece.side == 'Black':
                                    if (h_scale[h_order[chess_piece.position[0]] - 2] + v_scale[v_order[chess_piece.position[1]] - 1]) == king_position:
                                        if destination_chess_piece != None:
                                            destination_chess_piece.captured = False
                                        start_chess_piece.position = original_position
                                        setBoard()
                                        return True

                    # right diagonal up & down
                    if chess_piece.position[0] != 'g' and chess_piece.position[0] != 'h':
                        if chess_piece.position[1] != '8':
                            if globals()[h_scale[h_order[chess_piece.position[0]] + 2] + v_scale[v_order[chess_piece.position[1]] + 1]].chess_piece == None:
                                if (h_scale[h_order[chess_piece.position[0]] + 2] + v_scale[v_order[chess_piece.position[1]] + 1]) == king_position:
                                    if destination_chess_piece != None:
                                        destination_chess_piece.captured = False
                                    start_chess_piece.position = original_position
                                    setBoard()
                                    return True

                            if globals()[h_scale[h_order[chess_piece.position[0]] + 2] + v_scale[v_order[chess_piece.position[1]] + 1]].chess_piece != None:
                                if globals()[h_scale[h_order[chess_piece.position[0]] + 2] + v_scale[v_order[chess_piece.position[1]] + 1]].chess_piece.side == 'Black':
                                    if (h_scale[h_order[chess_piece.position[0]] + 2] + v_scale[v_order[chess_piece.position[1]] + 1]) == king_position:
                                        if destination_chess_piece != None:
                                            destination_chess_piece.captured = False
                                        start_chess_piece.position = original_position
                                        setBoard()
                                        return True

                        if chess_piece.position[1] != '1':
                            if globals()[h_scale[h_order[chess_piece.position[0]] + 2] + v_scale[v_order[chess_piece.position[1]] - 1]].chess_piece == None:
                                if (h_scale[h_order[chess_piece.position[0]] + 2] + v_scale[v_order[chess_piece.position[1]] - 1]) == king_position:
                                    if destination_chess_piece != None:
                                        destination_chess_piece.captured = False
                                    start_chess_piece.position = original_position
                                    setBoard()
                                    return True

                            if globals()[h_scale[h_order[chess_piece.position[0]] + 2] + v_scale[v_order[chess_piece.position[1]] - 1]].chess_piece != None:
                                if globals()[h_scale[h_order[chess_piece.position[0]] + 2] + v_scale[v_order[chess_piece.position[1]] - 1]].chess_piece.side == 'Black':
                                    if (h_scale[h_order[chess_piece.position[0]] + 2] + v_scale[v_order[chess_piece.position[1]] - 1]) == king_position:
                                        if destination_chess_piece != None:
                                            destination_chess_piece.captured = False
                                        start_chess_piece.position = original_position
                                        setBoard()
                                        return True
    
    elif start_chess_piece.side == 'White':
        for chess_piece in [
        black_pawn_1,
        black_pawn_2,
        black_pawn_3,
        black_pawn_4,
        black_pawn_5,
        black_pawn_6,
        black_pawn_7,
        black_pawn_8,
        black_rook_1,
        black_rook_2,
        black_knight_1,
        black_knight_2,
        black_bishop_1,
        black_bishop_2,
        black_queen_1,
        black_king_1
    ]:

            if chess_piece.captured == False:
                # Pawn
                if chess_piece.name == 'Pawn':
                    # 1 move up
                    if globals()[chess_piece.position[0] + v_scale[v_order[chess_piece.position[1]] - 1]].chess_piece == None:
                        if (chess_piece.position[0] + v_scale[v_order[chess_piece.position[1]] - 1]) == king_position:
                            if destination_chess_piece != None:
                                destination_chess_piece.captured = False
                            start_chess_piece.position = original_position
                            setBoard()
                            return True

                    # 2 moves up
                    if chess_piece.moved == False:
                        if globals()[chess_piece.position[0] + v_scale[v_order[chess_piece.position[1]] - 1]].chess_piece == None:
                            if globals()[chess_piece.position[0] + v_scale[v_order[chess_piece.position[1]] - 2]].chess_piece == None:
                                if (chess_piece.position[0] + v_scale[v_order[chess_piece.position[1]] - 2]) == king_position:
                                    if destination_chess_piece != None:
                                        destination_chess_piece.captured = False
                                    start_chess_piece.position = original_position
                                    setBoard()
                                    return True

                    # eat diagonally (left)
                    if chess_piece.position[0] != 'a':
                        if globals()[h_scale[h_order[chess_piece.position[0]] - 1] + v_scale[v_order[chess_piece.position[1]] - 1]].chess_piece != None:
                            if globals()[h_scale[h_order[chess_piece.position[0]] - 1] + v_scale[v_order[chess_piece.position[1]] - 1]].chess_piece.side == 'White':
                                if (h_scale[h_order[chess_piece.position[0]] - 1] + v_scale[v_order[chess_piece.position[1]] - 1]) == king_position:
                                    if destination_chess_piece != None:
                                        destination_chess_piece.captured = False
                                    start_chess_piece.position = original_position
                                    setBoard()
                                    return True

                    # eat diagonally (right)
                    if chess_piece.position[0] != 'h':
                        if globals()[h_scale[h_order[chess_piece.position[0]] + 1] + v_scale[v_order[chess_piece.position[1]] - 1]].chess_piece != None:
                            if globals()[h_scale[h_order[chess_piece.position[0]] + 1] + v_scale[v_order[chess_piece.position[1]] - 1]].chess_piece.side == 'White':
                                if (h_scale[h_order[chess_piece.position[0]] + 1] + v_scale[v_order[chess_piece.position[1]] - 1]) == king_position:
                                    if destination_chess_piece != None:
                                        destination_chess_piece.captured = False
                                    start_chess_piece.position = original_position
                                    setBoard()
                                    return True

                # Rook
                if chess_piece.name == 'Rook':
                    # all move up
                    if chess_piece.position[1] != '8':
                        block = False
                        increment = 0
                        while block == False:
                            increment = increment + 1
                            if globals()[chess_piece.position[0] + v_scale[v_order[chess_piece.position[1]] + increment]].chess_piece == None:
                                if (chess_piece.position[0] + v_scale[v_order[chess_piece.position[1]] + increment]) == king_position:
                                    if destination_chess_piece != None:
                                        destination_chess_piece.captured = False
                                    start_chess_piece.position = original_position
                                    setBoard()
                                    return True

                            if globals()[chess_piece.position[0] + v_scale[v_order[chess_piece.position[1]] + increment]].chess_piece != None:
                                if globals()[chess_piece.position[0] + v_scale[v_order[chess_piece.position[1]] + increment]].chess_piece.side == 'White':
                                    if (chess_piece.position[0] + v_scale[v_order[chess_piece.position[1]] + increment]) == king_position:
                                        if destination_chess_piece != None:
                                            destination_chess_piece.captured = False
                                        start_chess_piece.position = original_position
                                        setBoard()
                                        return True
                                block = True

                            if v_scale[v_order[chess_piece.position[1]] + increment] == '8':
                                block = True

                    # all move down
                    if chess_piece.position[1] != '1':
                        block = False
                        increment = 0
                        while block == False:
                            increment = increment + 1
                            if globals()[chess_piece.position[0] + v_scale[v_order[chess_piece.position[1]] - increment]].chess_piece == None:
                                if (chess_piece.position[0] + v_scale[v_order[chess_piece.position[1]] - increment]) == king_position:
                                    if destination_chess_piece != None:
                                        destination_chess_piece.captured = False
                                    start_chess_piece.position = original_position
                                    setBoard()
                                    return True

                            if globals()[chess_piece.position[0] + v_scale[v_order[chess_piece.position[1]] - increment]].chess_piece != None:
                                if globals()[chess_piece.position[0] + v_scale[v_order[chess_piece.position[1]] - increment]].chess_piece.side == 'White':
                                    if (chess_piece.position[0] + v_scale[v_order[chess_piece.position[1]] - increment]) == king_position:
                                        if destination_chess_piece != None:
                                            destination_chess_piece.captured = False
                                        start_chess_piece.position = original_position
                                        setBoard()
                                        return True
                                block = True

                            if v_scale[v_order[chess_piece.position[1]] - increment] == '1':
                                block = True

                    # all move left
                    if chess_piece.position[0] != 'a':
                        block = False
                        increment = 0
                        while block == False:
                            increment = increment + 1
                            if globals()[h_scale[h_order[chess_piece.position[0]] - increment] + chess_piece.position[1]].chess_piece == None:
                                if (h_scale[h_order[chess_piece.position[0]] - increment] + chess_piece.position[1]) == king_position:
                                    if destination_chess_piece != None:
                                        destination_chess_piece.captured = False
                                    start_chess_piece.position = original_position
                                    setBoard()
                                    return True

                            if globals()[h_scale[h_order[chess_piece.position[0]] - increment] + chess_piece.position[1]].chess_piece != None:
                                if globals()[h_scale[h_order[chess_piece.position[0]] - increment] + chess_piece.position[1]].chess_piece.side == 'White':
                                    if (h_scale[h_order[chess_piece.position[0]] - increment] + chess_piece.position[1]) == king_position:
                                        if destination_chess_piece != None:
                                            destination_chess_piece.captured = False
                                        start_chess_piece.position = original_position
                                        setBoard()
                                        return True
                                block = True

                            if h_scale[h_order[chess_piece.position[0]] - increment] == 'a':
                                block = True

                    # all move right
                    if chess_piece.position[0] != 'h':
                        block = False
                        increment = 0
                        while block == False:
                            increment = increment + 1
                            if globals()[h_scale[h_order[chess_piece.position[0]] + increment] + chess_piece.position[1]].chess_piece == None:
                                if (h_scale[h_order[chess_piece.position[0]] + increment] + chess_piece.position[1]) == king_position:
                                    if destination_chess_piece != None:
                                        destination_chess_piece.captured = False
                                    start_chess_piece.position = original_position
                                    setBoard()
                                    return True

                            if globals()[h_scale[h_order[chess_piece.position[0]] + increment] + chess_piece.position[1]].chess_piece != None:
                                if globals()[h_scale[h_order[chess_piece.position[0]] + increment] + chess_piece.position[1]].chess_piece.side == 'White':
                                    if (h_scale[h_order[chess_piece.position[0]] + increment] + chess_piece.position[1]) == king_position:
                                        if destination_chess_piece != None:
                                            destination_chess_piece.captured = False
                                        start_chess_piece.position = original_position
                                        setBoard()
                                        return True
                                block = True

                            if h_scale[h_order[chess_piece.position[0]] + increment] == 'h':
                                block = True

                # Bishop
                if chess_piece.name == 'Bishop':
                    # all move top-left
                    if chess_piece.position[0] != 'a' and chess_piece.position[1] != '8':
                        block = False
                        increment = 0
                        while block == False:
                            increment = increment + 1
                            if globals()[h_scale[h_order[chess_piece.position[0]] - increment] + v_scale[v_order[chess_piece.position[1]] + increment]].chess_piece == None:
                                if (h_scale[h_order[chess_piece.position[0]] - increment] + v_scale[v_order[chess_piece.position[1]] + increment]) == king_position:
                                    if destination_chess_piece != None:
                                        destination_chess_piece.captured = False
                                    start_chess_piece.position = original_position
                                    setBoard()
                                    return True

                            if globals()[h_scale[h_order[chess_piece.position[0]] - increment] + v_scale[v_order[chess_piece.position[1]] + increment]].chess_piece != None:
                                if globals()[h_scale[h_order[chess_piece.position[0]] - increment] + v_scale[v_order[chess_piece.position[1]] + increment]].chess_piece.side == 'White':
                                    if (h_scale[h_order[chess_piece.position[0]] - increment] + v_scale[v_order[chess_piece.position[1]] + increment]) == king_position:
                                        if destination_chess_piece != None:
                                            destination_chess_piece.captured = False
                                        start_chess_piece.position = original_position
                                        setBoard()
                                        return True
                                block = True

                            if h_scale[h_order[chess_piece.position[0]] - increment] == 'a' or v_scale[v_order[chess_piece.position[1]] + increment] == '8':
                                block = True

                    # all move top-right
                    if chess_piece.position[0] != 'h' and chess_piece.position[1] != '8':
                        block = False
                        increment = 0
                        while block == False:
                            increment = increment + 1
                            if globals()[h_scale[h_order[chess_piece.position[0]] + increment] + v_scale[v_order[chess_piece.position[1]] + increment]].chess_piece == None:
                                if (h_scale[h_order[chess_piece.position[0]] + increment] + v_scale[v_order[chess_piece.position[1]] + increment]) == king_position:
                                    if destination_chess_piece != None:
                                        destination_chess_piece.captured = False
                                    start_chess_piece.position = original_position
                                    setBoard()
                                    return True

                            if globals()[h_scale[h_order[chess_piece.position[0]] + increment] + v_scale[v_order[chess_piece.position[1]] + increment]].chess_piece != None:
                                if globals()[h_scale[h_order[chess_piece.position[0]] + increment] + v_scale[v_order[chess_piece.position[1]] + increment]].chess_piece.side == 'White':
                                    if (h_scale[h_order[chess_piece.position[0]] + increment] + v_scale[v_order[chess_piece.position[1]] + increment]) == king_position:
                                        if destination_chess_piece != None:
                                            destination_chess_piece.captured = False
                                        start_chess_piece.position = original_position
                                        setBoard()
                                        return True
                                block = True

                            if h_scale[h_order[chess_piece.position[0]] + increment] == 'h' or v_scale[v_order[chess_piece.position[1]] + increment] == '8':
                                block = True

                    # all move bottom-left
                    if chess_piece.position[0] != 'a' and chess_piece.position[1] != '1':
                        block = False
                        increment = 0
                        while block == False:
                            increment = increment + 1
                            if globals()[h_scale[h_order[chess_piece.position[0]] - increment] + v_scale[v_order[chess_piece.position[1]] - increment]].chess_piece == None:
                                if (h_scale[h_order[chess_piece.position[0]] - increment] + v_scale[v_order[chess_piece.position[1]] - increment]) == king_position:
                                    if destination_chess_piece != None:
                                        destination_chess_piece.captured = False
                                    start_chess_piece.position = original_position
                                    setBoard()
                                    return True

                            if globals()[h_scale[h_order[chess_piece.position[0]] - increment] + v_scale[v_order[chess_piece.position[1]] - increment]].chess_piece != None:
                                if globals()[h_scale[h_order[chess_piece.position[0]] - increment] + v_scale[v_order[chess_piece.position[1]] - increment]].chess_piece.side == 'White':
                                    if (h_scale[h_order[chess_piece.position[0]] - increment] + v_scale[v_order[chess_piece.position[1]] - increment]) == king_position:
                                        if destination_chess_piece != None:
                                            destination_chess_piece.captured = False
                                        start_chess_piece.position = original_position
                                        setBoard()
                                        return True
                                block = True

                            if h_scale[h_order[chess_piece.position[0]] - increment] == 'a' or v_scale[v_order[chess_piece.position[1]] - increment] == '1':
                                block = True

                    # all move bottom-right
                    if chess_piece.position[0] != 'h' and chess_piece.position[1] != '1':
                        block = False
                        increment = 0
                        while block == False:
                            increment = increment + 1
                            if globals()[h_scale[h_order[chess_piece.position[0]] + increment] + v_scale[v_order[chess_piece.position[1]] - increment]].chess_piece == None:
                                if (h_scale[h_order[chess_piece.position[0]] + increment] + v_scale[v_order[chess_piece.position[1]] - increment]) == king_position:
                                    if destination_chess_piece != None:
                                        destination_chess_piece.captured = False
                                    start_chess_piece.position = original_position
                                    setBoard()
                                    return True

                            if globals()[h_scale[h_order[chess_piece.position[0]] + increment] + v_scale[v_order[chess_piece.position[1]] - increment]].chess_piece != None:
                                if globals()[h_scale[h_order[chess_piece.position[0]] + increment] + v_scale[v_order[chess_piece.position[1]] - increment]].chess_piece.side == 'White':
                                    if (h_scale[h_order[chess_piece.position[0]] + increment] + v_scale[v_order[chess_piece.position[1]] - increment]) == king_position:
                                        if destination_chess_piece != None:
                                            destination_chess_piece.captured = False
                                        start_chess_piece.position = original_position
                                        setBoard()
                                        return True
                                block = True

                            if h_scale[h_order[chess_piece.position[0]] + increment] == 'h' or v_scale[v_order[chess_piece.position[1]] - increment] == '1':
                                block = True

                # Queen
                if chess_piece.name == 'Queen':
                    # all move up
                    if chess_piece.position[1] != '8':
                        block = False
                        increment = 0
                        while block == False:
                            increment = increment + 1
                            if globals()[chess_piece.position[0] + v_scale[v_order[chess_piece.position[1]] + increment]].chess_piece == None:
                                if (chess_piece.position[0] + v_scale[v_order[chess_piece.position[1]] + increment]) == king_position:
                                    if destination_chess_piece != None:
                                        destination_chess_piece.captured = False
                                    start_chess_piece.position = original_position
                                    setBoard()
                                    return True

                            if globals()[chess_piece.position[0] + v_scale[v_order[chess_piece.position[1]] + increment]].chess_piece != None:
                                if globals()[chess_piece.position[0] + v_scale[v_order[chess_piece.position[1]] + increment]].chess_piece.side == 'White':
                                    if (chess_piece.position[0] + v_scale[v_order[chess_piece.position[1]] + increment]) == king_position:
                                        if destination_chess_piece != None:
                                            destination_chess_piece.captured = False
                                        start_chess_piece.position = original_position
                                        setBoard()
                                        return True
                                block = True

                            if v_scale[v_order[chess_piece.position[1]] + increment] == '8':
                                block = True

                    # all move down
                    if chess_piece.position[1] != '1':
                        block = False
                        increment = 0
                        while block == False:
                            increment = increment + 1
                            if globals()[chess_piece.position[0] + v_scale[v_order[chess_piece.position[1]] - increment]].chess_piece == None:
                                if (chess_piece.position[0] + v_scale[v_order[chess_piece.position[1]] - increment]) == king_position:
                                    if destination_chess_piece != None:
                                        destination_chess_piece.captured = False
                                    start_chess_piece.position = original_position
                                    setBoard()
                                    return True

                            if globals()[chess_piece.position[0] + v_scale[v_order[chess_piece.position[1]] - increment]].chess_piece != None:
                                if globals()[chess_piece.position[0] + v_scale[v_order[chess_piece.position[1]] - increment]].chess_piece.side == 'White':
                                    if (chess_piece.position[0] + v_scale[v_order[chess_piece.position[1]] - increment]) == king_position:
                                        if destination_chess_piece != None:
                                            destination_chess_piece.captured = False
                                        start_chess_piece.position = original_position
                                        setBoard()
                                        return True
                                block = True

                            if v_scale[v_order[chess_piece.position[1]] - increment] == '1':
                                block = True

                    # all move left
                    if chess_piece.position[0] != 'a':
                        block = False
                        increment = 0
                        while block == False:
                            increment = increment + 1
                            if globals()[h_scale[h_order[chess_piece.position[0]] - increment] + chess_piece.position[1]].chess_piece == None:
                                if (h_scale[h_order[chess_piece.position[0]] - increment] + chess_piece.position[1]) == king_position:
                                    if destination_chess_piece != None:
                                        destination_chess_piece.captured = False
                                    start_chess_piece.position = original_position
                                    setBoard()
                                    return True

                            if globals()[h_scale[h_order[chess_piece.position[0]] - increment] + chess_piece.position[1]].chess_piece != None:
                                if globals()[h_scale[h_order[chess_piece.position[0]] - increment] + chess_piece.position[1]].chess_piece.side == 'White':
                                    if (h_scale[h_order[chess_piece.position[0]] - increment] + chess_piece.position[1]) == king_position:
                                        if destination_chess_piece != None:
                                            destination_chess_piece.captured = False
                                        start_chess_piece.position = original_position
                                        setBoard()
                                        return True
                                block = True

                            if h_scale[h_order[chess_piece.position[0]] - increment] == 'a':
                                block = True

                    # all move right
                    if chess_piece.position[0] != 'h':
                        block = False
                        increment = 0
                        while block == False:
                            increment = increment + 1
                            if globals()[h_scale[h_order[chess_piece.position[0]] + increment] + chess_piece.position[1]].chess_piece == None:
                                if (h_scale[h_order[chess_piece.position[0]] + increment] + chess_piece.position[1]) == king_position:
                                    if destination_chess_piece != None:
                                        destination_chess_piece.captured = False
                                    start_chess_piece.position = original_position
                                    setBoard()
                                    return True

                            if globals()[h_scale[h_order[chess_piece.position[0]] + increment] + chess_piece.position[1]].chess_piece != None:
                                if globals()[h_scale[h_order[chess_piece.position[0]] + increment] + chess_piece.position[1]].chess_piece.side == 'White':
                                    if (h_scale[h_order[chess_piece.position[0]] + increment] + chess_piece.position[1]) == king_position:
                                        if destination_chess_piece != None:
                                            destination_chess_piece.captured = False
                                        start_chess_piece.position = original_position
                                        setBoard()
                                        return True
                                block = True

                            if h_scale[h_order[chess_piece.position[0]] + increment] == 'h':
                                block = True

                    # all move top-left
                    if chess_piece.position[0] != 'a' and chess_piece.position[1] != '8':
                        block = False
                        increment = 0
                        while block == False:
                            increment = increment + 1
                            if globals()[h_scale[h_order[chess_piece.position[0]] - increment] + v_scale[v_order[chess_piece.position[1]] + increment]].chess_piece == None:
                                if (h_scale[h_order[chess_piece.position[0]] - increment] + v_scale[v_order[chess_piece.position[1]] + increment]) == king_position:
                                    if destination_chess_piece != None:
                                        destination_chess_piece.captured = False
                                    start_chess_piece.position = original_position
                                    setBoard()
                                    return True

                            if globals()[h_scale[h_order[chess_piece.position[0]] - increment] + v_scale[v_order[chess_piece.position[1]] + increment]].chess_piece != None:
                                if globals()[h_scale[h_order[chess_piece.position[0]] - increment] + v_scale[v_order[chess_piece.position[1]] + increment]].chess_piece.side == 'White':
                                    if (h_scale[h_order[chess_piece.position[0]] - increment] + v_scale[v_order[chess_piece.position[1]] + increment]) == king_position:
                                        if destination_chess_piece != None:
                                            destination_chess_piece.captured = False
                                        start_chess_piece.position = original_position
                                        setBoard()
                                        return True
                                block = True

                            if h_scale[h_order[chess_piece.position[0]] - increment] == 'a' or v_scale[v_order[chess_piece.position[1]] + increment] == '8':
                                block = True

                    # all move top-right
                    if chess_piece.position[0] != 'h' and chess_piece.position[1] != '8':
                        block = False
                        increment = 0
                        while block == False:
                            increment = increment + 1
                            if globals()[h_scale[h_order[chess_piece.position[0]] + increment] + v_scale[v_order[chess_piece.position[1]] + increment]].chess_piece == None:
                                if (h_scale[h_order[chess_piece.position[0]] + increment] + v_scale[v_order[chess_piece.position[1]] + increment]) == king_position:
                                    if destination_chess_piece != None:
                                        destination_chess_piece.captured = False
                                    start_chess_piece.position = original_position
                                    setBoard()
                                    return True

                            if globals()[h_scale[h_order[chess_piece.position[0]] + increment] + v_scale[v_order[chess_piece.position[1]] + increment]].chess_piece != None:
                                if globals()[h_scale[h_order[chess_piece.position[0]] + increment] + v_scale[v_order[chess_piece.position[1]] + increment]].chess_piece.side == 'White':
                                    if (h_scale[h_order[chess_piece.position[0]] + increment] + v_scale[v_order[chess_piece.position[1]] + increment]) == king_position:
                                        if destination_chess_piece != None:
                                            destination_chess_piece.captured = False
                                        start_chess_piece.position = original_position
                                        setBoard()
                                        return True
                                block = True

                            if h_scale[h_order[chess_piece.position[0]] + increment] == 'h' or v_scale[v_order[chess_piece.position[1]] + increment] == '8':
                                block = True

                    # all move bottom-left
                    if chess_piece.position[0] != 'a' and chess_piece.position[1] != '1':
                        block = False
                        increment = 0
                        while block == False:
                            increment = increment + 1
                            if globals()[h_scale[h_order[chess_piece.position[0]] - increment] + v_scale[v_order[chess_piece.position[1]] - increment]].chess_piece == None:
                                if (h_scale[h_order[chess_piece.position[0]] - increment] + v_scale[v_order[chess_piece.position[1]] - increment]) == king_position:
                                    if destination_chess_piece != None:
                                        destination_chess_piece.captured = False
                                    start_chess_piece.position = original_position
                                    setBoard()
                                    return True

                            if globals()[h_scale[h_order[chess_piece.position[0]] - increment] + v_scale[v_order[chess_piece.position[1]] - increment]].chess_piece != None:
                                if globals()[h_scale[h_order[chess_piece.position[0]] - increment] + v_scale[v_order[chess_piece.position[1]] - increment]].chess_piece.side == 'White':
                                    if (h_scale[h_order[chess_piece.position[0]] - increment] + v_scale[v_order[chess_piece.position[1]] - increment]) == king_position:
                                        if destination_chess_piece != None:
                                            destination_chess_piece.captured = False
                                        start_chess_piece.position = original_position
                                        setBoard()
                                        return True
                                block = True

                            if h_scale[h_order[chess_piece.position[0]] - increment] == 'a' or v_scale[v_order[chess_piece.position[1]] - increment] == '1':
                                block = True

                    # all move bottom-right
                    if chess_piece.position[0] != 'h' and chess_piece.position[1] != '1':
                        block = False
                        increment = 0
                        while block == False:
                            increment = increment + 1
                            if globals()[h_scale[h_order[chess_piece.position[0]] + increment] + v_scale[v_order[chess_piece.position[1]] - increment]].chess_piece == None:
                                if (h_scale[h_order[chess_piece.position[0]] + increment] + v_scale[v_order[chess_piece.position[1]] - increment]) == king_position:
                                    if destination_chess_piece != None:
                                        destination_chess_piece.captured = False
                                    start_chess_piece.position = original_position
                                    setBoard()
                                    return True

                            if globals()[h_scale[h_order[chess_piece.position[0]] + increment] + v_scale[v_order[chess_piece.position[1]] - increment]].chess_piece != None:
                                if globals()[h_scale[h_order[chess_piece.position[0]] + increment] + v_scale[v_order[chess_piece.position[1]] - increment]].chess_piece.side == 'White':
                                    if (h_scale[h_order[chess_piece.position[0]] + increment] + v_scale[v_order[chess_piece.position[1]] - increment]) == king_position:
                                        if destination_chess_piece != None:
                                            destination_chess_piece.captured = False
                                        start_chess_piece.position = original_position
                                        setBoard()
                                        return True
                                block = True

                            if h_scale[h_order[chess_piece.position[0]] + increment] == 'h' or v_scale[v_order[chess_piece.position[1]] - increment] == '1':
                                block = True

                # King
                if chess_piece.name == 'King':
                    # 1 move up
                    if chess_piece.position[1] != '8':
                        if globals()[chess_piece.position[0] + v_scale[v_order[chess_piece.position[1]] + 1]].chess_piece == None:
                            if (chess_piece.position[0] + v_scale[v_order[chess_piece.position[1]] + 1]) == king_position:
                                if destination_chess_piece != None:
                                    destination_chess_piece.captured = False
                                start_chess_piece.position = original_position
                                setBoard()
                                return True

                        if globals()[chess_piece.position[0] + v_scale[v_order[chess_piece.position[1]] + 1]].chess_piece != None:
                            if globals()[chess_piece.position[0] + v_scale[v_order[chess_piece.position[1]] + 1]].chess_piece.side == 'White':
                                if (chess_piece.position[0] + v_scale[v_order[chess_piece.position[1]] + 1]) == king_position:
                                    if destination_chess_piece != None:
                                        destination_chess_piece.captured = False
                                    start_chess_piece.position = original_position
                                    setBoard()
                                    return True

                    # 1 move down
                    if chess_piece.position[1] != '1':
                        if globals()[chess_piece.position[0] + v_scale[v_order[chess_piece.position[1]] - 1]].chess_piece == None:
                            if (chess_piece.position[0] + v_scale[v_order[chess_piece.position[1]] - 1]) == king_position:
                                if destination_chess_piece != None:
                                    destination_chess_piece.captured = False
                                start_chess_piece.position = original_position
                                setBoard()
                                return True

                        if globals()[chess_piece.position[0] + v_scale[v_order[chess_piece.position[1]] - 1]].chess_piece != None:
                            if globals()[chess_piece.position[0] + v_scale[v_order[chess_piece.position[1]] - 1]].chess_piece.side == 'White':
                                if (chess_piece.position[0] + v_scale[v_order[chess_piece.position[1]] - 1]) == king_position:
                                    if destination_chess_piece != None:
                                        destination_chess_piece.captured = False
                                    start_chess_piece.position = original_position
                                    setBoard()
                                    return True

                    # 1 move left
                    if chess_piece.position[0] != 'a':
                        if globals()[h_scale[h_order[chess_piece.position[0]] - 1] + chess_piece.position[1]].chess_piece == None:
                            if (h_scale[h_order[chess_piece.position[0]] - 1] + chess_piece.position[1]) == king_position:
                                if destination_chess_piece != None:
                                    destination_chess_piece.captured = False
                                start_chess_piece.position = original_position
                                setBoard()
                                return True

                        if globals()[h_scale[h_order[chess_piece.position[0]] - 1] + chess_piece.position[1]].chess_piece != None:
                            if globals()[h_scale[h_order[chess_piece.position[0]] - 1] + chess_piece.position[1]].chess_piece.side == 'White':
                                if (h_scale[h_order[chess_piece.position[0]] - 1] + chess_piece.position[1]) == king_position:
                                    if destination_chess_piece != None:
                                        destination_chess_piece.captured = False
                                    start_chess_piece.position = original_position
                                    setBoard()
                                    return True

                    # 1 move right
                    if chess_piece.position[0] != 'h':
                        if globals()[h_scale[h_order[chess_piece.position[0]] + 1] + chess_piece.position[1]].chess_piece == None:
                            if (h_scale[h_order[chess_piece.position[0]] + 1] + chess_piece.position[1]) == king_position:
                                if destination_chess_piece != None:
                                    destination_chess_piece.captured = False
                                start_chess_piece.position = original_position
                                setBoard()
                                return True

                        if globals()[h_scale[h_order[chess_piece.position[0]] + 1] + chess_piece.position[1]].chess_piece != None:
                            if globals()[h_scale[h_order[chess_piece.position[0]] + 1] + chess_piece.position[1]].chess_piece.side == 'White':
                                if (h_scale[h_order[chess_piece.position[0]] + 1] + chess_piece.position[1]) == king_position:
                                    if destination_chess_piece != None:
                                        destination_chess_piece.captured = False
                                    start_chess_piece.position = original_position
                                    setBoard()
                                    return True

                    # 1 move top-left
                    if chess_piece.position[0] != 'a' and chess_piece.position[1] != '8':
                        if globals()[h_scale[h_order[chess_piece.position[0]] - 1] + v_scale[v_order[chess_piece.position[1]] + 1]].chess_piece == None:
                            if (h_scale[h_order[chess_piece.position[0]] - 1] + v_scale[v_order[chess_piece.position[1]] + 1]) == king_position:
                                if destination_chess_piece != None:
                                    destination_chess_piece.captured = False
                                start_chess_piece.position = original_position
                                setBoard()
                                return True

                        if globals()[h_scale[h_order[chess_piece.position[0]] - 1] + v_scale[v_order[chess_piece.position[1]] + 1]].chess_piece != None:
                            if globals()[h_scale[h_order[chess_piece.position[0]] - 1] + v_scale[v_order[chess_piece.position[1]] + 1]].chess_piece.side == 'White':
                                if (h_scale[h_order[chess_piece.position[0]] - 1] + v_scale[v_order[chess_piece.position[1]] + 1]) == king_position:
                                    if destination_chess_piece != None:
                                        destination_chess_piece.captured = False
                                    start_chess_piece.position = original_position
                                    setBoard()
                                    return True

                    # 1 move top-right
                    if chess_piece.position[0] != 'h' and chess_piece.position[1] != '8':

                        if globals()[h_scale[h_order[chess_piece.position[0]] + 1] + v_scale[v_order[chess_piece.position[1]] + 1]].chess_piece == None:
                            if (h_scale[h_order[chess_piece.position[0]] + 1] + v_scale[v_order[chess_piece.position[1]] + 1]) == king_position:
                                if destination_chess_piece != None:
                                    destination_chess_piece.captured = False
                                start_chess_piece.position = original_position
                                setBoard()
                                return True

                        if globals()[h_scale[h_order[chess_piece.position[0]] + 1] + v_scale[v_order[chess_piece.position[1]] + 1]].chess_piece != None:
                            if globals()[h_scale[h_order[chess_piece.position[0]] + 1] + v_scale[v_order[chess_piece.position[1]] + 1]].chess_piece.side == 'White':
                                if (h_scale[h_order[chess_piece.position[0]] + 1] + v_scale[v_order[chess_piece.position[1]] + 1]) == king_position:
                                    if destination_chess_piece != None:
                                        destination_chess_piece.captured = False
                                    start_chess_piece.position = original_position
                                    setBoard()
                                    return True

                    # 1 move bottom-left
                    if chess_piece.position[0] != 'a' and chess_piece.position[1] != '1':
                        if globals()[h_scale[h_order[chess_piece.position[0]] - 1] + v_scale[v_order[chess_piece.position[1]] - 1]].chess_piece == None:
                            if (h_scale[h_order[chess_piece.position[0]] - 1] + v_scale[v_order[chess_piece.position[1]] - 1]) == king_position:
                                if destination_chess_piece != None:
                                    destination_chess_piece.captured = False
                                start_chess_piece.position = original_position
                                setBoard()
                                return True

                        if globals()[h_scale[h_order[chess_piece.position[0]] - 1] + v_scale[v_order[chess_piece.position[1]] - 1]].chess_piece != None:
                            if globals()[h_scale[h_order[chess_piece.position[0]] - 1] + v_scale[v_order[chess_piece.position[1]] - 1]].chess_piece.side == 'White':
                                if (h_scale[h_order[chess_piece.position[0]] - 1] + v_scale[v_order[chess_piece.position[1]] - 1]) == king_position:
                                    if destination_chess_piece != None:
                                        destination_chess_piece.captured = False
                                    start_chess_piece.position = original_position
                                    setBoard()
                                    return True


                    # 1 move bottom-right
                    if chess_piece.position[0] != 'h' and chess_piece.position[1] != '1':
                        if globals()[h_scale[h_order[chess_piece.position[0]] + 1] + v_scale[v_order[chess_piece.position[1]] - 1]].chess_piece == None:
                            if (h_scale[h_order[chess_piece.position[0]] + 1] + v_scale[v_order[chess_piece.position[1]] - 1]) == king_position:
                                if destination_chess_piece != None:
                                    destination_chess_piece.captured = False
                                start_chess_piece.position = original_position
                                setBoard()
                                return True

                        if globals()[h_scale[h_order[chess_piece.position[0]] + 1] + v_scale[v_order[chess_piece.position[1]] - 1]].chess_piece != None:
                            if globals()[h_scale[h_order[chess_piece.position[0]] + 1] + v_scale[v_order[chess_piece.position[1]] - 1]].chess_piece.side == 'White':
                                if (h_scale[h_order[chess_piece.position[0]] + 1] + v_scale[v_order[chess_piece.position[1]] - 1]) == king_position:
                                    if destination_chess_piece != None:
                                        destination_chess_piece.captured = False
                                    start_chess_piece.position = original_position
                                    setBoard()
                                    return True

                # Knight
                if chess_piece.name == 'Knight':
                    # up diagonal left & right
                    if chess_piece.position[1] != '7' and chess_piece.position[1] != '8':
                        if chess_piece.position[0] != 'a':
                            if globals()[h_scale[h_order[chess_piece.position[0]] - 1] + v_scale[v_order[chess_piece.position[1]] + 2]].chess_piece == None:
                                if (h_scale[h_order[chess_piece.position[0]] - 1] + v_scale[v_order[chess_piece.position[1]] + 2]) == king_position:
                                    if destination_chess_piece != None:
                                        destination_chess_piece.captured = False
                                    start_chess_piece.position = original_position
                                    setBoard()
                                    return True

                            if globals()[h_scale[h_order[chess_piece.position[0]] - 1] + v_scale[v_order[chess_piece.position[1]] + 2]].chess_piece != None:
                                if globals()[h_scale[h_order[chess_piece.position[0]] - 1] + v_scale[v_order[chess_piece.position[1]] + 2]].chess_piece.side == 'White':
                                    if (h_scale[h_order[chess_piece.position[0]] - 1] + v_scale[v_order[chess_piece.position[1]] + 2]) == king_position:
                                        if destination_chess_piece != None:
                                            destination_chess_piece.captured = False
                                        start_chess_piece.position = original_position
                                        setBoard()
                                        return True

                        if chess_piece.position[0] != 'h':
                            if globals()[h_scale[h_order[chess_piece.position[0]] + 1] + v_scale[v_order[chess_piece.position[1]] + 2]].chess_piece == None:
                                if (h_scale[h_order[chess_piece.position[0]] + 1] + v_scale[v_order[chess_piece.position[1]] + 2]) == king_position:
                                    if destination_chess_piece != None:
                                        destination_chess_piece.captured = False
                                    start_chess_piece.position = original_position
                                    setBoard()
                                    return True

                            if globals()[h_scale[h_order[chess_piece.position[0]] + 1] + v_scale[v_order[chess_piece.position[1]] + 2]].chess_piece != None:
                                if globals()[h_scale[h_order[chess_piece.position[0]] + 1] + v_scale[v_order[chess_piece.position[1]] + 2]].chess_piece.side == 'White':
                                    if (h_scale[h_order[chess_piece.position[0]] + 1] + v_scale[v_order[chess_piece.position[1]] + 2]) == king_position:
                                        if destination_chess_piece != None:
                                            destination_chess_piece.captured = False
                                        start_chess_piece.position = original_position
                                        setBoard()
                                        return True

                    # down diagonal left & right
                    if chess_piece.position[1] != '1' and chess_piece.position[1] != '2':
                        if chess_piece.position[0] != 'a':
                            if globals()[h_scale[h_order[chess_piece.position[0]] - 1] + v_scale[v_order[chess_piece.position[1]] - 2]].chess_piece == None:
                                if (h_scale[h_order[chess_piece.position[0]] - 1] + v_scale[v_order[chess_piece.position[1]] - 2]) == king_position:
                                    if destination_chess_piece != None:
                                        destination_chess_piece.captured = False
                                    start_chess_piece.position = original_position
                                    setBoard()
                                    return True

                            if globals()[h_scale[h_order[chess_piece.position[0]] - 1] + v_scale[v_order[chess_piece.position[1]] - 2]].chess_piece != None:
                                if globals()[h_scale[h_order[chess_piece.position[0]] - 1] + v_scale[v_order[chess_piece.position[1]] - 2]].chess_piece.side == 'White':
                                    if(h_scale[h_order[chess_piece.position[0]] - 1] + v_scale[v_order[chess_piece.position[1]] - 2]) == king_position:
                                        if destination_chess_piece != None:
                                            destination_chess_piece.captured = False
                                        start_chess_piece.position = original_position
                                        setBoard()
                                        return True

                        if chess_piece.position[0] != 'h':
                            if globals()[h_scale[h_order[chess_piece.position[0]] + 1] + v_scale[v_order[chess_piece.position[1]] - 2]].chess_piece == None:
                                if (h_scale[h_order[chess_piece.position[0]] + 1] + v_scale[v_order[chess_piece.position[1]] - 2]) == king_position:
                                    if destination_chess_piece != None:
                                        destination_chess_piece.captured = False
                                    start_chess_piece.position = original_position
                                    setBoard()
                                    return True

                            if globals()[h_scale[h_order[chess_piece.position[0]] + 1] + v_scale[v_order[chess_piece.position[1]] - 2]].chess_piece != None:
                                if globals()[h_scale[h_order[chess_piece.position[0]] + 1] + v_scale[v_order[chess_piece.position[1]] - 2]].chess_piece.side == 'White':
                                    if (h_scale[h_order[chess_piece.position[0]] + 1] + v_scale[v_order[chess_piece.position[1]] - 2]) == king_position:
                                        if destination_chess_piece != None:
                                            destination_chess_piece.captured = False
                                        start_chess_piece.position = original_position
                                        setBoard()
                                        return True

                    # left diagonal up & down
                    if chess_piece.position[0] != 'a' and chess_piece.position[0] != 'b':
                        if chess_piece.position[1] != '8':
                            if globals()[h_scale[h_order[chess_piece.position[0]] - 2] + v_scale[v_order[chess_piece.position[1]] + 1]].chess_piece == None:
                                if (h_scale[h_order[chess_piece.position[0]] - 2] + v_scale[v_order[chess_piece.position[1]] + 1]) == king_position:
                                    if destination_chess_piece != None:
                                        destination_chess_piece.captured = False
                                    start_chess_piece.position = original_position
                                    setBoard()
                                    return True

                            if globals()[h_scale[h_order[chess_piece.position[0]] - 2] + v_scale[v_order[chess_piece.position[1]] + 1]].chess_piece != None:
                                if globals()[h_scale[h_order[chess_piece.position[0]] - 2] + v_scale[v_order[chess_piece.position[1]] + 1]].chess_piece.side == 'White':
                                    if (h_scale[h_order[chess_piece.position[0]] - 2] + v_scale[v_order[chess_piece.position[1]] + 1]) == king_position:
                                        if destination_chess_piece != None:
                                            destination_chess_piece.captured = False
                                        start_chess_piece.position = original_position
                                        setBoard()
                                        return True

                        if chess_piece.position[1] != '1':
                            if globals()[h_scale[h_order[chess_piece.position[0]] - 2] + v_scale[v_order[chess_piece.position[1]] - 1]].chess_piece == None:
                                if (h_scale[h_order[chess_piece.position[0]] - 2] + v_scale[v_order[chess_piece.position[1]] - 1]) == king_position:
                                    if destination_chess_piece != None:
                                        destination_chess_piece.captured = False
                                    start_chess_piece.position = original_position
                                    setBoard()
                                    return True

                            if globals()[h_scale[h_order[chess_piece.position[0]] - 2] + v_scale[v_order[chess_piece.position[1]] - 1]].chess_piece != None:
                                if globals()[h_scale[h_order[chess_piece.position[0]] - 2] + v_scale[v_order[chess_piece.position[1]] - 1]].chess_piece.side == 'White':
                                    if (h_scale[h_order[chess_piece.position[0]] - 2] + v_scale[v_order[chess_piece.position[1]] - 1]) == king_position:
                                        if destination_chess_piece != None:
                                            destination_chess_piece.captured = False
                                        start_chess_piece.position = original_position
                                        setBoard()
                                        return True

                    # right diagonal up & down
                    if chess_piece.position[0] != 'g' and chess_piece.position[0] != 'h':
                        if chess_piece.position[1] != '8':
                            if globals()[h_scale[h_order[chess_piece.position[0]] + 2] + v_scale[v_order[chess_piece.position[1]] + 1]].chess_piece == None:
                                if (h_scale[h_order[chess_piece.position[0]] + 2] + v_scale[v_order[chess_piece.position[1]] + 1]) == king_position:
                                    if destination_chess_piece != None:
                                        destination_chess_piece.captured = False
                                    start_chess_piece.position = original_position
                                    setBoard()
                                    return True

                            if globals()[h_scale[h_order[chess_piece.position[0]] + 2] + v_scale[v_order[chess_piece.position[1]] + 1]].chess_piece != None:
                                if globals()[h_scale[h_order[chess_piece.position[0]] + 2] + v_scale[v_order[chess_piece.position[1]] + 1]].chess_piece.side == 'White':
                                    if (h_scale[h_order[chess_piece.position[0]] + 2] + v_scale[v_order[chess_piece.position[1]] + 1]) == king_position:
                                        if destination_chess_piece != None:
                                            destination_chess_piece.captured = False
                                        start_chess_piece.position = original_position
                                        setBoard()
                                        return True

                        if chess_piece.position[1] != '1':
                            if globals()[h_scale[h_order[chess_piece.position[0]] + 2] + v_scale[v_order[chess_piece.position[1]] - 1]].chess_piece == None:
                                if (h_scale[h_order[chess_piece.position[0]] + 2] + v_scale[v_order[chess_piece.position[1]] - 1]) == king_position:
                                    if destination_chess_piece != None:
                                        destination_chess_piece.captured = Falsee
                                    start_chess_piece.position = original_position
                                    setBoard()
                                    return True

                            if globals()[h_scale[h_order[chess_piece.position[0]] + 2] + v_scale[v_order[chess_piece.position[1]] - 1]].chess_piece != None:
                                if globals()[h_scale[h_order[chess_piece.position[0]] + 2] + v_scale[v_order[chess_piece.position[1]] - 1]].chess_piece.side == 'White':
                                    if (h_scale[h_order[chess_piece.position[0]] + 2] + v_scale[v_order[chess_piece.position[1]] - 1]) == king_position:
                                        if destination_chess_piece != None:
                                            destination_chess_piece.captured = False
                                        start_chess_piece.position = original_position
                                        setBoard()
                                        return True   
            
            
            
    if destination_chess_piece != None:
        destination_chess_piece.captured = False
    start_chess_piece.position = original_position
    setBoard()
    return False


# Game

def movePiece(current_space, destination_space):
    selected_chess_piece = globals()[current_space].chess_piece
    destination_chess_piece = None
    if globals()[destination_space].chess_piece != None:
        destination_chess_piece = globals()[destination_space].chess_piece
        
    # if castling
    if selected_chess_piece.name == 'King' and selected_chess_piece.moved == False:
        if destination_space == 'c1':
            movePiece('a1', 'd1')
        if destination_space == 'g1':
            movePiece('h1', 'f1')
        if destination_space == 'c8':
            movePiece('a8', 'd8')
        if destination_space == 'g8':
            movePiece('h8', 'f8')
         
    # track en passant
    global white_last_turn_pawn_jump
    white_last_turn_pawn_jump = ''
    if selected_chess_piece.side == 'White' and selected_chess_piece.name == 'Pawn' and selected_chess_piece.position[1] == '2' and destination_space[1] == '4':
        white_last_turn_pawn_jump = destination_space
        
    global black_last_turn_pawn_jump
    black_last_turn_pawn_jump = ''
    if selected_chess_piece.side == 'Black' and selected_chess_piece.name == 'Pawn' and selected_chess_piece.position[1] == '7' and destination_space[1] == '5': 
        black_last_turn_pawn_jump = destination_space
        
    # if en passant
    if selected_chess_piece.name == 'Pawn': 
        if destination_chess_piece == None:
            # white en passant left
            if destination_space == (h_scale[h_order[selected_chess_piece.position[0]] - 1] + v_scale[v_order[selected_chess_piece.position[1]] + 1]):
                globals()[(h_scale[h_order[selected_chess_piece.position[0]] - 1] + selected_chess_piece.position[1])].chess_piece.position = '' 
                globals()[(h_scale[h_order[selected_chess_piece.position[0]] - 1] + selected_chess_piece.position[1])].chess_piece.possible_moves = []
                globals()[(h_scale[h_order[selected_chess_piece.position[0]] - 1] + selected_chess_piece.position[1])].chess_piece.captured = True
            # white en passant right
            if destination_space == (h_scale[h_order[selected_chess_piece.position[0]] + 1] + v_scale[v_order[selected_chess_piece.position[1]] + 1]): 
                globals()[(h_scale[h_order[selected_chess_piece.position[0]] + 1] + selected_chess_piece.position[1])].chess_piece.position = '' 
                globals()[(h_scale[h_order[selected_chess_piece.position[0]] + 1] + selected_chess_piece.position[1])].chess_piece.possible_moves = []
                globals()[(h_scale[h_order[selected_chess_piece.position[0]] + 1] + selected_chess_piece.position[1])].chess_piece.captured = True
            # black en passant left
            if destination_space == (h_scale[h_order[selected_chess_piece.position[0]] - 1] + v_scale[v_order[selected_chess_piece.position[1]] - 1]): 
                globals()[(h_scale[h_order[selected_chess_piece.position[0]] - 1] + selected_chess_piece.position[1])].chess_piece.position = '' 
                globals()[(h_scale[h_order[selected_chess_piece.position[0]] - 1] + selected_chess_piece.position[1])].chess_piece.possible_moves = []
                globals()[(h_scale[h_order[selected_chess_piece.position[0]] - 1] + selected_chess_piece.position[1])].chess_piece.captured = True
            # black en passant right
            if destination_space == (h_scale[h_order[selected_chess_piece.position[0]] + 1] + v_scale[v_order[selected_chess_piece.position[1]] - 1]): 
                globals()[(h_scale[h_order[selected_chess_piece.position[0]] + 1] + selected_chess_piece.position[1])].chess_piece.position = '' 
                globals()[(h_scale[h_order[selected_chess_piece.position[0]] + 1] + selected_chess_piece.position[1])].chess_piece.possible_moves = []
                globals()[(h_scale[h_order[selected_chess_piece.position[0]] + 1] + selected_chess_piece.position[1])].chess_piece.captured = True

        

    selected_chess_piece.position = destination_space
    selected_chess_piece.moved = True
    if destination_chess_piece != None:
        destination_chess_piece.position = ''
        destination_chess_piece.possible_moves = []
        destination_chess_piece.captured = True
        
def gameEndCheck():
    setBoard()
    possibleMoveRefresh_White()
    possibleMoveRefresh_Black()
    
    
    insufficient_mating_material_flag = True
    white_knight_count = 0
    white_bishop_count = 0

    for material in showMaterials('White'):
        if material == 'Knight':
            white_knight_count = white_knight_count + 1
        if material == 'Bishop':
            white_bishop_count = white_bishop_count + 1
        if material != 'Knight' and material != 'Bishop' and material != 'King':
            insufficient_mating_material_flag = False

    black_knight_count = 0
    black_bishop_count = 0

    for material in showMaterials('Black'):
        if material == 'Knight':
            black_knight_count = black_knight_count + 1
        if material == 'Bishop':
            black_bishop_count = black_bishop_count + 1
        if material != 'Knight' and material != 'Bishop' and material != 'King':
            insufficient_mating_material_flag = False

    if insufficient_mating_material_flag == True: 
        if ((white_knight_count == 0 and white_bishop_count == 0) or (white_knight_count == 0 and white_bishop_count == 1) or (white_knight_count == 1 and white_bishop_count == 0)) and ((black_knight_count == 0 and black_bishop_count == 0) or (black_knight_count == 0 and black_bishop_count == 1) or (black_knight_count == 1 and black_bishop_count == 0)):
            return 'Stalemate. Insufficient Mating Material.'

    if insufficient_mating_material_flag == True: 
        if ((white_knight_count == 2 and white_bishop_count == 0) and (black_knight_count == 0 and white_bishop_count == 0)) or ((white_knight_count == 0 and white_bishop_count == 0) and (black_knight_count == 2 and white_bishop_count == 0)):
            return 'Stalemate. Insufficient Mating Material.'

    
    if white_pawn_1.possible_moves == [] and white_pawn_2.possible_moves == [] and white_pawn_3.possible_moves == [] and white_pawn_4.possible_moves == [] and white_pawn_5.possible_moves == [] and white_pawn_6.possible_moves == [] and white_pawn_7.possible_moves == [] and white_pawn_8.possible_moves == [] and white_rook_1.possible_moves == [] and white_rook_2.possible_moves == [] and white_knight_1.possible_moves == [] and white_knight_2.possible_moves == [] and white_bishop_1.possible_moves == [] and white_bishop_2.possible_moves == [] and white_queen_1.possible_moves == [] and white_king_1.possible_moves == []:
        for chess_piece in [
        black_pawn_1,
        black_pawn_2,
        black_pawn_3,
        black_pawn_4,
        black_pawn_5,
        black_pawn_6,
        black_pawn_7,
        black_pawn_8,
        black_rook_1,
        black_rook_2,
        black_knight_1,
        black_knight_2,
        black_bishop_1,
        black_bishop_2,
        black_queen_1,
        black_king_1
    ]:
            for move in chess_piece.possible_moves:
                if move == white_king_1.position:
                    return 'Checkmate. Black won.'
        return 'Stalemate.'
            
    if black_pawn_1.possible_moves == [] and black_pawn_2.possible_moves == [] and black_pawn_3.possible_moves == [] and black_pawn_4.possible_moves == [] and black_pawn_5.possible_moves == [] and black_pawn_6.possible_moves == [] and black_pawn_7.possible_moves == [] and black_pawn_8.possible_moves == [] and black_rook_1.possible_moves == [] and black_rook_2.possible_moves == [] and black_knight_1.possible_moves == [] and black_knight_2.possible_moves == [] and black_bishop_1.possible_moves == [] and black_bishop_2.possible_moves == [] and black_queen_1.possible_moves == [] and black_king_1.possible_moves == []:
        for chess_piece in [
        white_pawn_1,
        white_pawn_2,
        white_pawn_3,
        white_pawn_4,
        white_pawn_5,
        white_pawn_6,
        white_pawn_7,
        white_pawn_8,
        white_rook_1,
        white_rook_2,
        white_knight_1,
        white_knight_2,
        white_bishop_1,
        white_bishop_2,
        white_queen_1,
        white_king_1
    ]:
            for move in chess_piece.possible_moves:
                if move == black_king_1.position:
                    return 'Checkmate. White won.'
        return 'Stalemate.'
                
    return ''
    
def turn(side):
    from IPython.display import clear_output
    
    setBoard()
    if side == 'White':
        possibleMoveRefresh_White()
    elif side == 'Black':
        possibleMoveRefresh_Black()
    
    selected_piece = ''
    step = 1
    error_text = ''
    while step != 3:
        
        if step == 1:
            clear_output()
            showBoardState()
            if error_text != '':
                print(error_text)
            input_value = input(side + "'s Turn. Choose a piece you want to move.")
            if len(input_value) != 2 or (input_value[0] == 'a' or input_value[0] == 'b' or input_value[0] == 'c' or input_value[0] == 'd' or input_value[0] == 'e' or input_value[0] == 'f' or input_value[0] == 'g' or input_value[0] == 'h') != True or (input_value[1] == '1' or input_value[1] == '2' or input_value[1] == '3' or input_value[1] == '4' or input_value[1] == '5' or input_value[1] == '6' or input_value[1] == '7' or input_value[1] == '8') != True:
                error_text = 'System Message: Invalid Input'
            elif globals()[input_value].chess_piece == None:
                error_text = 'System Message: There is no piece on that space.'
            elif globals()[input_value].chess_piece.side != side:
                error_text = "System Message: You cannot move an enemy's piece."
            else:
                selected_piece = globals()[input_value].chess_piece
                step = 2
                error_text = ''
                
        if step == 2:
            clear_output()
            showBoardState()
            if error_text != '':
                print(error_text)
            print('You have selected the ' + selected_piece.name + ' at ' + selected_piece.position + '.')
            print('Available moves: ' + str(selected_piece.possible_moves))
            input_value = input("Select a move for your piece. (type 'back' to reselect.)")
            if input_value == 'back':
                step = 1
                error_text = ''
            elif len(input_value) != 2 or (input_value[0] == 'a' or input_value[0] == 'b' or input_value[0] == 'c' or input_value[0] == 'd' or input_value[0] == 'e' or input_value[0] == 'f' or input_value[0] == 'g' or input_value[0] == 'h') != True or (input_value[1] == '1' or input_value[1] == '2' or input_value[1] == '3' or input_value[1] == '4' or input_value[1] == '5' or input_value[1] == '6' or input_value[1] == '7' or input_value[1] == '8') != True:
                error_text = 'System Message: Invalid Input'
            else:
                possible_move = False
                for move in selected_piece.possible_moves:
                    if move == input_value:
                        possible_move = True
                if possible_move == True:
                    step = 3
                    error_text = ''
                    movePiece(selected_piece.position, input_value)
                    clear_output()
                    setBoard()
                    showBoardState()
                else:
                    error_text = 'System Message: Inputted move is not in the list of possible moves.'
                    
        if step == 3:
            # Promotion
            if selected_piece.name == 'Pawn':
                if (selected_piece.side == 'White' and selected_piece.position[1] == '8') or (selected_piece.side == 'Black' and selected_piece.position[1] == '1'):
                    input_value = ''
                    while input_value != 'Queen' and input_value != 'Knight' and input_value != 'Rook' and input_value != 'Bishop': 
                        clear_output()
                        setBoard()
                        showBoardState()
                        print('Pawn Promotion:')
                        input_value = input('Type "Queen", "Knight", "Rook", or "Bishop" to promote your Pawn at ' + selected_piece.position)
                    selected_piece.name = input_value
            
            print('Turn End')

def startGame():
    # Piece Reset
    white_pawn_1 = ChessPiece("Pawn", 'White', 'a2', 1, [], False, False)
    white_pawn_2 = ChessPiece("Pawn", 'White', 'b2', 1, [], False, False)
    white_pawn_3 = ChessPiece("Pawn", 'White', 'c2', 1, [], False, False)
    white_pawn_4 = ChessPiece("Pawn", 'White', 'd2', 1, [], False, False)
    white_pawn_5 = ChessPiece("Pawn", 'White', 'e2', 1, [], False, False)
    white_pawn_6 = ChessPiece("Pawn", 'White', 'f2', 1, [], False, False)
    white_pawn_7 = ChessPiece("Pawn", 'White', 'g2', 1, [], False, False)
    white_pawn_8 = ChessPiece("Pawn", 'White', 'h2', 1, [], False, False)
    white_rook_1 = ChessPiece("Rook", 'White', 'a1', 5, [], False, False)
    white_rook_2 = ChessPiece("Rook", 'White', 'h1', 5, [], False, False)
    white_knight_1 = ChessPiece("Knight", 'White', 'b1', 3, [], False, False)
    white_knight_2 = ChessPiece("Knight", 'White', 'g1', 3, [], False, False)
    white_bishop_1 = ChessPiece("Bishop", 'White', 'c1', 3, [], False, False)
    white_bishop_2 = ChessPiece("Bishop", 'White', 'f1', 3, [], False, False)
    white_queen_1 = ChessPiece("Queen", 'White', 'd1', 9, [], False, False)
    white_king_1 = ChessPiece("King", 'White', 'e1', 100, [], False, False)

    black_pawn_1 = ChessPiece("Pawn", 'Black', 'a7', 1, [], False, False)
    black_pawn_2 = ChessPiece("Pawn", 'Black', 'b7', 1, [], False, False)
    black_pawn_3 = ChessPiece("Pawn", 'Black', 'c7', 1, [], False, False)
    black_pawn_4 = ChessPiece("Pawn", 'Black', 'd7', 1, [], False, False)
    black_pawn_5 = ChessPiece("Pawn", 'Black', 'e7', 1, [], False, False)
    black_pawn_6 = ChessPiece("Pawn", 'Black', 'f7', 1, [], False, False)
    black_pawn_7 = ChessPiece("Pawn", 'Black', 'g7', 1, [], False, False)
    black_pawn_8 = ChessPiece("Pawn", 'Black', 'h7', 1, [], False, False)
    black_rook_1 = ChessPiece("Rook", 'Black', 'a8', 5, [], False, False)
    black_rook_2 = ChessPiece("Rook", 'Black', 'h8', 5, [], False, False)
    black_knight_1 = ChessPiece("Knight", 'Black', 'b8', 3, [], False, False)
    black_knight_2 = ChessPiece("Knight", 'Black', 'g8', 3, [], False, False)
    black_bishop_1 = ChessPiece("Bishop", 'Black', 'c8', 3, [], False, False)
    black_bishop_2 = ChessPiece("Bishop", 'Black', 'f8', 3, [], False, False)
    black_queen_1 = ChessPiece("Queen", 'Black', 'd8', 9, [], False, False)
    black_king_1 = ChessPiece("King", 'Black', 'e8', 100, [], False, False)
    
    outcome = ''
    player_turn = 'White'
    while outcome == '':
        turn(player_turn)
        
        if player_turn == 'White':
            player_turn = 'Black'
        else:
            player_turn = 'White'
            
        outcome = gameEndCheck()
        if outcome != '':
            print(outcome)

startGame()


